{
 "cells": [
  {
   "cell_type": "markdown",
   "metadata": {},
   "source": [
    "# Starbucks Capstone Challenge - Data Understanding"
   ]
  },
  {
   "cell_type": "markdown",
   "metadata": {},
   "source": [
    "## Setup"
   ]
  },
  {
   "cell_type": "code",
   "execution_count": 1,
   "metadata": {},
   "outputs": [
    {
     "name": "stderr",
     "output_type": "stream",
     "text": [
      "ERROR: File \"setup.py\" or \"setup.cfg\" not found. Directory cannot be installed in editable mode: C:\\ProgramData\\scoop\\apps\\vscode\n"
     ]
    }
   ],
   "source": [
    "import sys\n",
    "\n",
    "!{sys.executable} -m pip install -e ../ --quiet"
   ]
  },
  {
   "cell_type": "code",
   "execution_count": 2,
   "metadata": {},
   "outputs": [],
   "source": [
    "import pandas as pd\n",
    "import numpy as np\n",
    "import matplotlib.pyplot as plt\n",
    "import seaborn as sns\n",
    "\n",
    "from sb_capstone.wrangling import (\n",
    "    clean_portfolio, \n",
    "    clean_profile, \n",
    "    clean_transcript,\n",
    "    s3_remove_outliers,\n",
    "    ChannelType\n",
    ")\n",
    "\n",
    "%matplotlib inline\n",
    "\n",
    "np.set_printoptions(suppress=True)\n",
    "base_color = sns.color_palette()[0]"
   ]
  },
  {
   "cell_type": "code",
   "execution_count": 3,
   "metadata": {},
   "outputs": [
    {
     "data": {
      "text/html": [
       "<div>\n",
       "<style scoped>\n",
       "    .dataframe tbody tr th:only-of-type {\n",
       "        vertical-align: middle;\n",
       "    }\n",
       "\n",
       "    .dataframe tbody tr th {\n",
       "        vertical-align: top;\n",
       "    }\n",
       "\n",
       "    .dataframe thead th {\n",
       "        text-align: right;\n",
       "    }\n",
       "</style>\n",
       "<table border=\"1\" class=\"dataframe\">\n",
       "  <thead>\n",
       "    <tr style=\"text-align: right;\">\n",
       "      <th></th>\n",
       "      <th>id</th>\n",
       "      <th>offer_type</th>\n",
       "      <th>channels</th>\n",
       "      <th>reward</th>\n",
       "      <th>difficulty</th>\n",
       "      <th>duration</th>\n",
       "    </tr>\n",
       "  </thead>\n",
       "  <tbody>\n",
       "    <tr>\n",
       "      <th>0</th>\n",
       "      <td>1</td>\n",
       "      <td>bogo</td>\n",
       "      <td>[email, mobile, social]</td>\n",
       "      <td>10</td>\n",
       "      <td>10</td>\n",
       "      <td>7</td>\n",
       "    </tr>\n",
       "    <tr>\n",
       "      <th>1</th>\n",
       "      <td>2</td>\n",
       "      <td>bogo</td>\n",
       "      <td>[web, email, mobile, social]</td>\n",
       "      <td>10</td>\n",
       "      <td>10</td>\n",
       "      <td>5</td>\n",
       "    </tr>\n",
       "    <tr>\n",
       "      <th>2</th>\n",
       "      <td>3</td>\n",
       "      <td>informational</td>\n",
       "      <td>[web, email, mobile]</td>\n",
       "      <td>0</td>\n",
       "      <td>0</td>\n",
       "      <td>4</td>\n",
       "    </tr>\n",
       "    <tr>\n",
       "      <th>3</th>\n",
       "      <td>4</td>\n",
       "      <td>bogo</td>\n",
       "      <td>[web, email, mobile]</td>\n",
       "      <td>5</td>\n",
       "      <td>5</td>\n",
       "      <td>7</td>\n",
       "    </tr>\n",
       "    <tr>\n",
       "      <th>4</th>\n",
       "      <td>5</td>\n",
       "      <td>discount</td>\n",
       "      <td>[web, email]</td>\n",
       "      <td>5</td>\n",
       "      <td>20</td>\n",
       "      <td>10</td>\n",
       "    </tr>\n",
       "  </tbody>\n",
       "</table>\n",
       "</div>"
      ],
      "text/plain": [
       "   id     offer_type                      channels  reward  difficulty  \\\n",
       "0   1           bogo       [email, mobile, social]      10          10   \n",
       "1   2           bogo  [web, email, mobile, social]      10          10   \n",
       "2   3  informational          [web, email, mobile]       0           0   \n",
       "3   4           bogo          [web, email, mobile]       5           5   \n",
       "4   5       discount                  [web, email]       5          20   \n",
       "\n",
       "   duration  \n",
       "0         7  \n",
       "1         5  \n",
       "2         4  \n",
       "3         7  \n",
       "4        10  "
      ]
     },
     "execution_count": 3,
     "metadata": {},
     "output_type": "execute_result"
    }
   ],
   "source": [
    "portfolio = pd.read_csv(\"../data/processed/portfolio.csv\")\n",
    "portfolio = clean_portfolio(portfolio)\n",
    "portfolio.head()"
   ]
  },
  {
   "cell_type": "code",
   "execution_count": 4,
   "metadata": {},
   "outputs": [
    {
     "data": {
      "text/html": [
       "<div>\n",
       "<style scoped>\n",
       "    .dataframe tbody tr th:only-of-type {\n",
       "        vertical-align: middle;\n",
       "    }\n",
       "\n",
       "    .dataframe tbody tr th {\n",
       "        vertical-align: top;\n",
       "    }\n",
       "\n",
       "    .dataframe thead th {\n",
       "        text-align: right;\n",
       "    }\n",
       "</style>\n",
       "<table border=\"1\" class=\"dataframe\">\n",
       "  <thead>\n",
       "    <tr style=\"text-align: right;\">\n",
       "      <th></th>\n",
       "      <th>id</th>\n",
       "      <th>gender</th>\n",
       "      <th>age</th>\n",
       "      <th>income</th>\n",
       "      <th>became_member_on</th>\n",
       "    </tr>\n",
       "  </thead>\n",
       "  <tbody>\n",
       "    <tr>\n",
       "      <th>0</th>\n",
       "      <td>1</td>\n",
       "      <td>NaN</td>\n",
       "      <td>NaN</td>\n",
       "      <td>NaN</td>\n",
       "      <td>2017-02-12</td>\n",
       "    </tr>\n",
       "    <tr>\n",
       "      <th>1</th>\n",
       "      <td>2</td>\n",
       "      <td>F</td>\n",
       "      <td>55.0</td>\n",
       "      <td>112000.0</td>\n",
       "      <td>2017-07-15</td>\n",
       "    </tr>\n",
       "    <tr>\n",
       "      <th>2</th>\n",
       "      <td>3</td>\n",
       "      <td>NaN</td>\n",
       "      <td>NaN</td>\n",
       "      <td>NaN</td>\n",
       "      <td>2018-07-12</td>\n",
       "    </tr>\n",
       "    <tr>\n",
       "      <th>3</th>\n",
       "      <td>4</td>\n",
       "      <td>F</td>\n",
       "      <td>75.0</td>\n",
       "      <td>100000.0</td>\n",
       "      <td>2017-05-09</td>\n",
       "    </tr>\n",
       "    <tr>\n",
       "      <th>4</th>\n",
       "      <td>5</td>\n",
       "      <td>NaN</td>\n",
       "      <td>NaN</td>\n",
       "      <td>NaN</td>\n",
       "      <td>2017-08-04</td>\n",
       "    </tr>\n",
       "  </tbody>\n",
       "</table>\n",
       "</div>"
      ],
      "text/plain": [
       "   id gender   age    income became_member_on\n",
       "0   1    NaN   NaN       NaN       2017-02-12\n",
       "1   2      F  55.0  112000.0       2017-07-15\n",
       "2   3    NaN   NaN       NaN       2018-07-12\n",
       "3   4      F  75.0  100000.0       2017-05-09\n",
       "4   5    NaN   NaN       NaN       2017-08-04"
      ]
     },
     "execution_count": 4,
     "metadata": {},
     "output_type": "execute_result"
    }
   ],
   "source": [
    "profile = pd.read_csv(\"../data/processed/profile.csv\")\n",
    "profile = clean_profile(profile)\n",
    "profile.head()"
   ]
  },
  {
   "cell_type": "code",
   "execution_count": 5,
   "metadata": {},
   "outputs": [
    {
     "data": {
      "text/html": [
       "<div>\n",
       "<style scoped>\n",
       "    .dataframe tbody tr th:only-of-type {\n",
       "        vertical-align: middle;\n",
       "    }\n",
       "\n",
       "    .dataframe tbody tr th {\n",
       "        vertical-align: top;\n",
       "    }\n",
       "\n",
       "    .dataframe thead th {\n",
       "        text-align: right;\n",
       "    }\n",
       "</style>\n",
       "<table border=\"1\" class=\"dataframe\">\n",
       "  <thead>\n",
       "    <tr style=\"text-align: right;\">\n",
       "      <th></th>\n",
       "      <th>person_id</th>\n",
       "      <th>event</th>\n",
       "      <th>time</th>\n",
       "      <th>offer_id</th>\n",
       "      <th>amount</th>\n",
       "      <th>reward</th>\n",
       "    </tr>\n",
       "  </thead>\n",
       "  <tbody>\n",
       "    <tr>\n",
       "      <th>0</th>\n",
       "      <td>4</td>\n",
       "      <td>offer_received</td>\n",
       "      <td>0</td>\n",
       "      <td>4</td>\n",
       "      <td>NaN</td>\n",
       "      <td>NaN</td>\n",
       "    </tr>\n",
       "    <tr>\n",
       "      <th>1</th>\n",
       "      <td>4</td>\n",
       "      <td>offer_viewed</td>\n",
       "      <td>6</td>\n",
       "      <td>4</td>\n",
       "      <td>NaN</td>\n",
       "      <td>NaN</td>\n",
       "    </tr>\n",
       "    <tr>\n",
       "      <th>2</th>\n",
       "      <td>4</td>\n",
       "      <td>transaction</td>\n",
       "      <td>132</td>\n",
       "      <td>0</td>\n",
       "      <td>19.89</td>\n",
       "      <td>NaN</td>\n",
       "    </tr>\n",
       "    <tr>\n",
       "      <th>3</th>\n",
       "      <td>4</td>\n",
       "      <td>offer_completed</td>\n",
       "      <td>132</td>\n",
       "      <td>4</td>\n",
       "      <td>NaN</td>\n",
       "      <td>5.0</td>\n",
       "    </tr>\n",
       "    <tr>\n",
       "      <th>4</th>\n",
       "      <td>4</td>\n",
       "      <td>transaction</td>\n",
       "      <td>144</td>\n",
       "      <td>0</td>\n",
       "      <td>17.78</td>\n",
       "      <td>NaN</td>\n",
       "    </tr>\n",
       "  </tbody>\n",
       "</table>\n",
       "</div>"
      ],
      "text/plain": [
       "   person_id            event  time offer_id  amount  reward\n",
       "0          4   offer_received     0        4     NaN     NaN\n",
       "1          4     offer_viewed     6        4     NaN     NaN\n",
       "2          4      transaction   132        0   19.89     NaN\n",
       "3          4  offer_completed   132        4     NaN     5.0\n",
       "4          4      transaction   144        0   17.78     NaN"
      ]
     },
     "execution_count": 5,
     "metadata": {},
     "output_type": "execute_result"
    }
   ],
   "source": [
    "transcript = pd.read_csv(\"../data/processed/transcript.csv\")\n",
    "transcript = clean_transcript(transcript)\n",
    "transcript.head()"
   ]
  },
  {
   "cell_type": "markdown",
   "metadata": {},
   "source": [
    "## Data Analysis"
   ]
  },
  {
   "cell_type": "markdown",
   "metadata": {},
   "source": [
    "### Understand Portfolio Table"
   ]
  },
  {
   "cell_type": "markdown",
   "metadata": {},
   "source": [
    "The `portfolio` table contains the offers and its details. This section aims to understand how it is setup and how conservative the setup are. We're going to look at if there are any relationship with regards to the rewards and difficulty with duration. We're going to see as well if there are any patterns in the data."
   ]
  },
  {
   "cell_type": "markdown",
   "metadata": {},
   "source": [
    "#### Univariate"
   ]
  },
  {
   "cell_type": "code",
   "execution_count": 6,
   "metadata": {},
   "outputs": [
    {
     "name": "stdout",
     "output_type": "stream",
     "text": [
      "<class 'pandas.core.frame.DataFrame'>\n",
      "RangeIndex: 10 entries, 0 to 9\n",
      "Data columns (total 6 columns):\n",
      " #   Column      Non-Null Count  Dtype   \n",
      "---  ------      --------------  -----   \n",
      " 0   id          10 non-null     int64   \n",
      " 1   offer_type  10 non-null     category\n",
      " 2   channels    10 non-null     object  \n",
      " 3   reward      10 non-null     int64   \n",
      " 4   difficulty  10 non-null     int64   \n",
      " 5   duration    10 non-null     int64   \n",
      "dtypes: category(1), int64(4), object(1)\n",
      "memory usage: 670.0+ bytes\n"
     ]
    }
   ],
   "source": [
    "portfolio.info()"
   ]
  },
  {
   "cell_type": "markdown",
   "metadata": {},
   "source": [
    "Only `10` offers made. No missing values.\n",
    "\n",
    "Since there are only ten items. We can perform visual inspection to the whole data and observe any patterns. We sorted by `duration`, `difficulty`, and `reward`."
   ]
  },
  {
   "cell_type": "code",
   "execution_count": 7,
   "metadata": {},
   "outputs": [
    {
     "data": {
      "text/html": [
       "<div>\n",
       "<style scoped>\n",
       "    .dataframe tbody tr th:only-of-type {\n",
       "        vertical-align: middle;\n",
       "    }\n",
       "\n",
       "    .dataframe tbody tr th {\n",
       "        vertical-align: top;\n",
       "    }\n",
       "\n",
       "    .dataframe thead th {\n",
       "        text-align: right;\n",
       "    }\n",
       "</style>\n",
       "<table border=\"1\" class=\"dataframe\">\n",
       "  <thead>\n",
       "    <tr style=\"text-align: right;\">\n",
       "      <th></th>\n",
       "      <th>id</th>\n",
       "      <th>offer_type</th>\n",
       "      <th>channels</th>\n",
       "      <th>reward</th>\n",
       "      <th>difficulty</th>\n",
       "      <th>duration</th>\n",
       "    </tr>\n",
       "  </thead>\n",
       "  <tbody>\n",
       "    <tr>\n",
       "      <th>4</th>\n",
       "      <td>5</td>\n",
       "      <td>discount</td>\n",
       "      <td>[web, email]</td>\n",
       "      <td>5</td>\n",
       "      <td>20</td>\n",
       "      <td>10</td>\n",
       "    </tr>\n",
       "    <tr>\n",
       "      <th>6</th>\n",
       "      <td>7</td>\n",
       "      <td>discount</td>\n",
       "      <td>[web, email, mobile, social]</td>\n",
       "      <td>2</td>\n",
       "      <td>10</td>\n",
       "      <td>10</td>\n",
       "    </tr>\n",
       "    <tr>\n",
       "      <th>0</th>\n",
       "      <td>1</td>\n",
       "      <td>bogo</td>\n",
       "      <td>[email, mobile, social]</td>\n",
       "      <td>10</td>\n",
       "      <td>10</td>\n",
       "      <td>7</td>\n",
       "    </tr>\n",
       "    <tr>\n",
       "      <th>9</th>\n",
       "      <td>10</td>\n",
       "      <td>discount</td>\n",
       "      <td>[web, email, mobile]</td>\n",
       "      <td>2</td>\n",
       "      <td>10</td>\n",
       "      <td>7</td>\n",
       "    </tr>\n",
       "    <tr>\n",
       "      <th>5</th>\n",
       "      <td>6</td>\n",
       "      <td>discount</td>\n",
       "      <td>[web, email, mobile, social]</td>\n",
       "      <td>3</td>\n",
       "      <td>7</td>\n",
       "      <td>7</td>\n",
       "    </tr>\n",
       "    <tr>\n",
       "      <th>3</th>\n",
       "      <td>4</td>\n",
       "      <td>bogo</td>\n",
       "      <td>[web, email, mobile]</td>\n",
       "      <td>5</td>\n",
       "      <td>5</td>\n",
       "      <td>7</td>\n",
       "    </tr>\n",
       "    <tr>\n",
       "      <th>1</th>\n",
       "      <td>2</td>\n",
       "      <td>bogo</td>\n",
       "      <td>[web, email, mobile, social]</td>\n",
       "      <td>10</td>\n",
       "      <td>10</td>\n",
       "      <td>5</td>\n",
       "    </tr>\n",
       "    <tr>\n",
       "      <th>8</th>\n",
       "      <td>9</td>\n",
       "      <td>bogo</td>\n",
       "      <td>[web, email, mobile, social]</td>\n",
       "      <td>5</td>\n",
       "      <td>5</td>\n",
       "      <td>5</td>\n",
       "    </tr>\n",
       "    <tr>\n",
       "      <th>2</th>\n",
       "      <td>3</td>\n",
       "      <td>informational</td>\n",
       "      <td>[web, email, mobile]</td>\n",
       "      <td>0</td>\n",
       "      <td>0</td>\n",
       "      <td>4</td>\n",
       "    </tr>\n",
       "    <tr>\n",
       "      <th>7</th>\n",
       "      <td>8</td>\n",
       "      <td>informational</td>\n",
       "      <td>[email, mobile, social]</td>\n",
       "      <td>0</td>\n",
       "      <td>0</td>\n",
       "      <td>3</td>\n",
       "    </tr>\n",
       "  </tbody>\n",
       "</table>\n",
       "</div>"
      ],
      "text/plain": [
       "   id     offer_type                      channels  reward  difficulty  \\\n",
       "4   5       discount                  [web, email]       5          20   \n",
       "6   7       discount  [web, email, mobile, social]       2          10   \n",
       "0   1           bogo       [email, mobile, social]      10          10   \n",
       "9  10       discount          [web, email, mobile]       2          10   \n",
       "5   6       discount  [web, email, mobile, social]       3           7   \n",
       "3   4           bogo          [web, email, mobile]       5           5   \n",
       "1   2           bogo  [web, email, mobile, social]      10          10   \n",
       "8   9           bogo  [web, email, mobile, social]       5           5   \n",
       "2   3  informational          [web, email, mobile]       0           0   \n",
       "7   8  informational       [email, mobile, social]       0           0   \n",
       "\n",
       "   duration  \n",
       "4        10  \n",
       "6        10  \n",
       "0         7  \n",
       "9         7  \n",
       "5         7  \n",
       "3         7  \n",
       "1         5  \n",
       "8         5  \n",
       "2         4  \n",
       "7         3  "
      ]
     },
     "execution_count": 7,
     "metadata": {},
     "output_type": "execute_result"
    }
   ],
   "source": [
    "portfolio.sort_values(by=[\"duration\", \"difficulty\", \"reward\"], ascending=False)"
   ]
  },
  {
   "cell_type": "markdown",
   "metadata": {},
   "source": [
    "Buy-One-Get-One (`bogo`) offer has the same `reward` and difficulty. Combinations varies and a bit conservative except for `bogo`. The `portfolio` table's most expensive visually are the `bogo` offers while the cheapest ones are the `informational` types.\n",
    "\n",
    "Next, is let's try to describe the `portfolio` table see if there are any glaring patterns."
   ]
  },
  {
   "cell_type": "code",
   "execution_count": 8,
   "metadata": {},
   "outputs": [
    {
     "data": {
      "text/html": [
       "<div>\n",
       "<style scoped>\n",
       "    .dataframe tbody tr th:only-of-type {\n",
       "        vertical-align: middle;\n",
       "    }\n",
       "\n",
       "    .dataframe tbody tr th {\n",
       "        vertical-align: top;\n",
       "    }\n",
       "\n",
       "    .dataframe thead th {\n",
       "        text-align: right;\n",
       "    }\n",
       "</style>\n",
       "<table border=\"1\" class=\"dataframe\">\n",
       "  <thead>\n",
       "    <tr style=\"text-align: right;\">\n",
       "      <th></th>\n",
       "      <th>id</th>\n",
       "      <th>offer_type</th>\n",
       "      <th>channels</th>\n",
       "      <th>reward</th>\n",
       "      <th>difficulty</th>\n",
       "      <th>duration</th>\n",
       "    </tr>\n",
       "  </thead>\n",
       "  <tbody>\n",
       "    <tr>\n",
       "      <th>count</th>\n",
       "      <td>10.00000</td>\n",
       "      <td>10</td>\n",
       "      <td>10</td>\n",
       "      <td>10.000000</td>\n",
       "      <td>10.000000</td>\n",
       "      <td>10.000000</td>\n",
       "    </tr>\n",
       "    <tr>\n",
       "      <th>unique</th>\n",
       "      <td>NaN</td>\n",
       "      <td>3</td>\n",
       "      <td>4</td>\n",
       "      <td>NaN</td>\n",
       "      <td>NaN</td>\n",
       "      <td>NaN</td>\n",
       "    </tr>\n",
       "    <tr>\n",
       "      <th>top</th>\n",
       "      <td>NaN</td>\n",
       "      <td>bogo</td>\n",
       "      <td>[web, email, mobile, social]</td>\n",
       "      <td>NaN</td>\n",
       "      <td>NaN</td>\n",
       "      <td>NaN</td>\n",
       "    </tr>\n",
       "    <tr>\n",
       "      <th>freq</th>\n",
       "      <td>NaN</td>\n",
       "      <td>4</td>\n",
       "      <td>4</td>\n",
       "      <td>NaN</td>\n",
       "      <td>NaN</td>\n",
       "      <td>NaN</td>\n",
       "    </tr>\n",
       "    <tr>\n",
       "      <th>mean</th>\n",
       "      <td>5.50000</td>\n",
       "      <td>NaN</td>\n",
       "      <td>NaN</td>\n",
       "      <td>4.200000</td>\n",
       "      <td>7.700000</td>\n",
       "      <td>6.500000</td>\n",
       "    </tr>\n",
       "    <tr>\n",
       "      <th>std</th>\n",
       "      <td>3.02765</td>\n",
       "      <td>NaN</td>\n",
       "      <td>NaN</td>\n",
       "      <td>3.583915</td>\n",
       "      <td>5.831905</td>\n",
       "      <td>2.321398</td>\n",
       "    </tr>\n",
       "    <tr>\n",
       "      <th>min</th>\n",
       "      <td>1.00000</td>\n",
       "      <td>NaN</td>\n",
       "      <td>NaN</td>\n",
       "      <td>0.000000</td>\n",
       "      <td>0.000000</td>\n",
       "      <td>3.000000</td>\n",
       "    </tr>\n",
       "    <tr>\n",
       "      <th>25%</th>\n",
       "      <td>3.25000</td>\n",
       "      <td>NaN</td>\n",
       "      <td>NaN</td>\n",
       "      <td>2.000000</td>\n",
       "      <td>5.000000</td>\n",
       "      <td>5.000000</td>\n",
       "    </tr>\n",
       "    <tr>\n",
       "      <th>50%</th>\n",
       "      <td>5.50000</td>\n",
       "      <td>NaN</td>\n",
       "      <td>NaN</td>\n",
       "      <td>4.000000</td>\n",
       "      <td>8.500000</td>\n",
       "      <td>7.000000</td>\n",
       "    </tr>\n",
       "    <tr>\n",
       "      <th>75%</th>\n",
       "      <td>7.75000</td>\n",
       "      <td>NaN</td>\n",
       "      <td>NaN</td>\n",
       "      <td>5.000000</td>\n",
       "      <td>10.000000</td>\n",
       "      <td>7.000000</td>\n",
       "    </tr>\n",
       "    <tr>\n",
       "      <th>max</th>\n",
       "      <td>10.00000</td>\n",
       "      <td>NaN</td>\n",
       "      <td>NaN</td>\n",
       "      <td>10.000000</td>\n",
       "      <td>20.000000</td>\n",
       "      <td>10.000000</td>\n",
       "    </tr>\n",
       "  </tbody>\n",
       "</table>\n",
       "</div>"
      ],
      "text/plain": [
       "              id offer_type                      channels     reward  \\\n",
       "count   10.00000         10                            10  10.000000   \n",
       "unique       NaN          3                             4        NaN   \n",
       "top          NaN       bogo  [web, email, mobile, social]        NaN   \n",
       "freq         NaN          4                             4        NaN   \n",
       "mean     5.50000        NaN                           NaN   4.200000   \n",
       "std      3.02765        NaN                           NaN   3.583915   \n",
       "min      1.00000        NaN                           NaN   0.000000   \n",
       "25%      3.25000        NaN                           NaN   2.000000   \n",
       "50%      5.50000        NaN                           NaN   4.000000   \n",
       "75%      7.75000        NaN                           NaN   5.000000   \n",
       "max     10.00000        NaN                           NaN  10.000000   \n",
       "\n",
       "        difficulty   duration  \n",
       "count    10.000000  10.000000  \n",
       "unique         NaN        NaN  \n",
       "top            NaN        NaN  \n",
       "freq           NaN        NaN  \n",
       "mean      7.700000   6.500000  \n",
       "std       5.831905   2.321398  \n",
       "min       0.000000   3.000000  \n",
       "25%       5.000000   5.000000  \n",
       "50%       8.500000   7.000000  \n",
       "75%      10.000000   7.000000  \n",
       "max      20.000000  10.000000  "
      ]
     },
     "execution_count": 8,
     "metadata": {},
     "output_type": "execute_result"
    }
   ],
   "source": [
    "portfolio.describe(include=\"all\")"
   ]
  },
  {
   "cell_type": "markdown",
   "metadata": {},
   "source": [
    "A few notable items here:\n",
    "\n",
    "* Rewards are up to 10 and difficulty is up to 20. Perhaps this make sense, as the price of coffee would probably on that range.\n",
    "* Top channel used includes all media (`web`, `email`, `mobile`, `social`)"
   ]
  },
  {
   "cell_type": "code",
   "execution_count": 9,
   "metadata": {},
   "outputs": [
    {
     "data": {
      "image/png": "[encoded data removed]",
      "text/plain": [
       "<Figure size 432x288 with 1 Axes>"
      ]
     },
     "metadata": {
      "needs_background": "light"
     },
     "output_type": "display_data"
    }
   ],
   "source": [
    "portfolio.offer_type.value_counts().plot(kind=\"bar\");"
   ]
  },
  {
   "cell_type": "markdown",
   "metadata": {},
   "source": [
    "Balance distribution of different offer types, 4 `bogo` and `discount` offer types and 2 `informational`.\n",
    "\n",
    "Next we'll look at the different channels and how are they distributed."
   ]
  },
  {
   "cell_type": "code",
   "execution_count": 10,
   "metadata": {},
   "outputs": [
    {
     "data": {
      "text/plain": [
       "email     10\n",
       "mobile     9\n",
       "web        8\n",
       "social     6\n",
       "Name: channels, dtype: int64"
      ]
     },
     "execution_count": 10,
     "metadata": {},
     "output_type": "execute_result"
    }
   ],
   "source": [
    "portfolio.channels.explode().astype(ChannelType).value_counts()"
   ]
  },
  {
   "cell_type": "markdown",
   "metadata": {},
   "source": [
    "`email` and `mobile` tops the list."
   ]
  },
  {
   "cell_type": "markdown",
   "metadata": {},
   "source": [
    "#### Bivariate and Multivariate"
   ]
  },
  {
   "cell_type": "markdown",
   "metadata": {},
   "source": [
    "Let's look at which offer in the portfolio table is the most expensive and the cheapest."
   ]
  },
  {
   "cell_type": "code",
   "execution_count": 11,
   "metadata": {},
   "outputs": [
    {
     "data": {
      "image/png": "[encoded data removed]",
      "text/plain": [
       "<Figure size 432x288 with 1 Axes>"
      ]
     },
     "metadata": {
      "needs_background": "light"
     },
     "output_type": "display_data"
    }
   ],
   "source": [
    "portfolio_price = portfolio.copy()\n",
    "\n",
    "portfolio_price[\"reward_pct\"] = (portfolio_price.reward/portfolio_price.difficulty).fillna(0)\n",
    "portfolio_price.reward_pct.plot(kind=\"bar\");"
   ]
  },
  {
   "cell_type": "code",
   "execution_count": 12,
   "metadata": {},
   "outputs": [
    {
     "data": {
      "image/png": "[encoded data removed]",
      "text/plain": [
       "<Figure size 432x288 with 1 Axes>"
      ]
     },
     "metadata": {
      "needs_background": "light"
     },
     "output_type": "display_data"
    }
   ],
   "source": [
    "portfolio_price[\"reward_ot\"] = portfolio_price.reward_pct * portfolio_price.duration\n",
    "portfolio_price.reward_ot.plot(kind=\"bar\");"
   ]
  },
  {
   "cell_type": "markdown",
   "metadata": {},
   "source": [
    "`bogo` offers are of course the more expensive ones. When we add duration, `bogo` offers are still the most expensive and we can see as well which one stands out as they are ran longer.\n",
    "\n",
    "We also don't have a price tag on how expensive each channels are, but we can perhaps pull out which one are used mostly with aspect of duration."
   ]
  },
  {
   "cell_type": "code",
   "execution_count": 13,
   "metadata": {},
   "outputs": [
    {
     "data": {
      "image/png": "[encoded data removed]",
      "text/plain": [
       "<Figure size 432x288 with 1 Axes>"
      ]
     },
     "metadata": {
      "needs_background": "light"
     },
     "output_type": "display_data"
    }
   ],
   "source": [
    "portfolio_price \\\n",
    "    .explode(column=\"channels\") \\\n",
    "    .groupby(\"channels\") \\\n",
    "    .duration \\\n",
    "    .sum() \\\n",
    "    .plot(kind=\"bar\");"
   ]
  },
  {
   "cell_type": "markdown",
   "metadata": {},
   "source": [
    "`email` is the most used channel based on duration. This may tell us story on which channel is easier/cheaper to implement."
   ]
  },
  {
   "cell_type": "markdown",
   "metadata": {},
   "source": [
    "### Understand Profile Table"
   ]
  },
  {
   "cell_type": "markdown",
   "metadata": {},
   "source": [
    "Profile contains short description of customers under study. We'll try to understand types of customers we are trying to study.\n",
    "\n",
    "Let's look first what data are available and some summary."
   ]
  },
  {
   "cell_type": "markdown",
   "metadata": {},
   "source": [
    "#### Univariate"
   ]
  },
  {
   "cell_type": "code",
   "execution_count": 14,
   "metadata": {},
   "outputs": [
    {
     "name": "stdout",
     "output_type": "stream",
     "text": [
      "<class 'pandas.core.frame.DataFrame'>\n",
      "RangeIndex: 17000 entries, 0 to 16999\n",
      "Data columns (total 5 columns):\n",
      " #   Column            Non-Null Count  Dtype         \n",
      "---  ------            --------------  -----         \n",
      " 0   id                17000 non-null  int64         \n",
      " 1   gender            14825 non-null  category      \n",
      " 2   age               14825 non-null  float64       \n",
      " 3   income            14825 non-null  float64       \n",
      " 4   became_member_on  17000 non-null  datetime64[ns]\n",
      "dtypes: category(1), datetime64[ns](1), float64(2), int64(1)\n",
      "memory usage: 548.1 KB\n"
     ]
    }
   ],
   "source": [
    "profile.info()"
   ]
  },
  {
   "cell_type": "code",
   "execution_count": 15,
   "metadata": {},
   "outputs": [
    {
     "data": {
      "text/html": [
       "<div>\n",
       "<style scoped>\n",
       "    .dataframe tbody tr th:only-of-type {\n",
       "        vertical-align: middle;\n",
       "    }\n",
       "\n",
       "    .dataframe tbody tr th {\n",
       "        vertical-align: top;\n",
       "    }\n",
       "\n",
       "    .dataframe thead th {\n",
       "        text-align: right;\n",
       "    }\n",
       "</style>\n",
       "<table border=\"1\" class=\"dataframe\">\n",
       "  <thead>\n",
       "    <tr style=\"text-align: right;\">\n",
       "      <th></th>\n",
       "      <th>id</th>\n",
       "      <th>gender</th>\n",
       "      <th>age</th>\n",
       "      <th>income</th>\n",
       "      <th>became_member_on</th>\n",
       "    </tr>\n",
       "  </thead>\n",
       "  <tbody>\n",
       "    <tr>\n",
       "      <th>count</th>\n",
       "      <td>17000.000000</td>\n",
       "      <td>14825</td>\n",
       "      <td>14825.000000</td>\n",
       "      <td>14825.000000</td>\n",
       "      <td>17000</td>\n",
       "    </tr>\n",
       "    <tr>\n",
       "      <th>unique</th>\n",
       "      <td>NaN</td>\n",
       "      <td>3</td>\n",
       "      <td>NaN</td>\n",
       "      <td>NaN</td>\n",
       "      <td>NaN</td>\n",
       "    </tr>\n",
       "    <tr>\n",
       "      <th>top</th>\n",
       "      <td>NaN</td>\n",
       "      <td>M</td>\n",
       "      <td>NaN</td>\n",
       "      <td>NaN</td>\n",
       "      <td>NaN</td>\n",
       "    </tr>\n",
       "    <tr>\n",
       "      <th>freq</th>\n",
       "      <td>NaN</td>\n",
       "      <td>8484</td>\n",
       "      <td>NaN</td>\n",
       "      <td>NaN</td>\n",
       "      <td>NaN</td>\n",
       "    </tr>\n",
       "    <tr>\n",
       "      <th>mean</th>\n",
       "      <td>8500.500000</td>\n",
       "      <td>NaN</td>\n",
       "      <td>54.393524</td>\n",
       "      <td>65404.991568</td>\n",
       "      <td>2017-02-23 13:12:10.164706048</td>\n",
       "    </tr>\n",
       "    <tr>\n",
       "      <th>min</th>\n",
       "      <td>1.000000</td>\n",
       "      <td>NaN</td>\n",
       "      <td>18.000000</td>\n",
       "      <td>30000.000000</td>\n",
       "      <td>2013-07-29 00:00:00</td>\n",
       "    </tr>\n",
       "    <tr>\n",
       "      <th>25%</th>\n",
       "      <td>4250.750000</td>\n",
       "      <td>NaN</td>\n",
       "      <td>42.000000</td>\n",
       "      <td>49000.000000</td>\n",
       "      <td>2016-05-26 00:00:00</td>\n",
       "    </tr>\n",
       "    <tr>\n",
       "      <th>50%</th>\n",
       "      <td>8500.500000</td>\n",
       "      <td>NaN</td>\n",
       "      <td>55.000000</td>\n",
       "      <td>64000.000000</td>\n",
       "      <td>2017-08-02 00:00:00</td>\n",
       "    </tr>\n",
       "    <tr>\n",
       "      <th>75%</th>\n",
       "      <td>12750.250000</td>\n",
       "      <td>NaN</td>\n",
       "      <td>66.000000</td>\n",
       "      <td>80000.000000</td>\n",
       "      <td>2017-12-30 00:00:00</td>\n",
       "    </tr>\n",
       "    <tr>\n",
       "      <th>max</th>\n",
       "      <td>17000.000000</td>\n",
       "      <td>NaN</td>\n",
       "      <td>101.000000</td>\n",
       "      <td>120000.000000</td>\n",
       "      <td>2018-07-26 00:00:00</td>\n",
       "    </tr>\n",
       "    <tr>\n",
       "      <th>std</th>\n",
       "      <td>4907.621624</td>\n",
       "      <td>NaN</td>\n",
       "      <td>17.383705</td>\n",
       "      <td>21598.299410</td>\n",
       "      <td>NaN</td>\n",
       "    </tr>\n",
       "  </tbody>\n",
       "</table>\n",
       "</div>"
      ],
      "text/plain": [
       "                  id gender           age         income  \\\n",
       "count   17000.000000  14825  14825.000000   14825.000000   \n",
       "unique           NaN      3           NaN            NaN   \n",
       "top              NaN      M           NaN            NaN   \n",
       "freq             NaN   8484           NaN            NaN   \n",
       "mean     8500.500000    NaN     54.393524   65404.991568   \n",
       "min         1.000000    NaN     18.000000   30000.000000   \n",
       "25%      4250.750000    NaN     42.000000   49000.000000   \n",
       "50%      8500.500000    NaN     55.000000   64000.000000   \n",
       "75%     12750.250000    NaN     66.000000   80000.000000   \n",
       "max     17000.000000    NaN    101.000000  120000.000000   \n",
       "std      4907.621624    NaN     17.383705   21598.299410   \n",
       "\n",
       "                     became_member_on  \n",
       "count                           17000  \n",
       "unique                            NaN  \n",
       "top                               NaN  \n",
       "freq                              NaN  \n",
       "mean    2017-02-23 13:12:10.164706048  \n",
       "min               2013-07-29 00:00:00  \n",
       "25%               2016-05-26 00:00:00  \n",
       "50%               2017-08-02 00:00:00  \n",
       "75%               2017-12-30 00:00:00  \n",
       "max               2018-07-26 00:00:00  \n",
       "std                               NaN  "
      ]
     },
     "execution_count": 15,
     "metadata": {},
     "output_type": "execute_result"
    }
   ],
   "source": [
    "profile.describe(include=\"all\", datetime_is_numeric=True)"
   ]
  },
  {
   "cell_type": "markdown",
   "metadata": {},
   "source": [
    "Profile features included are `age`, `gender`, `income`, `become_member_on`. There are missing values in `gender`, `age` and `income`, and they have the same amount of missing values. Are the missing values attributed to the same customer?"
   ]
  },
  {
   "cell_type": "code",
   "execution_count": 16,
   "metadata": {},
   "outputs": [
    {
     "data": {
      "text/html": [
       "<div>\n",
       "<style scoped>\n",
       "    .dataframe tbody tr th:only-of-type {\n",
       "        vertical-align: middle;\n",
       "    }\n",
       "\n",
       "    .dataframe tbody tr th {\n",
       "        vertical-align: top;\n",
       "    }\n",
       "\n",
       "    .dataframe thead th {\n",
       "        text-align: right;\n",
       "    }\n",
       "</style>\n",
       "<table border=\"1\" class=\"dataframe\">\n",
       "  <thead>\n",
       "    <tr style=\"text-align: right;\">\n",
       "      <th></th>\n",
       "      <th>id</th>\n",
       "      <th>became_member_on</th>\n",
       "    </tr>\n",
       "  </thead>\n",
       "  <tbody>\n",
       "    <tr>\n",
       "      <th>count</th>\n",
       "      <td>2175.000000</td>\n",
       "      <td>2175</td>\n",
       "    </tr>\n",
       "    <tr>\n",
       "      <th>mean</th>\n",
       "      <td>8517.805517</td>\n",
       "      <td>2017-03-29 19:53:42.620689920</td>\n",
       "    </tr>\n",
       "    <tr>\n",
       "      <th>min</th>\n",
       "      <td>1.000000</td>\n",
       "      <td>2013-08-02 00:00:00</td>\n",
       "    </tr>\n",
       "    <tr>\n",
       "      <th>25%</th>\n",
       "      <td>4006.500000</td>\n",
       "      <td>2016-07-04 12:00:00</td>\n",
       "    </tr>\n",
       "    <tr>\n",
       "      <th>50%</th>\n",
       "      <td>8542.000000</td>\n",
       "      <td>2017-07-31 00:00:00</td>\n",
       "    </tr>\n",
       "    <tr>\n",
       "      <th>75%</th>\n",
       "      <td>12855.000000</td>\n",
       "      <td>2017-12-26 00:00:00</td>\n",
       "    </tr>\n",
       "    <tr>\n",
       "      <th>max</th>\n",
       "      <td>16995.000000</td>\n",
       "      <td>2018-07-26 00:00:00</td>\n",
       "    </tr>\n",
       "    <tr>\n",
       "      <th>std</th>\n",
       "      <td>4985.473324</td>\n",
       "      <td>NaN</td>\n",
       "    </tr>\n",
       "  </tbody>\n",
       "</table>\n",
       "</div>"
      ],
      "text/plain": [
       "                 id               became_member_on\n",
       "count   2175.000000                           2175\n",
       "mean    8517.805517  2017-03-29 19:53:42.620689920\n",
       "min        1.000000            2013-08-02 00:00:00\n",
       "25%     4006.500000            2016-07-04 12:00:00\n",
       "50%     8542.000000            2017-07-31 00:00:00\n",
       "75%    12855.000000            2017-12-26 00:00:00\n",
       "max    16995.000000            2018-07-26 00:00:00\n",
       "std     4985.473324                            NaN"
      ]
     },
     "execution_count": 16,
     "metadata": {},
     "output_type": "execute_result"
    }
   ],
   "source": [
    "null_profiles = profile[ \\\n",
    "        profile.gender.isna() & \\\n",
    "        profile.age.isna() & \\\n",
    "        profile.income.isna()] \\\n",
    "        [[\"id\", \"gender\", \"became_member_on\"]] \n",
    "\n",
    "null_profiles.describe(datetime_is_numeric=True)"
   ]
  },
  {
   "cell_type": "code",
   "execution_count": 17,
   "metadata": {},
   "outputs": [
    {
     "name": "stdout",
     "output_type": "stream",
     "text": [
      "Number of customers with missing gender: 2175\n",
      "Number of customers with missing gender, age, and income: 2175\n"
     ]
    }
   ],
   "source": [
    "missing_gender = len(profile[profile.gender.isna()])\n",
    "all_missing = len(null_profiles) \n",
    "\n",
    "print(f\"Number of customers with missing gender: {missing_gender}\")\n",
    "print(f\"Number of customers with missing gender, age, and income: {missing_gender}\")"
   ]
  },
  {
   "cell_type": "markdown",
   "metadata": {},
   "source": [
    "Looks like when customer has missing gender, it goes to say that age and income are also missing. We'll note this information for now. The question, is it safe to remove them? We'll try to understand further the data.\n",
    "\n",
    "Let's look more closely at the `gender` data."
   ]
  },
  {
   "cell_type": "code",
   "execution_count": 18,
   "metadata": {},
   "outputs": [
    {
     "data": {
      "text/plain": [
       "M    0.572277\n",
       "F    0.413423\n",
       "O    0.014300\n",
       "Name: gender, dtype: float64"
      ]
     },
     "execution_count": 18,
     "metadata": {},
     "output_type": "execute_result"
    }
   ],
   "source": [
    "profile.gender.value_counts(normalize=True)"
   ]
  },
  {
   "cell_type": "code",
   "execution_count": 19,
   "metadata": {},
   "outputs": [
    {
     "data": {
      "image/png": "[encoded data removed]",
      "text/plain": [
       "<Figure size 432x288 with 1 Axes>"
      ]
     },
     "metadata": {
      "needs_background": "light"
     },
     "output_type": "display_data"
    }
   ],
   "source": [
    "profile.gender.value_counts(normalize=True).plot(kind=\"bar\");"
   ]
  },
  {
   "cell_type": "markdown",
   "metadata": {},
   "source": [
    "There are more male customers (57%) than female (41%) but not that much. A bit more than 1% are unspecified.\n",
    "\n",
    "Let's decribe the `age` data."
   ]
  },
  {
   "cell_type": "code",
   "execution_count": 20,
   "metadata": {},
   "outputs": [
    {
     "data": {
      "image/png": "[encoded data removed]",
      "text/plain": [
       "<Figure size 432x288 with 1 Axes>"
      ]
     },
     "metadata": {
      "needs_background": "light"
     },
     "output_type": "display_data"
    }
   ],
   "source": [
    "profile.age.hist(bins=30);"
   ]
  },
  {
   "cell_type": "code",
   "execution_count": 21,
   "metadata": {},
   "outputs": [
    {
     "data": {
      "text/plain": [
       "(54.39352445193929, 55.0, 58.0)"
      ]
     },
     "execution_count": 21,
     "metadata": {},
     "output_type": "execute_result"
    }
   ],
   "source": [
    "profile.age.mean(), profile.age.median(), profile.age.mode()[0]"
   ]
  },
  {
   "cell_type": "markdown",
   "metadata": {},
   "source": [
    "Age has normal distribution (symmetrical), mostly from 50's to 60's. It's also inline with the global statistics. (https://www.statista.com/statistics/250091/coffee-drinking-consumers-in-the-us-by-age-group-2010/)\n",
    "\n",
    "Expanding our analysis on age, we can look at the age groups."
   ]
  },
  {
   "cell_type": "code",
   "execution_count": 22,
   "metadata": {},
   "outputs": [
    {
     "data": {
      "image/png": "[encoded data removed]",
      "text/plain": [
       "<Figure size 432x288 with 1 Axes>"
      ]
     },
     "metadata": {
      "needs_background": "light"
     },
     "output_type": "display_data"
    }
   ],
   "source": [
    "profile_age = profile.copy()\n",
    "profile_age[\"group\"] = pd.cut(profile_age.age, bins=[18, 25, 40, 60, 101], labels=[\"young\", \"adult\", \"middle_age\", \"old\"])\n",
    "\n",
    "profile_age.group.value_counts().sort_index(axis=0).plot(kind=\"bar\");"
   ]
  },
  {
   "cell_type": "code",
   "execution_count": 23,
   "metadata": {},
   "outputs": [
    {
     "data": {
      "image/png": "[encoded data removed]",
      "text/plain": [
       "<Figure size 432x288 with 1 Axes>"
      ]
     },
     "metadata": {
      "needs_background": "light"
     },
     "output_type": "display_data"
    }
   ],
   "source": [
    "year = 2018\n",
    "\n",
    "profile_age[\"generation\"] = pd.cut( \\\n",
    "    profile_age.age, \\\n",
    "    bins=[18, year-1997, year-1981, year-1965, year-1946, 101], \\\n",
    "    labels=[\"gen_z\", \"millenials\", \"gen_x\", \"boomers\", \"silent\"] \\\n",
    ")\n",
    "\n",
    "profile_age.generation.value_counts().sort_index(axis=0).plot(kind=\"bar\");"
   ]
  },
  {
   "cell_type": "markdown",
   "metadata": {},
   "source": [
    "It's really noticeable that as you grow older, you like coffee more. The graphs shows that `middle_age` adult and `boomers` (40-60) are the ones mostly who likes coffee."
   ]
  },
  {
   "cell_type": "code",
   "execution_count": 24,
   "metadata": {},
   "outputs": [
    {
     "data": {
      "image/png": "[encoded data removed]",
      "text/plain": [
       "<Figure size 432x288 with 1 Axes>"
      ]
     },
     "metadata": {
      "needs_background": "light"
     },
     "output_type": "display_data"
    }
   ],
   "source": [
    "profile.income.hist(bins=30);"
   ]
  },
  {
   "cell_type": "code",
   "execution_count": 25,
   "metadata": {},
   "outputs": [
    {
     "data": {
      "text/plain": [
       "(65404.9915682968, 64000.0, 73000.0)"
      ]
     },
     "execution_count": 25,
     "metadata": {},
     "output_type": "execute_result"
    }
   ],
   "source": [
    "profile.income.mean(), profile.income.median(), profile.income.mode()[0]"
   ]
  },
  {
   "cell_type": "markdown",
   "metadata": {},
   "source": [
    "Income distribution is right-skewed. This is true, since having Starbucks coffee appeals more to premium customers.\n",
    "\n",
    "Next is the membership date. This is perhaps one of the important information we can focus more. Becoming a member, means we can get more customer profile and we can fine tune further our offers later."
   ]
  },
  {
   "cell_type": "code",
   "execution_count": 26,
   "metadata": {},
   "outputs": [
    {
     "data": {
      "text/plain": [
       "2017    0.380529\n",
       "2018    0.246941\n",
       "2016    0.207412\n",
       "2015    0.107647\n",
       "2014    0.040647\n",
       "2013    0.016824\n",
       "Name: became_member_on, dtype: float64"
      ]
     },
     "execution_count": 26,
     "metadata": {},
     "output_type": "execute_result"
    }
   ],
   "source": [
    "profile.became_member_on.dt.year.value_counts(normalize=True)"
   ]
  },
  {
   "cell_type": "code",
   "execution_count": 27,
   "metadata": {},
   "outputs": [
    {
     "data": {
      "image/png": "[encoded data removed]",
      "text/plain": [
       "<Figure size 432x288 with 1 Axes>"
      ]
     },
     "metadata": {
      "needs_background": "light"
     },
     "output_type": "display_data"
    }
   ],
   "source": [
    "profile.became_member_on.dt.year.value_counts(normalize=True).sort_index(axis=0).plot(kind=\"bar\");"
   ]
  },
  {
   "cell_type": "code",
   "execution_count": 28,
   "metadata": {},
   "outputs": [
    {
     "data": {
      "text/plain": [
       "8     0.094706\n",
       "10    0.092235\n",
       "12    0.091529\n",
       "1     0.089706\n",
       "9     0.089118\n",
       "11    0.085235\n",
       "7     0.079941\n",
       "3     0.078176\n",
       "4     0.077353\n",
       "5     0.076882\n",
       "6     0.074412\n",
       "2     0.070706\n",
       "Name: became_member_on, dtype: float64"
      ]
     },
     "execution_count": 28,
     "metadata": {},
     "output_type": "execute_result"
    }
   ],
   "source": [
    "profile.became_member_on.dt.month.value_counts(normalize=True)"
   ]
  },
  {
   "cell_type": "code",
   "execution_count": 29,
   "metadata": {},
   "outputs": [
    {
     "data": {
      "image/png": "[encoded data removed]",
      "text/plain": [
       "<Figure size 432x288 with 1 Axes>"
      ]
     },
     "metadata": {
      "needs_background": "light"
     },
     "output_type": "display_data"
    }
   ],
   "source": [
    "profile.became_member_on.dt.month.value_counts(normalize=True).sort_index(axis=0).plot(kind=\"bar\");"
   ]
  },
  {
   "cell_type": "code",
   "execution_count": 30,
   "metadata": {},
   "outputs": [
    {
     "data": {
      "image/png": "[encoded data removed]",
      "text/plain": [
       "<Figure size 432x288 with 2 Axes>"
      ]
     },
     "metadata": {
      "needs_background": "light"
     },
     "output_type": "display_data"
    }
   ],
   "source": [
    "profile_date = profile.copy()\n",
    "profile_date[\"month\"] = profile.became_member_on.dt.month\n",
    "profile_date[\"year\"] = profile.became_member_on.dt.year\n",
    "\n",
    "sns.heatmap( \\\n",
    "    profile_date \\\n",
    "        .groupby(by=[\"year\", \"month\"]) \\\n",
    "        .became_member_on \\\n",
    "        .count() \\\n",
    "        .reset_index() \\\n",
    "        .pivot(\"month\", \"year\", \"became_member_on\"), \\\n",
    "    cmap=\"YlGnBu\" \\\n",
    ");"
   ]
  },
  {
   "cell_type": "markdown",
   "metadata": {},
   "source": [
    "Membership dates from early 2013 to mid 2018. The data did not show however, if the offer started along those dates. We'll note that for now.\n",
    "\n",
    "Most joiners are during 2017 (38%), and we've seen membership growth trends which only dip in 2018. New joiners are distributed almost equally on different months.\n",
    "\n",
    "There's also burst of joiners from August 2017 to January 2018."
   ]
  },
  {
   "cell_type": "markdown",
   "metadata": {},
   "source": [
    "#### Bivariate and Multivariate"
   ]
  },
  {
   "cell_type": "markdown",
   "metadata": {},
   "source": [
    "Let's start first with how `gender` distribution with `age`."
   ]
  },
  {
   "cell_type": "code",
   "execution_count": 31,
   "metadata": {},
   "outputs": [
    {
     "data": {
      "image/png": "[encoded data removed]",
      "text/plain": [
       "<Figure size 432x288 with 1 Axes>"
      ]
     },
     "metadata": {
      "needs_background": "light"
     },
     "output_type": "display_data"
    }
   ],
   "source": [
    "for g in profile.gender.dropna().unique():\n",
    "    plt.hist(profile[profile.gender == g].age, bins=30, alpha=0.5, label=g)\n",
    "\n",
    "plt.legend()\n",
    "plt.show()"
   ]
  },
  {
   "cell_type": "markdown",
   "metadata": {},
   "source": [
    "The normal distribution is more visible with `Female`, but visually, the peaks are still the same with `male`.\n",
    "\n",
    "On the topic of `gender`, let's look closely its distribution with `income`."
   ]
  },
  {
   "cell_type": "code",
   "execution_count": 32,
   "metadata": {},
   "outputs": [
    {
     "data": {
      "image/png": "[encoded data removed]",
      "text/plain": [
       "<Figure size 432x288 with 1 Axes>"
      ]
     },
     "metadata": {
      "needs_background": "light"
     },
     "output_type": "display_data"
    }
   ],
   "source": [
    "for g in profile.gender.dropna().unique():\n",
    "    plt.hist(profile[profile.gender == g].income, bins=30, alpha=0.5, label=g)\n",
    "\n",
    "plt.legend()\n",
    "plt.show()"
   ]
  },
  {
   "cell_type": "markdown",
   "metadata": {},
   "source": [
    "Again the distribution is more normal with `Female` customers, and the peak is still the same. This also means that at lower income bracket, men are more likely to spend more than women.\n",
    "\n",
    "Now, let's see the distribution of gender for each year."
   ]
  },
  {
   "cell_type": "code",
   "execution_count": 33,
   "metadata": {},
   "outputs": [
    {
     "data": {
      "image/png": "[encoded data removed]",
      "text/plain": [
       "<Figure size 404.625x360 with 1 Axes>"
      ]
     },
     "metadata": {
      "needs_background": "light"
     },
     "output_type": "display_data"
    }
   ],
   "source": [
    "profile_date = profile.copy()\n",
    "profile_date[\"membership_year\"] = profile_date.became_member_on.dt.year\n",
    "profile_date[\"membership_month\"] = profile_date.became_member_on.dt.month\n",
    "\n",
    "sns.catplot(data = profile_date, kind=\"count\", x=\"membership_year\", hue=\"gender\", ci=None);"
   ]
  },
  {
   "cell_type": "code",
   "execution_count": 34,
   "metadata": {},
   "outputs": [
    {
     "data": {
      "image/png": "[encoded data removed]",
      "text/plain": [
       "<Figure size 404.625x360 with 1 Axes>"
      ]
     },
     "metadata": {
      "needs_background": "light"
     },
     "output_type": "display_data"
    }
   ],
   "source": [
    "sns.catplot(data = profile_date, kind=\"count\", x=\"membership_month\", hue=\"gender\", ci=None);"
   ]
  },
  {
   "cell_type": "markdown",
   "metadata": {},
   "source": [
    "A bit consistent with what we've seen so far. On the yearly membership view, `Female` customers consistently caught up from 2013 to 2016, after that `Male` coffee drinkers took a huge growth in 2017 and 2018.\n",
    "\n",
    "Moving on from gender, let's understand better the relationship of age and income."
   ]
  },
  {
   "cell_type": "code",
   "execution_count": 35,
   "metadata": {},
   "outputs": [
    {
     "data": {
      "image/png": "[encoded data removed]",
      "text/plain": [
       "<Figure size 432x288 with 1 Axes>"
      ]
     },
     "metadata": {
      "needs_background": "light"
     },
     "output_type": "display_data"
    }
   ],
   "source": [
    "profile_sub = profile_age.sample(frac=0.03, random_state=42)\n",
    "\n",
    "sns.regplot(data = profile_sub, x=\"age\", y=\"income\");"
   ]
  },
  {
   "cell_type": "code",
   "execution_count": 36,
   "metadata": {},
   "outputs": [
    {
     "data": {
      "image/png": "[encoded data removed]",
      "text/plain": [
       "<Figure size 360x360 with 1 Axes>"
      ]
     },
     "metadata": {
      "needs_background": "light"
     },
     "output_type": "display_data"
    }
   ],
   "source": [
    "sns.catplot(data = profile_sub, x=\"group\", y=\"income\", jitter=0.25, color=base_color);"
   ]
  },
  {
   "cell_type": "code",
   "execution_count": 37,
   "metadata": {},
   "outputs": [
    {
     "data": {
      "image/png": "[encoded data removed]",
      "text/plain": [
       "<Figure size 432x288 with 1 Axes>"
      ]
     },
     "metadata": {
      "needs_background": "light"
     },
     "output_type": "display_data"
    }
   ],
   "source": [
    "sns.barplot( \\\n",
    "    data=profile_age.groupby(\"group\").income.mean().reset_index(), \\\n",
    "    x=\"group\", \\\n",
    "    y =\"income\", \\\n",
    "    ci=None, \\\n",
    "    color=base_color);"
   ]
  },
  {
   "cell_type": "code",
   "execution_count": 38,
   "metadata": {},
   "outputs": [
    {
     "data": {
      "image/png": "[encoded data removed]",
      "text/plain": [
       "<Figure size 360x360 with 1 Axes>"
      ]
     },
     "metadata": {
      "needs_background": "light"
     },
     "output_type": "display_data"
    }
   ],
   "source": [
    "sns.catplot(data = profile_sub, x=\"generation\", y=\"income\", jitter=0.25, color=base_color);"
   ]
  },
  {
   "cell_type": "code",
   "execution_count": 39,
   "metadata": {},
   "outputs": [
    {
     "data": {
      "image/png": "[encoded data removed]",
      "text/plain": [
       "<Figure size 432x288 with 1 Axes>"
      ]
     },
     "metadata": {
      "needs_background": "light"
     },
     "output_type": "display_data"
    }
   ],
   "source": [
    "sns.barplot( \\\n",
    "    data=profile_age.groupby(\"group\").income.mean().reset_index(), \\\n",
    "    x=\"group\", \\\n",
    "    y =\"income\", \\\n",
    "    ci=None, \\\n",
    "    color=base_color);"
   ]
  },
  {
   "cell_type": "markdown",
   "metadata": {},
   "source": [
    "We can see a small trend that as customer age, there's an increase in income. However, the points are too scattered from the mean. It also validates, that from `middle_age` or `gen_x` have higher range of income."
   ]
  },
  {
   "cell_type": "code",
   "execution_count": 40,
   "metadata": {},
   "outputs": [
    {
     "data": {
      "image/png": "[encoded data removed]",
      "text/plain": [
       "<Figure size 1080x1080 with 8 Axes>"
      ]
     },
     "metadata": {
      "needs_background": "light"
     },
     "output_type": "display_data"
    }
   ],
   "source": [
    "profile_age_date = profile_age.copy()\n",
    "profile_age_date[\"month\"] = profile_age_date.became_member_on.dt.month\n",
    "profile_age_date[\"year\"] = profile_age_date.became_member_on.dt.year\n",
    "\n",
    "fig, axes = plt.subplots(2, 2, figsize=(15, 15))\n",
    "index = 0\n",
    "\n",
    "for gr in profile_age_date.group.dropna().unique():\n",
    "    a = axes[index // 2, index % 2]\n",
    "    a.set_title(gr)\n",
    "\n",
    "    sns.heatmap( \\\n",
    "        profile_age_date[profile_age_date.group==gr] \\\n",
    "            .groupby(by=[\"year\", \"month\"]) \\\n",
    "            .became_member_on \\\n",
    "            .count() \\\n",
    "            .reset_index() \\\n",
    "            .pivot(\"month\", \"year\", \"became_member_on\"),\\\n",
    "        annot=True, \\\n",
    "        fmt=\"g\", \\\n",
    "        cmap=\"YlGnBu\", \\\n",
    "        ax=a\n",
    "    )\n",
    "\n",
    "    index = index + 1\n"
   ]
  },
  {
   "cell_type": "code",
   "execution_count": 41,
   "metadata": {},
   "outputs": [
    {
     "data": {
      "image/png": "[encoded data removed]",
      "text/plain": [
       "<Figure size 1080x1080 with 10 Axes>"
      ]
     },
     "metadata": {
      "needs_background": "light"
     },
     "output_type": "display_data"
    }
   ],
   "source": [
    "fig, axes = plt.subplots(3, 2, figsize=(15, 15))\n",
    "index = 0\n",
    "\n",
    "for gn in profile_age_date.generation.dropna().unique():\n",
    "    a = axes[index // 2, index % 2]\n",
    "    a.set_title(gn)\n",
    "\n",
    "    sns.heatmap( \\\n",
    "        profile_age_date[profile_age_date.generation==gn] \\\n",
    "            .groupby(by=[\"year\", \"month\"]) \\\n",
    "            .became_member_on \\\n",
    "            .count() \\\n",
    "            .reset_index() \\\n",
    "            .pivot(\"month\", \"year\", \"became_member_on\"),\\\n",
    "        cmap=\"YlGnBu\", \\\n",
    "        fmt=\"g\", \\\n",
    "        annot=True, \\\n",
    "        ax=a\n",
    "    )\n",
    "\n",
    "    index = index + 1\n",
    "\n",
    "fig.delaxes(ax=axes[2, 1])"
   ]
  },
  {
   "cell_type": "markdown",
   "metadata": {},
   "source": [
    "It's consistent, the registration burst from August 2017 to January 2018, but now it's more visible that most of those who registered are `boomers`/`middle_age`."
   ]
  },
  {
   "cell_type": "markdown",
   "metadata": {},
   "source": [
    "### Understand Transcript Table"
   ]
  },
  {
   "cell_type": "markdown",
   "metadata": {},
   "source": [
    "The transcript table will be the main table we'll be looking it. It contains offer events or normal transactions. Let's try to dissect it to gain further understanding on this table. Few things I want to understand, how are events sequenced. Also, how are the data structured per events."
   ]
  },
  {
   "cell_type": "markdown",
   "metadata": {},
   "source": [
    "#### Univariate"
   ]
  },
  {
   "cell_type": "code",
   "execution_count": 42,
   "metadata": {},
   "outputs": [
    {
     "name": "stdout",
     "output_type": "stream",
     "text": [
      "<class 'pandas.core.frame.DataFrame'>\n",
      "RangeIndex: 306534 entries, 0 to 306533\n",
      "Data columns (total 6 columns):\n",
      " #   Column     Non-Null Count   Dtype   \n",
      "---  ------     --------------   -----   \n",
      " 0   person_id  306534 non-null  int64   \n",
      " 1   event      306534 non-null  category\n",
      " 2   time       306534 non-null  int64   \n",
      " 3   offer_id   306534 non-null  category\n",
      " 4   amount     138953 non-null  float64 \n",
      " 5   reward     33579 non-null   float64 \n",
      "dtypes: category(2), float64(2), int64(2)\n",
      "memory usage: 9.9 MB\n"
     ]
    }
   ],
   "source": [
    "transcript.info()"
   ]
  },
  {
   "cell_type": "code",
   "execution_count": 43,
   "metadata": {},
   "outputs": [
    {
     "data": {
      "text/html": [
       "<div>\n",
       "<style scoped>\n",
       "    .dataframe tbody tr th:only-of-type {\n",
       "        vertical-align: middle;\n",
       "    }\n",
       "\n",
       "    .dataframe tbody tr th {\n",
       "        vertical-align: top;\n",
       "    }\n",
       "\n",
       "    .dataframe thead th {\n",
       "        text-align: right;\n",
       "    }\n",
       "</style>\n",
       "<table border=\"1\" class=\"dataframe\">\n",
       "  <thead>\n",
       "    <tr style=\"text-align: right;\">\n",
       "      <th></th>\n",
       "      <th>person_id</th>\n",
       "      <th>event</th>\n",
       "      <th>time</th>\n",
       "      <th>offer_id</th>\n",
       "      <th>amount</th>\n",
       "      <th>reward</th>\n",
       "    </tr>\n",
       "  </thead>\n",
       "  <tbody>\n",
       "    <tr>\n",
       "      <th>count</th>\n",
       "      <td>306534.000000</td>\n",
       "      <td>306534</td>\n",
       "      <td>306534.000000</td>\n",
       "      <td>306534.0</td>\n",
       "      <td>138953.000000</td>\n",
       "      <td>33579.000000</td>\n",
       "    </tr>\n",
       "    <tr>\n",
       "      <th>unique</th>\n",
       "      <td>NaN</td>\n",
       "      <td>4</td>\n",
       "      <td>NaN</td>\n",
       "      <td>11.0</td>\n",
       "      <td>NaN</td>\n",
       "      <td>NaN</td>\n",
       "    </tr>\n",
       "    <tr>\n",
       "      <th>top</th>\n",
       "      <td>NaN</td>\n",
       "      <td>transaction</td>\n",
       "      <td>NaN</td>\n",
       "      <td>0.0</td>\n",
       "      <td>NaN</td>\n",
       "      <td>NaN</td>\n",
       "    </tr>\n",
       "    <tr>\n",
       "      <th>freq</th>\n",
       "      <td>NaN</td>\n",
       "      <td>138953</td>\n",
       "      <td>NaN</td>\n",
       "      <td>138953.0</td>\n",
       "      <td>NaN</td>\n",
       "      <td>NaN</td>\n",
       "    </tr>\n",
       "    <tr>\n",
       "      <th>mean</th>\n",
       "      <td>8501.102374</td>\n",
       "      <td>NaN</td>\n",
       "      <td>366.382940</td>\n",
       "      <td>NaN</td>\n",
       "      <td>12.777356</td>\n",
       "      <td>4.904137</td>\n",
       "    </tr>\n",
       "    <tr>\n",
       "      <th>std</th>\n",
       "      <td>4901.913992</td>\n",
       "      <td>NaN</td>\n",
       "      <td>200.326314</td>\n",
       "      <td>NaN</td>\n",
       "      <td>30.250529</td>\n",
       "      <td>2.886647</td>\n",
       "    </tr>\n",
       "    <tr>\n",
       "      <th>min</th>\n",
       "      <td>1.000000</td>\n",
       "      <td>NaN</td>\n",
       "      <td>0.000000</td>\n",
       "      <td>NaN</td>\n",
       "      <td>0.050000</td>\n",
       "      <td>2.000000</td>\n",
       "    </tr>\n",
       "    <tr>\n",
       "      <th>25%</th>\n",
       "      <td>4265.000000</td>\n",
       "      <td>NaN</td>\n",
       "      <td>186.000000</td>\n",
       "      <td>NaN</td>\n",
       "      <td>2.780000</td>\n",
       "      <td>2.000000</td>\n",
       "    </tr>\n",
       "    <tr>\n",
       "      <th>50%</th>\n",
       "      <td>8499.000000</td>\n",
       "      <td>NaN</td>\n",
       "      <td>408.000000</td>\n",
       "      <td>NaN</td>\n",
       "      <td>8.890000</td>\n",
       "      <td>5.000000</td>\n",
       "    </tr>\n",
       "    <tr>\n",
       "      <th>75%</th>\n",
       "      <td>12731.000000</td>\n",
       "      <td>NaN</td>\n",
       "      <td>528.000000</td>\n",
       "      <td>NaN</td>\n",
       "      <td>18.070000</td>\n",
       "      <td>5.000000</td>\n",
       "    </tr>\n",
       "    <tr>\n",
       "      <th>max</th>\n",
       "      <td>17000.000000</td>\n",
       "      <td>NaN</td>\n",
       "      <td>714.000000</td>\n",
       "      <td>NaN</td>\n",
       "      <td>1062.280000</td>\n",
       "      <td>10.000000</td>\n",
       "    </tr>\n",
       "  </tbody>\n",
       "</table>\n",
       "</div>"
      ],
      "text/plain": [
       "            person_id        event           time  offer_id         amount  \\\n",
       "count   306534.000000       306534  306534.000000  306534.0  138953.000000   \n",
       "unique            NaN            4            NaN      11.0            NaN   \n",
       "top               NaN  transaction            NaN       0.0            NaN   \n",
       "freq              NaN       138953            NaN  138953.0            NaN   \n",
       "mean      8501.102374          NaN     366.382940       NaN      12.777356   \n",
       "std       4901.913992          NaN     200.326314       NaN      30.250529   \n",
       "min          1.000000          NaN       0.000000       NaN       0.050000   \n",
       "25%       4265.000000          NaN     186.000000       NaN       2.780000   \n",
       "50%       8499.000000          NaN     408.000000       NaN       8.890000   \n",
       "75%      12731.000000          NaN     528.000000       NaN      18.070000   \n",
       "max      17000.000000          NaN     714.000000       NaN    1062.280000   \n",
       "\n",
       "              reward  \n",
       "count   33579.000000  \n",
       "unique           NaN  \n",
       "top              NaN  \n",
       "freq             NaN  \n",
       "mean        4.904137  \n",
       "std         2.886647  \n",
       "min         2.000000  \n",
       "25%         2.000000  \n",
       "50%         5.000000  \n",
       "75%         5.000000  \n",
       "max        10.000000  "
      ]
     },
     "execution_count": 43,
     "metadata": {},
     "output_type": "execute_result"
    }
   ],
   "source": [
    "transcript.describe(include=\"all\")"
   ]
  },
  {
   "cell_type": "markdown",
   "metadata": {},
   "source": [
    "Here are few notable observations.\n",
    "\n",
    "* `offer_id`, `amount` and `reward`, has different values depending on events. \n",
    "* The most top events in the data is of type `transaction`.\n",
    "* Since `time` is \"hours since start of test\", therefore the time value here is just the timeline duration of individual test. Let's try to dig more on this later.\n",
    "* Longest `time` duration for the test id 714 hours (~30 days). Average at 366 hours (~15 days).\n",
    "* `amount`'s max is 1062.28, that's a big amount, let's check if it's an outlier. On the other side of spectrum, the minimum amount value is 0.05. We need more information to understand as to why.\n",
    "* Most items in the transcript are of \"not given offer\" type (0).\n",
    "* `reward` range from 2 - 10, averaging at 5.\n",
    "* All in all, the event data are complete, and the missing ones are because different events have different data under `amount` and `reward`.\n",
    "\n",
    "Let's drill down first at `event` feature.\n"
   ]
  },
  {
   "cell_type": "code",
   "execution_count": 44,
   "metadata": {},
   "outputs": [
    {
     "data": {
      "text/plain": [
       "transaction        0.453304\n",
       "offer_received     0.248837\n",
       "offer_viewed       0.188315\n",
       "offer_completed    0.109544\n",
       "Name: event, dtype: float64"
      ]
     },
     "execution_count": 44,
     "metadata": {},
     "output_type": "execute_result"
    }
   ],
   "source": [
    "transcript.event.value_counts(normalize=True)"
   ]
  },
  {
   "cell_type": "code",
   "execution_count": 45,
   "metadata": {},
   "outputs": [
    {
     "data": {
      "image/png": "[encoded data removed]",
      "text/plain": [
       "<Figure size 432x288 with 1 Axes>"
      ]
     },
     "metadata": {
      "needs_background": "light"
     },
     "output_type": "display_data"
    }
   ],
   "source": [
    "transcript.event.value_counts().plot(kind=\"bar\");"
   ]
  },
  {
   "cell_type": "code",
   "execution_count": 46,
   "metadata": {},
   "outputs": [
    {
     "data": {
      "text/plain": [
       "False    0.546696\n",
       "True     0.453304\n",
       "Name: event, dtype: float64"
      ]
     },
     "execution_count": 46,
     "metadata": {},
     "output_type": "execute_result"
    }
   ],
   "source": [
    "trans_events = transcript.event \\\n",
    "    .apply(lambda x: False if x != \"transaction\" else True) \n",
    "\n",
    "trans_events.value_counts(normalize=True)"
   ]
  },
  {
   "cell_type": "code",
   "execution_count": 47,
   "metadata": {},
   "outputs": [
    {
     "data": {
      "image/png": "[encoded data removed]",
      "text/plain": [
       "<Figure size 432x288 with 1 Axes>"
      ]
     },
     "metadata": {
      "needs_background": "light"
     },
     "output_type": "display_data"
    }
   ],
   "source": [
    "trans_events.value_counts(normalize=True).plot(kind=\"bar\");"
   ]
  },
  {
   "cell_type": "markdown",
   "metadata": {},
   "source": [
    "Event distribution in `transcript` table shows that `transaction` or \"no offer\" is still the top data at 45%. Combining offer events, they occupy 55% of the data, while not offered events is at 45%.\n",
    "\n",
    "Next we're going to try to understand is time."
   ]
  },
  {
   "cell_type": "code",
   "execution_count": 48,
   "metadata": {},
   "outputs": [
    {
     "data": {
      "image/png": "[encoded data removed]",
      "text/plain": [
       "<Figure size 432x288 with 1 Axes>"
      ]
     },
     "metadata": {
      "needs_background": "light"
     },
     "output_type": "display_data"
    }
   ],
   "source": [
    "transcript.time.hist(bins=30);"
   ]
  },
  {
   "cell_type": "markdown",
   "metadata": {},
   "source": [
    "There are some noticeable spikes in the distribution. Dividing the estimated value of the spikes, they coincide with 0, **7**, **14**, 17, **21**, 24. The **bold** ones are week timeframes. Let's take note of that for now. Also, lot of events happening on the third week.\n",
    "\n",
    "Moving to `offer_id`."
   ]
  },
  {
   "cell_type": "code",
   "execution_count": 49,
   "metadata": {},
   "outputs": [
    {
     "data": {
      "text/plain": [
       "0     0.453304\n",
       "1     0.058923\n",
       "2     0.059445\n",
       "3     0.038368\n",
       "4     0.052855\n",
       "5     0.044860\n",
       "6     0.065699\n",
       "7     0.066032\n",
       "8     0.046667\n",
       "9     0.062411\n",
       "10    0.051436\n",
       "Name: offer_id, dtype: float64"
      ]
     },
     "execution_count": 49,
     "metadata": {},
     "output_type": "execute_result"
    }
   ],
   "source": [
    "transcript.offer_id.value_counts(normalize=True).sort_index(axis=0)"
   ]
  },
  {
   "cell_type": "markdown",
   "metadata": {},
   "source": [
    "With large difference of `transaction` events, let's remove it to get a better view at the data."
   ]
  },
  {
   "cell_type": "code",
   "execution_count": 50,
   "metadata": {},
   "outputs": [
    {
     "data": {
      "image/png": "[encoded data removed]",
      "text/plain": [
       "<Figure size 432x288 with 1 Axes>"
      ]
     },
     "metadata": {
      "needs_background": "light"
     },
     "output_type": "display_data"
    }
   ],
   "source": [
    "transcript[transcript.offer_id != 0].offer_id.value_counts().sort_index(axis=0).plot(kind=\"bar\");"
   ]
  },
  {
   "cell_type": "markdown",
   "metadata": {},
   "source": [
    "There are offers more than the others. This can be indication how consumers react to to the test or offer.\n",
    "\n",
    "Let's move on to the `amount` and `reward`."
   ]
  },
  {
   "cell_type": "code",
   "execution_count": 51,
   "metadata": {},
   "outputs": [
    {
     "name": "stdout",
     "output_type": "stream",
     "text": [
      "           bins    count\n",
      "0      0.050000    816.0\n",
      "1      0.093202    811.0\n",
      "2      0.173732   1738.0\n",
      "3      0.323842   3810.0\n",
      "4      0.603653   7341.0\n",
      "5      1.125231  12763.0\n",
      "6      2.097471  17481.0\n",
      "7      3.909761  18312.0\n",
      "8      7.287935  24413.0\n",
      "9     13.584974  37258.0\n",
      "10    25.322882  13437.0\n",
      "11    47.202765    257.0\n",
      "12    87.987657    135.0\n",
      "13   164.012167     69.0\n",
      "14   305.724596    166.0\n",
      "15   569.881675    146.0\n",
      "16  1062.280000      NaN\n"
     ]
    },
    {
     "data": {
      "image/png": "[encoded data removed]",
      "text/plain": [
       "<Figure size 432x288 with 1 Axes>"
      ]
     },
     "metadata": {
      "needs_background": "light"
     },
     "output_type": "display_data"
    }
   ],
   "source": [
    "def plot_loghist(x, bins):\n",
    "  _, bins = np.histogram(x, bins=bins)\n",
    "  logbins = np.logspace(np.log10(bins[0]),np.log10(bins[-1]),len(bins))\n",
    "\n",
    "  hist = pd.concat([pd.Series(logbins, name=\"bins\"), pd.Series(np.histogram(x, bins=logbins)[0], name=\"count\")], axis=1)\n",
    "  print(hist)\n",
    "\n",
    "  plt.hist(x, bins=logbins)\n",
    "  plt.xscale('log')\n",
    "\n",
    "plot_loghist(transcript[~transcript.amount.isna()].amount, 16)"
   ]
  },
  {
   "cell_type": "markdown",
   "metadata": {},
   "source": [
    "We had to create a logarithmic histogram as there are super large values that can be considered outliers. The graph is a bit left skewed distribution with its peak at approximately 10 - 50 values."
   ]
  },
  {
   "cell_type": "code",
   "execution_count": 52,
   "metadata": {},
   "outputs": [
    {
     "data": {
      "image/png": "[encoded data removed]",
      "text/plain": [
       "<Figure size 432x288 with 1 Axes>"
      ]
     },
     "metadata": {
      "needs_background": "light"
     },
     "output_type": "display_data"
    }
   ],
   "source": [
    "transcript.reward.hist();"
   ]
  },
  {
   "cell_type": "markdown",
   "metadata": {},
   "source": [
    "Rewards are a bit conservative at most of them are at less than 5. The most expensive is at 10."
   ]
  },
  {
   "cell_type": "markdown",
   "metadata": {},
   "source": [
    "#### Bivariate and Multivariate"
   ]
  },
  {
   "cell_type": "markdown",
   "metadata": {},
   "source": [
    "Let's understand further how `time` and `offer_id` works. Let's visually investigate on some random person."
   ]
  },
  {
   "cell_type": "code",
   "execution_count": 53,
   "metadata": {},
   "outputs": [
    {
     "data": {
      "text/html": [
       "<div>\n",
       "<style scoped>\n",
       "    .dataframe tbody tr th:only-of-type {\n",
       "        vertical-align: middle;\n",
       "    }\n",
       "\n",
       "    .dataframe tbody tr th {\n",
       "        vertical-align: top;\n",
       "    }\n",
       "\n",
       "    .dataframe thead th {\n",
       "        text-align: right;\n",
       "    }\n",
       "</style>\n",
       "<table border=\"1\" class=\"dataframe\">\n",
       "  <thead>\n",
       "    <tr style=\"text-align: right;\">\n",
       "      <th></th>\n",
       "      <th>person_id</th>\n",
       "      <th>event</th>\n",
       "      <th>time</th>\n",
       "      <th>offer_id</th>\n",
       "      <th>amount</th>\n",
       "      <th>reward</th>\n",
       "    </tr>\n",
       "  </thead>\n",
       "  <tbody>\n",
       "    <tr>\n",
       "      <th>1426</th>\n",
       "      <td>106</td>\n",
       "      <td>transaction</td>\n",
       "      <td>198</td>\n",
       "      <td>0</td>\n",
       "      <td>22.49</td>\n",
       "      <td>NaN</td>\n",
       "    </tr>\n",
       "    <tr>\n",
       "      <th>1429</th>\n",
       "      <td>106</td>\n",
       "      <td>transaction</td>\n",
       "      <td>210</td>\n",
       "      <td>0</td>\n",
       "      <td>18.33</td>\n",
       "      <td>NaN</td>\n",
       "    </tr>\n",
       "    <tr>\n",
       "      <th>1430</th>\n",
       "      <td>106</td>\n",
       "      <td>transaction</td>\n",
       "      <td>252</td>\n",
       "      <td>0</td>\n",
       "      <td>11.80</td>\n",
       "      <td>NaN</td>\n",
       "    </tr>\n",
       "    <tr>\n",
       "      <th>1431</th>\n",
       "      <td>106</td>\n",
       "      <td>transaction</td>\n",
       "      <td>294</td>\n",
       "      <td>0</td>\n",
       "      <td>13.04</td>\n",
       "      <td>NaN</td>\n",
       "    </tr>\n",
       "    <tr>\n",
       "      <th>1433</th>\n",
       "      <td>106</td>\n",
       "      <td>transaction</td>\n",
       "      <td>342</td>\n",
       "      <td>0</td>\n",
       "      <td>12.34</td>\n",
       "      <td>NaN</td>\n",
       "    </tr>\n",
       "    <tr>\n",
       "      <th>1436</th>\n",
       "      <td>106</td>\n",
       "      <td>transaction</td>\n",
       "      <td>360</td>\n",
       "      <td>0</td>\n",
       "      <td>13.08</td>\n",
       "      <td>NaN</td>\n",
       "    </tr>\n",
       "    <tr>\n",
       "      <th>1437</th>\n",
       "      <td>106</td>\n",
       "      <td>transaction</td>\n",
       "      <td>402</td>\n",
       "      <td>0</td>\n",
       "      <td>15.26</td>\n",
       "      <td>NaN</td>\n",
       "    </tr>\n",
       "    <tr>\n",
       "      <th>1439</th>\n",
       "      <td>106</td>\n",
       "      <td>transaction</td>\n",
       "      <td>426</td>\n",
       "      <td>0</td>\n",
       "      <td>26.91</td>\n",
       "      <td>NaN</td>\n",
       "    </tr>\n",
       "    <tr>\n",
       "      <th>1440</th>\n",
       "      <td>106</td>\n",
       "      <td>transaction</td>\n",
       "      <td>456</td>\n",
       "      <td>0</td>\n",
       "      <td>25.31</td>\n",
       "      <td>NaN</td>\n",
       "    </tr>\n",
       "    <tr>\n",
       "      <th>1441</th>\n",
       "      <td>106</td>\n",
       "      <td>transaction</td>\n",
       "      <td>480</td>\n",
       "      <td>0</td>\n",
       "      <td>25.09</td>\n",
       "      <td>NaN</td>\n",
       "    </tr>\n",
       "    <tr>\n",
       "      <th>1443</th>\n",
       "      <td>106</td>\n",
       "      <td>transaction</td>\n",
       "      <td>642</td>\n",
       "      <td>0</td>\n",
       "      <td>19.10</td>\n",
       "      <td>NaN</td>\n",
       "    </tr>\n",
       "    <tr>\n",
       "      <th>1438</th>\n",
       "      <td>106</td>\n",
       "      <td>offer_received</td>\n",
       "      <td>408</td>\n",
       "      <td>3</td>\n",
       "      <td>NaN</td>\n",
       "      <td>NaN</td>\n",
       "    </tr>\n",
       "    <tr>\n",
       "      <th>1432</th>\n",
       "      <td>106</td>\n",
       "      <td>offer_received</td>\n",
       "      <td>336</td>\n",
       "      <td>4</td>\n",
       "      <td>NaN</td>\n",
       "      <td>NaN</td>\n",
       "    </tr>\n",
       "    <tr>\n",
       "      <th>1434</th>\n",
       "      <td>106</td>\n",
       "      <td>offer_completed</td>\n",
       "      <td>342</td>\n",
       "      <td>4</td>\n",
       "      <td>NaN</td>\n",
       "      <td>5.0</td>\n",
       "    </tr>\n",
       "    <tr>\n",
       "      <th>1435</th>\n",
       "      <td>106</td>\n",
       "      <td>offer_viewed</td>\n",
       "      <td>348</td>\n",
       "      <td>4</td>\n",
       "      <td>NaN</td>\n",
       "      <td>NaN</td>\n",
       "    </tr>\n",
       "    <tr>\n",
       "      <th>1442</th>\n",
       "      <td>106</td>\n",
       "      <td>offer_received</td>\n",
       "      <td>504</td>\n",
       "      <td>5</td>\n",
       "      <td>NaN</td>\n",
       "      <td>NaN</td>\n",
       "    </tr>\n",
       "    <tr>\n",
       "      <th>1422</th>\n",
       "      <td>106</td>\n",
       "      <td>offer_received</td>\n",
       "      <td>0</td>\n",
       "      <td>7</td>\n",
       "      <td>NaN</td>\n",
       "      <td>NaN</td>\n",
       "    </tr>\n",
       "    <tr>\n",
       "      <th>1423</th>\n",
       "      <td>106</td>\n",
       "      <td>offer_viewed</td>\n",
       "      <td>96</td>\n",
       "      <td>7</td>\n",
       "      <td>NaN</td>\n",
       "      <td>NaN</td>\n",
       "    </tr>\n",
       "    <tr>\n",
       "      <th>1424</th>\n",
       "      <td>106</td>\n",
       "      <td>offer_received</td>\n",
       "      <td>168</td>\n",
       "      <td>7</td>\n",
       "      <td>NaN</td>\n",
       "      <td>NaN</td>\n",
       "    </tr>\n",
       "    <tr>\n",
       "      <th>1425</th>\n",
       "      <td>106</td>\n",
       "      <td>offer_viewed</td>\n",
       "      <td>180</td>\n",
       "      <td>7</td>\n",
       "      <td>NaN</td>\n",
       "      <td>NaN</td>\n",
       "    </tr>\n",
       "    <tr>\n",
       "      <th>1427</th>\n",
       "      <td>106</td>\n",
       "      <td>offer_completed</td>\n",
       "      <td>198</td>\n",
       "      <td>7</td>\n",
       "      <td>NaN</td>\n",
       "      <td>2.0</td>\n",
       "    </tr>\n",
       "    <tr>\n",
       "      <th>1428</th>\n",
       "      <td>106</td>\n",
       "      <td>offer_completed</td>\n",
       "      <td>198</td>\n",
       "      <td>7</td>\n",
       "      <td>NaN</td>\n",
       "      <td>2.0</td>\n",
       "    </tr>\n",
       "  </tbody>\n",
       "</table>\n",
       "</div>"
      ],
      "text/plain": [
       "      person_id            event  time offer_id  amount  reward\n",
       "1426        106      transaction   198        0   22.49     NaN\n",
       "1429        106      transaction   210        0   18.33     NaN\n",
       "1430        106      transaction   252        0   11.80     NaN\n",
       "1431        106      transaction   294        0   13.04     NaN\n",
       "1433        106      transaction   342        0   12.34     NaN\n",
       "1436        106      transaction   360        0   13.08     NaN\n",
       "1437        106      transaction   402        0   15.26     NaN\n",
       "1439        106      transaction   426        0   26.91     NaN\n",
       "1440        106      transaction   456        0   25.31     NaN\n",
       "1441        106      transaction   480        0   25.09     NaN\n",
       "1443        106      transaction   642        0   19.10     NaN\n",
       "1438        106   offer_received   408        3     NaN     NaN\n",
       "1432        106   offer_received   336        4     NaN     NaN\n",
       "1434        106  offer_completed   342        4     NaN     5.0\n",
       "1435        106     offer_viewed   348        4     NaN     NaN\n",
       "1442        106   offer_received   504        5     NaN     NaN\n",
       "1422        106   offer_received     0        7     NaN     NaN\n",
       "1423        106     offer_viewed    96        7     NaN     NaN\n",
       "1424        106   offer_received   168        7     NaN     NaN\n",
       "1425        106     offer_viewed   180        7     NaN     NaN\n",
       "1427        106  offer_completed   198        7     NaN     2.0\n",
       "1428        106  offer_completed   198        7     NaN     2.0"
      ]
     },
     "execution_count": 53,
     "metadata": {},
     "output_type": "execute_result"
    }
   ],
   "source": [
    "transcript[transcript.person_id == 106].sort_values([\"offer_id\", \"time\"])"
   ]
  },
  {
   "cell_type": "code",
   "execution_count": 54,
   "metadata": {},
   "outputs": [
    {
     "data": {
      "text/html": [
       "<div>\n",
       "<style scoped>\n",
       "    .dataframe tbody tr th:only-of-type {\n",
       "        vertical-align: middle;\n",
       "    }\n",
       "\n",
       "    .dataframe tbody tr th {\n",
       "        vertical-align: top;\n",
       "    }\n",
       "\n",
       "    .dataframe thead th {\n",
       "        text-align: right;\n",
       "    }\n",
       "</style>\n",
       "<table border=\"1\" class=\"dataframe\">\n",
       "  <thead>\n",
       "    <tr style=\"text-align: right;\">\n",
       "      <th></th>\n",
       "      <th>person_id</th>\n",
       "      <th>event</th>\n",
       "      <th>time</th>\n",
       "      <th>offer_id</th>\n",
       "      <th>amount</th>\n",
       "      <th>reward</th>\n",
       "    </tr>\n",
       "  </thead>\n",
       "  <tbody>\n",
       "    <tr>\n",
       "      <th>1422</th>\n",
       "      <td>106</td>\n",
       "      <td>offer_received</td>\n",
       "      <td>0</td>\n",
       "      <td>7</td>\n",
       "      <td>NaN</td>\n",
       "      <td>NaN</td>\n",
       "    </tr>\n",
       "    <tr>\n",
       "      <th>1423</th>\n",
       "      <td>106</td>\n",
       "      <td>offer_viewed</td>\n",
       "      <td>96</td>\n",
       "      <td>7</td>\n",
       "      <td>NaN</td>\n",
       "      <td>NaN</td>\n",
       "    </tr>\n",
       "    <tr>\n",
       "      <th>1424</th>\n",
       "      <td>106</td>\n",
       "      <td>offer_received</td>\n",
       "      <td>168</td>\n",
       "      <td>7</td>\n",
       "      <td>NaN</td>\n",
       "      <td>NaN</td>\n",
       "    </tr>\n",
       "    <tr>\n",
       "      <th>1425</th>\n",
       "      <td>106</td>\n",
       "      <td>offer_viewed</td>\n",
       "      <td>180</td>\n",
       "      <td>7</td>\n",
       "      <td>NaN</td>\n",
       "      <td>NaN</td>\n",
       "    </tr>\n",
       "    <tr>\n",
       "      <th>1426</th>\n",
       "      <td>106</td>\n",
       "      <td>transaction</td>\n",
       "      <td>198</td>\n",
       "      <td>0</td>\n",
       "      <td>22.49</td>\n",
       "      <td>NaN</td>\n",
       "    </tr>\n",
       "    <tr>\n",
       "      <th>1427</th>\n",
       "      <td>106</td>\n",
       "      <td>offer_completed</td>\n",
       "      <td>198</td>\n",
       "      <td>7</td>\n",
       "      <td>NaN</td>\n",
       "      <td>2.0</td>\n",
       "    </tr>\n",
       "    <tr>\n",
       "      <th>1428</th>\n",
       "      <td>106</td>\n",
       "      <td>offer_completed</td>\n",
       "      <td>198</td>\n",
       "      <td>7</td>\n",
       "      <td>NaN</td>\n",
       "      <td>2.0</td>\n",
       "    </tr>\n",
       "    <tr>\n",
       "      <th>1429</th>\n",
       "      <td>106</td>\n",
       "      <td>transaction</td>\n",
       "      <td>210</td>\n",
       "      <td>0</td>\n",
       "      <td>18.33</td>\n",
       "      <td>NaN</td>\n",
       "    </tr>\n",
       "    <tr>\n",
       "      <th>1430</th>\n",
       "      <td>106</td>\n",
       "      <td>transaction</td>\n",
       "      <td>252</td>\n",
       "      <td>0</td>\n",
       "      <td>11.80</td>\n",
       "      <td>NaN</td>\n",
       "    </tr>\n",
       "    <tr>\n",
       "      <th>1431</th>\n",
       "      <td>106</td>\n",
       "      <td>transaction</td>\n",
       "      <td>294</td>\n",
       "      <td>0</td>\n",
       "      <td>13.04</td>\n",
       "      <td>NaN</td>\n",
       "    </tr>\n",
       "    <tr>\n",
       "      <th>1432</th>\n",
       "      <td>106</td>\n",
       "      <td>offer_received</td>\n",
       "      <td>336</td>\n",
       "      <td>4</td>\n",
       "      <td>NaN</td>\n",
       "      <td>NaN</td>\n",
       "    </tr>\n",
       "    <tr>\n",
       "      <th>1433</th>\n",
       "      <td>106</td>\n",
       "      <td>transaction</td>\n",
       "      <td>342</td>\n",
       "      <td>0</td>\n",
       "      <td>12.34</td>\n",
       "      <td>NaN</td>\n",
       "    </tr>\n",
       "    <tr>\n",
       "      <th>1434</th>\n",
       "      <td>106</td>\n",
       "      <td>offer_completed</td>\n",
       "      <td>342</td>\n",
       "      <td>4</td>\n",
       "      <td>NaN</td>\n",
       "      <td>5.0</td>\n",
       "    </tr>\n",
       "    <tr>\n",
       "      <th>1435</th>\n",
       "      <td>106</td>\n",
       "      <td>offer_viewed</td>\n",
       "      <td>348</td>\n",
       "      <td>4</td>\n",
       "      <td>NaN</td>\n",
       "      <td>NaN</td>\n",
       "    </tr>\n",
       "    <tr>\n",
       "      <th>1436</th>\n",
       "      <td>106</td>\n",
       "      <td>transaction</td>\n",
       "      <td>360</td>\n",
       "      <td>0</td>\n",
       "      <td>13.08</td>\n",
       "      <td>NaN</td>\n",
       "    </tr>\n",
       "    <tr>\n",
       "      <th>1437</th>\n",
       "      <td>106</td>\n",
       "      <td>transaction</td>\n",
       "      <td>402</td>\n",
       "      <td>0</td>\n",
       "      <td>15.26</td>\n",
       "      <td>NaN</td>\n",
       "    </tr>\n",
       "    <tr>\n",
       "      <th>1438</th>\n",
       "      <td>106</td>\n",
       "      <td>offer_received</td>\n",
       "      <td>408</td>\n",
       "      <td>3</td>\n",
       "      <td>NaN</td>\n",
       "      <td>NaN</td>\n",
       "    </tr>\n",
       "    <tr>\n",
       "      <th>1439</th>\n",
       "      <td>106</td>\n",
       "      <td>transaction</td>\n",
       "      <td>426</td>\n",
       "      <td>0</td>\n",
       "      <td>26.91</td>\n",
       "      <td>NaN</td>\n",
       "    </tr>\n",
       "    <tr>\n",
       "      <th>1440</th>\n",
       "      <td>106</td>\n",
       "      <td>transaction</td>\n",
       "      <td>456</td>\n",
       "      <td>0</td>\n",
       "      <td>25.31</td>\n",
       "      <td>NaN</td>\n",
       "    </tr>\n",
       "    <tr>\n",
       "      <th>1441</th>\n",
       "      <td>106</td>\n",
       "      <td>transaction</td>\n",
       "      <td>480</td>\n",
       "      <td>0</td>\n",
       "      <td>25.09</td>\n",
       "      <td>NaN</td>\n",
       "    </tr>\n",
       "    <tr>\n",
       "      <th>1442</th>\n",
       "      <td>106</td>\n",
       "      <td>offer_received</td>\n",
       "      <td>504</td>\n",
       "      <td>5</td>\n",
       "      <td>NaN</td>\n",
       "      <td>NaN</td>\n",
       "    </tr>\n",
       "    <tr>\n",
       "      <th>1443</th>\n",
       "      <td>106</td>\n",
       "      <td>transaction</td>\n",
       "      <td>642</td>\n",
       "      <td>0</td>\n",
       "      <td>19.10</td>\n",
       "      <td>NaN</td>\n",
       "    </tr>\n",
       "  </tbody>\n",
       "</table>\n",
       "</div>"
      ],
      "text/plain": [
       "      person_id            event  time offer_id  amount  reward\n",
       "1422        106   offer_received     0        7     NaN     NaN\n",
       "1423        106     offer_viewed    96        7     NaN     NaN\n",
       "1424        106   offer_received   168        7     NaN     NaN\n",
       "1425        106     offer_viewed   180        7     NaN     NaN\n",
       "1426        106      transaction   198        0   22.49     NaN\n",
       "1427        106  offer_completed   198        7     NaN     2.0\n",
       "1428        106  offer_completed   198        7     NaN     2.0\n",
       "1429        106      transaction   210        0   18.33     NaN\n",
       "1430        106      transaction   252        0   11.80     NaN\n",
       "1431        106      transaction   294        0   13.04     NaN\n",
       "1432        106   offer_received   336        4     NaN     NaN\n",
       "1433        106      transaction   342        0   12.34     NaN\n",
       "1434        106  offer_completed   342        4     NaN     5.0\n",
       "1435        106     offer_viewed   348        4     NaN     NaN\n",
       "1436        106      transaction   360        0   13.08     NaN\n",
       "1437        106      transaction   402        0   15.26     NaN\n",
       "1438        106   offer_received   408        3     NaN     NaN\n",
       "1439        106      transaction   426        0   26.91     NaN\n",
       "1440        106      transaction   456        0   25.31     NaN\n",
       "1441        106      transaction   480        0   25.09     NaN\n",
       "1442        106   offer_received   504        5     NaN     NaN\n",
       "1443        106      transaction   642        0   19.10     NaN"
      ]
     },
     "execution_count": 54,
     "metadata": {},
     "output_type": "execute_result"
    }
   ],
   "source": [
    "transcript[transcript.person_id == 106].sort_values(\"time\")"
   ]
  },
  {
   "cell_type": "code",
   "execution_count": 55,
   "metadata": {},
   "outputs": [
    {
     "data": {
      "text/html": [
       "<div>\n",
       "<style scoped>\n",
       "    .dataframe tbody tr th:only-of-type {\n",
       "        vertical-align: middle;\n",
       "    }\n",
       "\n",
       "    .dataframe tbody tr th {\n",
       "        vertical-align: top;\n",
       "    }\n",
       "\n",
       "    .dataframe thead th {\n",
       "        text-align: right;\n",
       "    }\n",
       "</style>\n",
       "<table border=\"1\" class=\"dataframe\">\n",
       "  <thead>\n",
       "    <tr style=\"text-align: right;\">\n",
       "      <th></th>\n",
       "      <th>person_id</th>\n",
       "      <th>event</th>\n",
       "      <th>time</th>\n",
       "      <th>offer_id</th>\n",
       "      <th>amount</th>\n",
       "      <th>reward</th>\n",
       "    </tr>\n",
       "  </thead>\n",
       "  <tbody>\n",
       "    <tr>\n",
       "      <th>1427</th>\n",
       "      <td>106</td>\n",
       "      <td>offer_completed</td>\n",
       "      <td>198</td>\n",
       "      <td>7</td>\n",
       "      <td>NaN</td>\n",
       "      <td>2.0</td>\n",
       "    </tr>\n",
       "    <tr>\n",
       "      <th>1428</th>\n",
       "      <td>106</td>\n",
       "      <td>offer_completed</td>\n",
       "      <td>198</td>\n",
       "      <td>7</td>\n",
       "      <td>NaN</td>\n",
       "      <td>2.0</td>\n",
       "    </tr>\n",
       "    <tr>\n",
       "      <th>1555</th>\n",
       "      <td>111</td>\n",
       "      <td>offer_completed</td>\n",
       "      <td>480</td>\n",
       "      <td>10</td>\n",
       "      <td>NaN</td>\n",
       "      <td>2.0</td>\n",
       "    </tr>\n",
       "    <tr>\n",
       "      <th>1556</th>\n",
       "      <td>111</td>\n",
       "      <td>offer_completed</td>\n",
       "      <td>480</td>\n",
       "      <td>10</td>\n",
       "      <td>NaN</td>\n",
       "      <td>2.0</td>\n",
       "    </tr>\n",
       "    <tr>\n",
       "      <th>3110</th>\n",
       "      <td>233</td>\n",
       "      <td>offer_completed</td>\n",
       "      <td>564</td>\n",
       "      <td>1</td>\n",
       "      <td>NaN</td>\n",
       "      <td>10.0</td>\n",
       "    </tr>\n",
       "    <tr>\n",
       "      <th>3111</th>\n",
       "      <td>233</td>\n",
       "      <td>offer_completed</td>\n",
       "      <td>564</td>\n",
       "      <td>1</td>\n",
       "      <td>NaN</td>\n",
       "      <td>10.0</td>\n",
       "    </tr>\n",
       "    <tr>\n",
       "      <th>3416</th>\n",
       "      <td>251</td>\n",
       "      <td>offer_completed</td>\n",
       "      <td>426</td>\n",
       "      <td>2</td>\n",
       "      <td>NaN</td>\n",
       "      <td>10.0</td>\n",
       "    </tr>\n",
       "    <tr>\n",
       "      <th>3417</th>\n",
       "      <td>251</td>\n",
       "      <td>offer_completed</td>\n",
       "      <td>426</td>\n",
       "      <td>2</td>\n",
       "      <td>NaN</td>\n",
       "      <td>10.0</td>\n",
       "    </tr>\n",
       "    <tr>\n",
       "      <th>6617</th>\n",
       "      <td>477</td>\n",
       "      <td>offer_completed</td>\n",
       "      <td>510</td>\n",
       "      <td>1</td>\n",
       "      <td>NaN</td>\n",
       "      <td>10.0</td>\n",
       "    </tr>\n",
       "    <tr>\n",
       "      <th>6618</th>\n",
       "      <td>477</td>\n",
       "      <td>offer_completed</td>\n",
       "      <td>510</td>\n",
       "      <td>1</td>\n",
       "      <td>NaN</td>\n",
       "      <td>10.0</td>\n",
       "    </tr>\n",
       "  </tbody>\n",
       "</table>\n",
       "</div>"
      ],
      "text/plain": [
       "      person_id            event  time offer_id  amount  reward\n",
       "1427        106  offer_completed   198        7     NaN     2.0\n",
       "1428        106  offer_completed   198        7     NaN     2.0\n",
       "1555        111  offer_completed   480       10     NaN     2.0\n",
       "1556        111  offer_completed   480       10     NaN     2.0\n",
       "3110        233  offer_completed   564        1     NaN    10.0\n",
       "3111        233  offer_completed   564        1     NaN    10.0\n",
       "3416        251  offer_completed   426        2     NaN    10.0\n",
       "3417        251  offer_completed   426        2     NaN    10.0\n",
       "6617        477  offer_completed   510        1     NaN    10.0\n",
       "6618        477  offer_completed   510        1     NaN    10.0"
      ]
     },
     "execution_count": 55,
     "metadata": {},
     "output_type": "execute_result"
    }
   ],
   "source": [
    "transcript[transcript.duplicated(subset=[\"person_id\", \"event\", \"offer_id\", \"time\"], keep=False)].head(10)"
   ]
  },
  {
   "cell_type": "code",
   "execution_count": 56,
   "metadata": {},
   "outputs": [
    {
     "data": {
      "text/plain": [
       "0"
      ]
     },
     "execution_count": 56,
     "metadata": {},
     "output_type": "execute_result"
    }
   ],
   "source": [
    "transcript[transcript.event == \"transaction\"].duplicated(subset=[\"person_id\", \"time\"]).sum()"
   ]
  },
  {
   "cell_type": "markdown",
   "metadata": {},
   "source": [
    "Here are more information regarding the events.\n",
    "* `transaction` events are always `offer_id` 0\n",
    "* `transaction` `time` does not reset\n",
    "* `time` continuously move for each customer.\n",
    "* `offer_completed` can be occur before `offer_viewed`\n",
    "* a person can receive the same type of offer multiple times.\n",
    "* `transaction` are compound, can an offer be included or not\n",
    "\n",
    "With this assumptions, these are the different customer interactions.\n",
    "* Customer buys a coffee with no associated offer (`transaction` with no connected `offer_completed`)\n",
    "* Customer receives an offer and ends there (only event for a customer is `offer_received`)\n",
    "* Customer receives an offer, viewed it but did not do anything about it (`offer_received` and `offer_viewed` only)\n",
    "* Customer received, viewed and finally avail the offer (`offer_received`, `offer_viewed`, `transaction` and `offer_completed`)\n",
    "* Customer availed the offer without receiving nor viewing it (`offer_received`, `transaction` and `offer_completed`)"
   ]
  },
  {
   "cell_type": "markdown",
   "metadata": {},
   "source": [
    "We can extract more data if we can create an offer group. This requires a bit of coding, so we'll follow the following logic:\n",
    "\n",
    "* Iterate through the events in order of time\n",
    "* If the event is `offer_received`, create a new offer group\n",
    "* If the event is `offer_viewed`, add the event to the first offer group\n",
    "* if the event is `offer_completed`, add the event to the first offer group\n",
    "* There could only be one of these events in every group."
   ]
  },
  {
   "cell_type": "code",
   "execution_count": 57,
   "metadata": {},
   "outputs": [],
   "source": [
    "def get_offer_group(user_group):\n",
    "    offer_groups = {}\n",
    "    offer_idx = 0\n",
    "\n",
    "    for i, row in user_group.iterrows():\n",
    "        if row.event == \"offer_received\":\n",
    "            offer_idx = offer_idx + 1\n",
    "            group_id = f\"{offer_idx}:{row.offer_id}\"\n",
    "\n",
    "            offer_groups[group_id] = [\"offer_received\"]\n",
    "            user_group.loc[i, \"offer_group\"] = offer_idx\n",
    "\n",
    "        elif row.event == \"offer_viewed\":\n",
    "            idx, group_id = find_offer_index(offer_groups, \"offer_viewed\", row.offer_id)\n",
    "\n",
    "            offer_groups[group_id].append(\"offer_viewed\")\n",
    "            user_group.loc[i, \"offer_group\"] = idx\n",
    "        elif row.event == \"offer_completed\":\n",
    "            idx, group_id = find_offer_index(offer_groups, \"offer_completed\", row.offer_id)\n",
    "\n",
    "            offer_groups[group_id].append(\"offer_completed\")\n",
    "            user_group.loc[i, \"offer_group\"] = idx\n",
    "        else:\n",
    "            user_group.loc[i, \"offer_group\"] = 0\n",
    "\n",
    "    return user_group\n",
    "\n",
    "def find_offer_index(offer_groups, event, offer_id):\n",
    "    for group_id in offer_groups:\n",
    "        idx, id = group_id.split(\":\")\n",
    "\n",
    "        if (int(id) == offer_id) and (event not in offer_groups[group_id]):\n",
    "            return int(idx), group_id\n",
    "\n",
    "    return 0, None"
   ]
  },
  {
   "cell_type": "code",
   "execution_count": 58,
   "metadata": {},
   "outputs": [],
   "source": [
    "def map_event_to_desc(event_seq):\n",
    "    seq = \",\".join(event_seq)\n",
    "\n",
    "    if seq == \"offer_received,offer_viewed,offer_completed\":\n",
    "        return \"success\"\n",
    "    elif seq == \"offer_received,offer_viewed\":\n",
    "        return \"failed_viewed\"\n",
    "    elif (seq == \"offer_received,offer_completed\") or (seq == \"offer_received,offer_completed,offer_viewed\"):\n",
    "        return \"success_without_offer\"\n",
    "    elif seq == \"offer_received\":\n",
    "        return \"failed\"\n",
    "    else:\n",
    "        return None\n"
   ]
  },
  {
   "cell_type": "code",
   "execution_count": 59,
   "metadata": {},
   "outputs": [],
   "source": [
    "transcript_group = transcript.groupby(\"person_id\").apply(get_offer_group)"
   ]
  },
  {
   "cell_type": "code",
   "execution_count": 60,
   "metadata": {},
   "outputs": [
    {
     "data": {
      "text/html": [
       "<div>\n",
       "<style scoped>\n",
       "    .dataframe tbody tr th:only-of-type {\n",
       "        vertical-align: middle;\n",
       "    }\n",
       "\n",
       "    .dataframe tbody tr th {\n",
       "        vertical-align: top;\n",
       "    }\n",
       "\n",
       "    .dataframe thead th {\n",
       "        text-align: right;\n",
       "    }\n",
       "</style>\n",
       "<table border=\"1\" class=\"dataframe\">\n",
       "  <thead>\n",
       "    <tr style=\"text-align: right;\">\n",
       "      <th></th>\n",
       "      <th>person_id</th>\n",
       "      <th>offer_group</th>\n",
       "      <th>event</th>\n",
       "      <th>offer_id</th>\n",
       "    </tr>\n",
       "  </thead>\n",
       "  <tbody>\n",
       "    <tr>\n",
       "      <th>0</th>\n",
       "      <td>1</td>\n",
       "      <td>1.0</td>\n",
       "      <td>[offer_received, offer_viewed]</td>\n",
       "      <td>10</td>\n",
       "    </tr>\n",
       "    <tr>\n",
       "      <th>1</th>\n",
       "      <td>1</td>\n",
       "      <td>2.0</td>\n",
       "      <td>[offer_received, offer_viewed]</td>\n",
       "      <td>5</td>\n",
       "    </tr>\n",
       "    <tr>\n",
       "      <th>2</th>\n",
       "      <td>1</td>\n",
       "      <td>3.0</td>\n",
       "      <td>[offer_received, offer_viewed, offer_completed]</td>\n",
       "      <td>7</td>\n",
       "    </tr>\n",
       "    <tr>\n",
       "      <th>3</th>\n",
       "      <td>1</td>\n",
       "      <td>4.0</td>\n",
       "      <td>[offer_received, offer_viewed, offer_completed]</td>\n",
       "      <td>6</td>\n",
       "    </tr>\n",
       "    <tr>\n",
       "      <th>4</th>\n",
       "      <td>1</td>\n",
       "      <td>5.0</td>\n",
       "      <td>[offer_received, offer_viewed]</td>\n",
       "      <td>7</td>\n",
       "    </tr>\n",
       "  </tbody>\n",
       "</table>\n",
       "</div>"
      ],
      "text/plain": [
       "   person_id  offer_group                                            event  \\\n",
       "0          1          1.0                   [offer_received, offer_viewed]   \n",
       "1          1          2.0                   [offer_received, offer_viewed]   \n",
       "2          1          3.0  [offer_received, offer_viewed, offer_completed]   \n",
       "3          1          4.0  [offer_received, offer_viewed, offer_completed]   \n",
       "4          1          5.0                   [offer_received, offer_viewed]   \n",
       "\n",
       "   offer_id  \n",
       "0        10  \n",
       "1         5  \n",
       "2         7  \n",
       "3         6  \n",
       "4         7  "
      ]
     },
     "execution_count": 60,
     "metadata": {},
     "output_type": "execute_result"
    }
   ],
   "source": [
    "transcript_seq = transcript_group[transcript_group.event != \"transaction\"] \\\n",
    "    .groupby([\"person_id\",\"offer_group\"]) \\\n",
    "    .agg({\"event\": lambda x: x.tolist(), \"offer_id\": lambda x: x.iloc[0]}) \\\n",
    "    .reset_index()\n",
    "\n",
    "transcript_seq.head()"
   ]
  },
  {
   "cell_type": "code",
   "execution_count": 61,
   "metadata": {},
   "outputs": [
    {
     "data": {
      "image/png": "[encoded data removed]",
      "text/plain": [
       "<Figure size 432x288 with 1 Axes>"
      ]
     },
     "metadata": {
      "needs_background": "light"
     },
     "output_type": "display_data"
    }
   ],
   "source": [
    "transcript_seq[\"success_message\"] = transcript_seq.event.apply(map_event_to_desc)\n",
    "transcript_seq.success_message.value_counts().plot(kind=\"bar\");"
   ]
  },
  {
   "cell_type": "code",
   "execution_count": 62,
   "metadata": {},
   "outputs": [
    {
     "data": {
      "text/plain": [
       "False    0.559776\n",
       "True     0.440224\n",
       "Name: success, dtype: float64"
      ]
     },
     "execution_count": 62,
     "metadata": {},
     "output_type": "execute_result"
    }
   ],
   "source": [
    "transcript_seq[\"success\"] = transcript_seq.event.apply(lambda x: \"offer_completed\" in x)\n",
    "\n",
    "transcript_seq.success.value_counts(normalize=True)"
   ]
  },
  {
   "cell_type": "code",
   "execution_count": 64,
   "metadata": {},
   "outputs": [
    {
     "data": {
      "image/png": "[encoded data removed]",
      "text/plain": [
       "<Figure size 432x288 with 1 Axes>"
      ]
     },
     "metadata": {
      "needs_background": "light"
     },
     "output_type": "display_data"
    }
   ],
   "source": [
    "transcript_seq.success.value_counts().plot(kind=\"bar\");"
   ]
  },
  {
   "cell_type": "markdown",
   "metadata": {},
   "source": [
    "Here we can now see the general success of the offers.\n",
    "\n",
    "* `success` - the offer was received, viewed and completed\n",
    "* `success_without_offer` - the offer was received and not viewed, but still completed\n",
    "* `failed` - the offer was received, not viewed and not completed\n",
    "* `failed_viewed` - the offer was received and viewed, but not completed\n",
    "\n",
    "As we can see at the graphs above, we have more failed offers (56%) than successful ones (44%). In the breakdown, most of the failed offers are `failed_viewed` type.\n",
    "\n",
    "> NOTE\n",
    "\n",
    "> We can target later to predict not giving offer to `success_without_offer`, `failed` and `failed_viewed` types.\n",
    "\n",
    "Next we can look at the distribution of `amount` mean per person. This is to view the spending capability of each person."
   ]
  },
  {
   "cell_type": "code",
   "execution_count": 65,
   "metadata": {},
   "outputs": [
    {
     "name": "stdout",
     "output_type": "stream",
     "text": [
      "          bins   count\n",
      "0     0.050000     4.0\n",
      "1     0.088348     7.0\n",
      "2     0.156109    11.0\n",
      "3     0.275839    33.0\n",
      "4     0.487399    94.0\n",
      "5     0.861219   472.0\n",
      "6     1.521746  2314.0\n",
      "7     2.688876  3332.0\n",
      "8     4.751158   876.0\n",
      "9     8.395144  2422.0\n",
      "10   14.833950  5459.0\n",
      "11   26.211115  1295.0\n",
      "12   46.314201   123.0\n",
      "13   81.835710   100.0\n",
      "14  144.601080    27.0\n",
      "15  255.505478     8.0\n",
      "16  451.470000     NaN\n"
     ]
    },
    {
     "data": {
      "image/png": "[encoded data removed]",
      "text/plain": [
       "<Figure size 432x288 with 1 Axes>"
      ]
     },
     "metadata": {
      "needs_background": "light"
     },
     "output_type": "display_data"
    }
   ],
   "source": [
    "plot_loghist(transcript[~transcript.amount.isna()].groupby(\"person_id\").amount.mean(), 16)"
   ]
  },
  {
   "cell_type": "markdown",
   "metadata": {},
   "source": [
    "As we can see here, there's spike in average amount `2` and `10` per person. We can use this information to guide us when creating offers in the future.\n",
    "\n",
    "Let's try to look at the reward distribution as well."
   ]
  },
  {
   "cell_type": "code",
   "execution_count": 66,
   "metadata": {},
   "outputs": [
    {
     "data": {
      "image/png": "[encoded data removed]",
      "text/plain": [
       "<Figure size 432x288 with 1 Axes>"
      ]
     },
     "metadata": {
      "needs_background": "light"
     },
     "output_type": "display_data"
    }
   ],
   "source": [
    "transcript[~transcript.reward.isna()].groupby(\"person_id\").reward.mean().hist(bins=30);"
   ]
  },
  {
   "cell_type": "markdown",
   "metadata": {},
   "source": [
    "Most reward availed in average per person is at `5`. This coincide with one of the `bogo` offers.\n",
    "\n",
    "Let's move and take a look at the success rate of each offer."
   ]
  },
  {
   "cell_type": "code",
   "execution_count": 67,
   "metadata": {},
   "outputs": [
    {
     "data": {
      "image/png": "[encoded data removed]",
      "text/plain": [
       "<Figure size 421.25x360 with 1 Axes>"
      ]
     },
     "metadata": {
      "needs_background": "light"
     },
     "output_type": "display_data"
    }
   ],
   "source": [
    "sns.catplot(data = transcript_seq, x=\"offer_id\", hue=\"success\", kind=\"count\");"
   ]
  },
  {
   "cell_type": "code",
   "execution_count": 68,
   "metadata": {},
   "outputs": [
    {
     "data": {
      "text/plain": [
       "offer_id\n",
       "1     0.481588\n",
       "2     0.438694\n",
       "3     0.000000\n",
       "4     0.567149\n",
       "5     0.446009\n",
       "6     0.674340\n",
       "7     0.699882\n",
       "8     0.000000\n",
       "9     0.567428\n",
       "10    0.526336\n",
       "Name: success, dtype: float64"
      ]
     },
     "execution_count": 68,
     "metadata": {},
     "output_type": "execute_result"
    }
   ],
   "source": [
    "transcript_seq.groupby(\"offer_id\").success.apply(lambda x: sum(x)/len(x))"
   ]
  },
  {
   "cell_type": "code",
   "execution_count": 69,
   "metadata": {},
   "outputs": [
    {
     "data": {
      "image/png": "[encoded data removed]",
      "text/plain": [
       "<Figure size 506.25x360 with 1 Axes>"
      ]
     },
     "metadata": {
      "needs_background": "light"
     },
     "output_type": "display_data"
    }
   ],
   "source": [
    "sns.catplot(data = transcript_seq, x=\"offer_id\", hue=\"success_message\", kind=\"count\");"
   ]
  },
  {
   "cell_type": "markdown",
   "metadata": {},
   "source": [
    "This is an interesting information here. Offers 3 and 8 are 100% failure. While offers 6,7 have the highest success rate at 67% and 70% respectively. These are both of type `discount`."
   ]
  }
 ],
 "metadata": {
  "interpreter": {
   "hash": "39123923109d28d4cabd67ff5e417bfbc8b47b893b81065aa3bf6c15dd05978d"
  },
  "kernelspec": {
   "display_name": "Python 3.9.7 64-bit ('sb_capstone': conda)",
   "name": "python3"
  },
  "language_info": {
   "codemirror_mode": {
    "name": "ipython",
    "version": 3
   },
   "file_extension": ".py",
   "mimetype": "text/x-python",
   "name": "python",
   "nbconvert_exporter": "python",
   "pygments_lexer": "ipython3",
   "version": "3.9.7"
  }
 },
 "nbformat": 4,
 "nbformat_minor": 4
}
