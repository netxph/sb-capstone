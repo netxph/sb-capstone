{
 "cells": [
  {
   "cell_type": "markdown",
   "metadata": {},
   "source": [
    "# Starbucks Capstone Challenge - Predictive and Modelling"
   ]
  },
  {
   "cell_type": "markdown",
   "metadata": {},
   "source": [
    "## Introduction"
   ]
  },
  {
   "cell_type": "markdown",
   "metadata": {},
   "source": [
    "Based on our analysis, random targeting is not that efficient in improving the response rate, and even though we have improved the our incremental profit for some offers, we can still improve our experiment for our next round by targeting through machine learning.\n",
    "\n",
    "There are 2 sides we can target. \n",
    "\n",
    "* The first one is to determine which one who are likely to respond to offers. This way we are not losing money if we send out offers for those who are not affected by it.\n",
    "* The second one is to determine which offer we're going to give out.\n",
    "\n",
    "The experiment will run on the same length, providing different offers in different waves."
   ]
  },
  {
   "cell_type": "markdown",
   "metadata": {},
   "source": [
    "## Setup"
   ]
  },
  {
   "cell_type": "code",
   "execution_count": 1,
   "metadata": {},
   "outputs": [],
   "source": [
    "import sys\n",
    "\n",
    "!{sys.executable} -m pip install -e ../ --quiet"
   ]
  },
  {
   "cell_type": "code",
   "execution_count": 2,
   "metadata": {},
   "outputs": [],
   "source": [
    "import pandas as pd\n",
    "import numpy as np\n",
    "import matplotlib.pyplot as plt\n",
    "import seaborn as sns\n",
    "import joblib\n",
    "\n",
    "from sb_capstone.wrangling import (\n",
    "    clean_transcript_group\n",
    ")\n",
    "\n",
    "from sb_capstone.graph import (\n",
    "    plot_corr    \n",
    ")\n",
    "\n",
    "from sb_capstone.shaping import (\n",
    "    get_transcript_offers,\n",
    "    convert_for_receive_training,\n",
    "    convert_for_select_training\n",
    ")\n",
    "\n",
    "%matplotlib inline"
   ]
  },
  {
   "cell_type": "code",
   "execution_count": 3,
   "metadata": {},
   "outputs": [
    {
     "data": {
      "text/html": [
       "<div>\n",
       "<style scoped>\n",
       "    .dataframe tbody tr th:only-of-type {\n",
       "        vertical-align: middle;\n",
       "    }\n",
       "\n",
       "    .dataframe tbody tr th {\n",
       "        vertical-align: top;\n",
       "    }\n",
       "\n",
       "    .dataframe thead th {\n",
       "        text-align: right;\n",
       "    }\n",
       "</style>\n",
       "<table border=\"1\" class=\"dataframe\">\n",
       "  <thead>\n",
       "    <tr style=\"text-align: right;\">\n",
       "      <th></th>\n",
       "      <th>id</th>\n",
       "      <th>wave</th>\n",
       "      <th>diffs</th>\n",
       "      <th>received</th>\n",
       "      <th>viewed</th>\n",
       "      <th>completed</th>\n",
       "      <th>purchased</th>\n",
       "      <th>amount</th>\n",
       "      <th>reward</th>\n",
       "      <th>non_offer_amount</th>\n",
       "      <th>...</th>\n",
       "      <th>mobile</th>\n",
       "      <th>social</th>\n",
       "      <th>gender</th>\n",
       "      <th>age</th>\n",
       "      <th>generation</th>\n",
       "      <th>group</th>\n",
       "      <th>income</th>\n",
       "      <th>membership_year</th>\n",
       "      <th>membership_month</th>\n",
       "      <th>membership_day</th>\n",
       "    </tr>\n",
       "  </thead>\n",
       "  <tbody>\n",
       "    <tr>\n",
       "      <th>0</th>\n",
       "      <td>1</td>\n",
       "      <td>2</td>\n",
       "      <td>48.000000</td>\n",
       "      <td>True</td>\n",
       "      <td>True</td>\n",
       "      <td>False</td>\n",
       "      <td>False</td>\n",
       "      <td>0.00</td>\n",
       "      <td>0.0</td>\n",
       "      <td>0.00</td>\n",
       "      <td>...</td>\n",
       "      <td>True</td>\n",
       "      <td>False</td>\n",
       "      <td>U</td>\n",
       "      <td>NaN</td>\n",
       "      <td>NaN</td>\n",
       "      <td>NaN</td>\n",
       "      <td>NaN</td>\n",
       "      <td>2017</td>\n",
       "      <td>2</td>\n",
       "      <td>12</td>\n",
       "    </tr>\n",
       "    <tr>\n",
       "      <th>1</th>\n",
       "      <td>2</td>\n",
       "      <td>2</td>\n",
       "      <td>49.866737</td>\n",
       "      <td>False</td>\n",
       "      <td>False</td>\n",
       "      <td>False</td>\n",
       "      <td>False</td>\n",
       "      <td>0.00</td>\n",
       "      <td>0.0</td>\n",
       "      <td>0.00</td>\n",
       "      <td>...</td>\n",
       "      <td>False</td>\n",
       "      <td>False</td>\n",
       "      <td>F</td>\n",
       "      <td>55.0</td>\n",
       "      <td>boomers</td>\n",
       "      <td>middle_age</td>\n",
       "      <td>112000.0</td>\n",
       "      <td>2017</td>\n",
       "      <td>7</td>\n",
       "      <td>15</td>\n",
       "    </tr>\n",
       "    <tr>\n",
       "      <th>2</th>\n",
       "      <td>3</td>\n",
       "      <td>2</td>\n",
       "      <td>36.000000</td>\n",
       "      <td>True</td>\n",
       "      <td>True</td>\n",
       "      <td>False</td>\n",
       "      <td>False</td>\n",
       "      <td>0.00</td>\n",
       "      <td>0.0</td>\n",
       "      <td>0.00</td>\n",
       "      <td>...</td>\n",
       "      <td>True</td>\n",
       "      <td>False</td>\n",
       "      <td>U</td>\n",
       "      <td>NaN</td>\n",
       "      <td>NaN</td>\n",
       "      <td>NaN</td>\n",
       "      <td>NaN</td>\n",
       "      <td>2018</td>\n",
       "      <td>7</td>\n",
       "      <td>12</td>\n",
       "    </tr>\n",
       "    <tr>\n",
       "      <th>3</th>\n",
       "      <td>4</td>\n",
       "      <td>2</td>\n",
       "      <td>26.000000</td>\n",
       "      <td>True</td>\n",
       "      <td>True</td>\n",
       "      <td>True</td>\n",
       "      <td>True</td>\n",
       "      <td>19.67</td>\n",
       "      <td>0.0</td>\n",
       "      <td>29.72</td>\n",
       "      <td>...</td>\n",
       "      <td>True</td>\n",
       "      <td>True</td>\n",
       "      <td>F</td>\n",
       "      <td>75.0</td>\n",
       "      <td>silent</td>\n",
       "      <td>old</td>\n",
       "      <td>100000.0</td>\n",
       "      <td>2017</td>\n",
       "      <td>5</td>\n",
       "      <td>9</td>\n",
       "    </tr>\n",
       "    <tr>\n",
       "      <th>4</th>\n",
       "      <td>5</td>\n",
       "      <td>2</td>\n",
       "      <td>49.866737</td>\n",
       "      <td>False</td>\n",
       "      <td>False</td>\n",
       "      <td>False</td>\n",
       "      <td>True</td>\n",
       "      <td>0.00</td>\n",
       "      <td>0.0</td>\n",
       "      <td>3.50</td>\n",
       "      <td>...</td>\n",
       "      <td>False</td>\n",
       "      <td>False</td>\n",
       "      <td>U</td>\n",
       "      <td>NaN</td>\n",
       "      <td>NaN</td>\n",
       "      <td>NaN</td>\n",
       "      <td>NaN</td>\n",
       "      <td>2017</td>\n",
       "      <td>8</td>\n",
       "      <td>4</td>\n",
       "    </tr>\n",
       "  </tbody>\n",
       "</table>\n",
       "<p>5 rows × 28 columns</p>\n",
       "</div>"
      ],
      "text/plain": [
       "   id  wave      diffs  received  viewed  completed  purchased  amount  \\\n",
       "0   1     2  48.000000      True    True      False      False    0.00   \n",
       "1   2     2  49.866737     False   False      False      False    0.00   \n",
       "2   3     2  36.000000      True    True      False      False    0.00   \n",
       "3   4     2  26.000000      True    True       True       True   19.67   \n",
       "4   5     2  49.866737     False   False      False       True    0.00   \n",
       "\n",
       "   reward  non_offer_amount  ... mobile  social  gender   age  generation  \\\n",
       "0     0.0              0.00  ...   True   False       U   NaN         NaN   \n",
       "1     0.0              0.00  ...  False   False       F  55.0     boomers   \n",
       "2     0.0              0.00  ...   True   False       U   NaN         NaN   \n",
       "3     0.0             29.72  ...   True    True       F  75.0      silent   \n",
       "4     0.0              3.50  ...  False   False       U   NaN         NaN   \n",
       "\n",
       "        group    income  membership_year  membership_month  membership_day  \n",
       "0         NaN       NaN             2017                 2              12  \n",
       "1  middle_age  112000.0             2017                 7              15  \n",
       "2         NaN       NaN             2018                 7              12  \n",
       "3         old  100000.0             2017                 5               9  \n",
       "4         NaN       NaN             2017                 8               4  \n",
       "\n",
       "[5 rows x 28 columns]"
      ]
     },
     "execution_count": 3,
     "metadata": {},
     "output_type": "execute_result"
    }
   ],
   "source": [
    "transcript_group = pd.read_csv(\"../data/processed/transcript_group.csv\")\n",
    "transcript_group = clean_transcript_group(transcript_group)\n",
    "\n",
    "transcript_group.head()"
   ]
  },
  {
   "cell_type": "code",
   "execution_count": 4,
   "metadata": {},
   "outputs": [
    {
     "name": "stdout",
     "output_type": "stream",
     "text": [
      "<class 'pandas.core.frame.DataFrame'>\n",
      "RangeIndex: 102000 entries, 0 to 101999\n",
      "Data columns (total 28 columns):\n",
      " #   Column             Non-Null Count   Dtype   \n",
      "---  ------             --------------   -----   \n",
      " 0   id                 102000 non-null  int64   \n",
      " 1   wave               102000 non-null  int64   \n",
      " 2   diffs              102000 non-null  float64 \n",
      " 3   received           102000 non-null  bool    \n",
      " 4   viewed             102000 non-null  bool    \n",
      " 5   completed          102000 non-null  bool    \n",
      " 6   purchased          102000 non-null  bool    \n",
      " 7   amount             102000 non-null  float64 \n",
      " 8   reward             102000 non-null  float64 \n",
      " 9   non_offer_amount   102000 non-null  float64 \n",
      " 10  mapped_offer       102000 non-null  category\n",
      " 11  spendings          102000 non-null  float64 \n",
      " 12  recommended_offer  102000 non-null  int64   \n",
      " 13  offer_type         102000 non-null  category\n",
      " 14  difficulty         102000 non-null  float64 \n",
      " 15  duration           102000 non-null  float64 \n",
      " 16  web                102000 non-null  bool    \n",
      " 17  email              102000 non-null  bool    \n",
      " 18  mobile             102000 non-null  bool    \n",
      " 19  social             102000 non-null  bool    \n",
      " 20  gender             102000 non-null  category\n",
      " 21  age                88950 non-null   float64 \n",
      " 22  generation         88950 non-null   category\n",
      " 23  group              88950 non-null   category\n",
      " 24  income             88950 non-null   float64 \n",
      " 25  membership_year    102000 non-null  int64   \n",
      " 26  membership_month   102000 non-null  int64   \n",
      " 27  membership_day     102000 non-null  int64   \n",
      "dtypes: bool(8), category(5), float64(9), int64(6)\n",
      "memory usage: 12.9 MB\n"
     ]
    }
   ],
   "source": [
    "transcript_group.info()"
   ]
  },
  {
   "cell_type": "markdown",
   "metadata": {},
   "source": [
    "## Q3. How can we make use of the result to improve the app using machine learning?\n",
    "\n",
    "Based on our analysis, we found out that giving out these offers randomly can make customers spends more, however, only the discount revenue are the ones providing us revenue. On the other hand, the offers themselves are not good enough to improve customer's response to avail the offer.\n",
    "\n",
    "Let's look at how we can is to distinguish which demographic are affected by the offers and to those who still spends for the product without the offer."
   ]
  },
  {
   "cell_type": "code",
   "execution_count": 5,
   "metadata": {},
   "outputs": [
    {
     "data": {
      "text/html": [
       "<div>\n",
       "<style scoped>\n",
       "    .dataframe tbody tr th:only-of-type {\n",
       "        vertical-align: middle;\n",
       "    }\n",
       "\n",
       "    .dataframe tbody tr th {\n",
       "        vertical-align: top;\n",
       "    }\n",
       "\n",
       "    .dataframe thead th {\n",
       "        text-align: right;\n",
       "    }\n",
       "</style>\n",
       "<table border=\"1\" class=\"dataframe\">\n",
       "  <thead>\n",
       "    <tr style=\"text-align: right;\">\n",
       "      <th></th>\n",
       "      <th>id</th>\n",
       "      <th>wave</th>\n",
       "      <th>diffs</th>\n",
       "      <th>received</th>\n",
       "      <th>viewed</th>\n",
       "      <th>completed</th>\n",
       "      <th>purchased</th>\n",
       "      <th>amount</th>\n",
       "      <th>reward</th>\n",
       "      <th>non_offer_amount</th>\n",
       "      <th>...</th>\n",
       "      <th>mobile</th>\n",
       "      <th>social</th>\n",
       "      <th>gender</th>\n",
       "      <th>age</th>\n",
       "      <th>generation</th>\n",
       "      <th>group</th>\n",
       "      <th>income</th>\n",
       "      <th>membership_year</th>\n",
       "      <th>membership_month</th>\n",
       "      <th>membership_day</th>\n",
       "    </tr>\n",
       "  </thead>\n",
       "  <tbody>\n",
       "    <tr>\n",
       "      <th>2</th>\n",
       "      <td>3</td>\n",
       "      <td>2</td>\n",
       "      <td>36.000000</td>\n",
       "      <td>True</td>\n",
       "      <td>True</td>\n",
       "      <td>False</td>\n",
       "      <td>False</td>\n",
       "      <td>0.00</td>\n",
       "      <td>0.0</td>\n",
       "      <td>0.00</td>\n",
       "      <td>...</td>\n",
       "      <td>True</td>\n",
       "      <td>False</td>\n",
       "      <td>U</td>\n",
       "      <td>NaN</td>\n",
       "      <td>NaN</td>\n",
       "      <td>NaN</td>\n",
       "      <td>NaN</td>\n",
       "      <td>2018</td>\n",
       "      <td>7</td>\n",
       "      <td>12</td>\n",
       "    </tr>\n",
       "    <tr>\n",
       "      <th>17002</th>\n",
       "      <td>3</td>\n",
       "      <td>3</td>\n",
       "      <td>49.866737</td>\n",
       "      <td>False</td>\n",
       "      <td>False</td>\n",
       "      <td>False</td>\n",
       "      <td>True</td>\n",
       "      <td>0.00</td>\n",
       "      <td>0.0</td>\n",
       "      <td>1.64</td>\n",
       "      <td>...</td>\n",
       "      <td>False</td>\n",
       "      <td>False</td>\n",
       "      <td>U</td>\n",
       "      <td>NaN</td>\n",
       "      <td>NaN</td>\n",
       "      <td>NaN</td>\n",
       "      <td>NaN</td>\n",
       "      <td>2018</td>\n",
       "      <td>7</td>\n",
       "      <td>12</td>\n",
       "    </tr>\n",
       "    <tr>\n",
       "      <th>34002</th>\n",
       "      <td>3</td>\n",
       "      <td>4</td>\n",
       "      <td>49.866737</td>\n",
       "      <td>False</td>\n",
       "      <td>False</td>\n",
       "      <td>False</td>\n",
       "      <td>True</td>\n",
       "      <td>0.00</td>\n",
       "      <td>0.0</td>\n",
       "      <td>5.09</td>\n",
       "      <td>...</td>\n",
       "      <td>False</td>\n",
       "      <td>False</td>\n",
       "      <td>U</td>\n",
       "      <td>NaN</td>\n",
       "      <td>NaN</td>\n",
       "      <td>NaN</td>\n",
       "      <td>NaN</td>\n",
       "      <td>2018</td>\n",
       "      <td>7</td>\n",
       "      <td>12</td>\n",
       "    </tr>\n",
       "    <tr>\n",
       "      <th>51002</th>\n",
       "      <td>3</td>\n",
       "      <td>5</td>\n",
       "      <td>49.866737</td>\n",
       "      <td>False</td>\n",
       "      <td>False</td>\n",
       "      <td>False</td>\n",
       "      <td>False</td>\n",
       "      <td>0.00</td>\n",
       "      <td>0.0</td>\n",
       "      <td>0.00</td>\n",
       "      <td>...</td>\n",
       "      <td>False</td>\n",
       "      <td>False</td>\n",
       "      <td>U</td>\n",
       "      <td>NaN</td>\n",
       "      <td>NaN</td>\n",
       "      <td>NaN</td>\n",
       "      <td>NaN</td>\n",
       "      <td>2018</td>\n",
       "      <td>7</td>\n",
       "      <td>12</td>\n",
       "    </tr>\n",
       "    <tr>\n",
       "      <th>68002</th>\n",
       "      <td>3</td>\n",
       "      <td>6</td>\n",
       "      <td>64.000000</td>\n",
       "      <td>True</td>\n",
       "      <td>False</td>\n",
       "      <td>True</td>\n",
       "      <td>False</td>\n",
       "      <td>2.14</td>\n",
       "      <td>0.0</td>\n",
       "      <td>4.09</td>\n",
       "      <td>...</td>\n",
       "      <td>True</td>\n",
       "      <td>True</td>\n",
       "      <td>U</td>\n",
       "      <td>NaN</td>\n",
       "      <td>NaN</td>\n",
       "      <td>NaN</td>\n",
       "      <td>NaN</td>\n",
       "      <td>2018</td>\n",
       "      <td>7</td>\n",
       "      <td>12</td>\n",
       "    </tr>\n",
       "    <tr>\n",
       "      <th>85002</th>\n",
       "      <td>3</td>\n",
       "      <td>1</td>\n",
       "      <td>49.866737</td>\n",
       "      <td>False</td>\n",
       "      <td>False</td>\n",
       "      <td>False</td>\n",
       "      <td>True</td>\n",
       "      <td>0.00</td>\n",
       "      <td>0.0</td>\n",
       "      <td>1.34</td>\n",
       "      <td>...</td>\n",
       "      <td>False</td>\n",
       "      <td>False</td>\n",
       "      <td>U</td>\n",
       "      <td>NaN</td>\n",
       "      <td>NaN</td>\n",
       "      <td>NaN</td>\n",
       "      <td>NaN</td>\n",
       "      <td>2018</td>\n",
       "      <td>7</td>\n",
       "      <td>12</td>\n",
       "    </tr>\n",
       "  </tbody>\n",
       "</table>\n",
       "<p>6 rows × 28 columns</p>\n",
       "</div>"
      ],
      "text/plain": [
       "       id  wave      diffs  received  viewed  completed  purchased  amount  \\\n",
       "2       3     2  36.000000      True    True      False      False    0.00   \n",
       "17002   3     3  49.866737     False   False      False       True    0.00   \n",
       "34002   3     4  49.866737     False   False      False       True    0.00   \n",
       "51002   3     5  49.866737     False   False      False      False    0.00   \n",
       "68002   3     6  64.000000      True   False       True      False    2.14   \n",
       "85002   3     1  49.866737     False   False      False       True    0.00   \n",
       "\n",
       "       reward  non_offer_amount  ... mobile  social  gender age  generation  \\\n",
       "2         0.0              0.00  ...   True   False       U NaN         NaN   \n",
       "17002     0.0              1.64  ...  False   False       U NaN         NaN   \n",
       "34002     0.0              5.09  ...  False   False       U NaN         NaN   \n",
       "51002     0.0              0.00  ...  False   False       U NaN         NaN   \n",
       "68002     0.0              4.09  ...   True    True       U NaN         NaN   \n",
       "85002     0.0              1.34  ...  False   False       U NaN         NaN   \n",
       "\n",
       "       group  income  membership_year  membership_month  membership_day  \n",
       "2        NaN     NaN             2018                 7              12  \n",
       "17002    NaN     NaN             2018                 7              12  \n",
       "34002    NaN     NaN             2018                 7              12  \n",
       "51002    NaN     NaN             2018                 7              12  \n",
       "68002    NaN     NaN             2018                 7              12  \n",
       "85002    NaN     NaN             2018                 7              12  \n",
       "\n",
       "[6 rows x 28 columns]"
      ]
     },
     "execution_count": 5,
     "metadata": {},
     "output_type": "execute_result"
    }
   ],
   "source": [
    "transcript_group[transcript_group.id == 3]"
   ]
  },
  {
   "cell_type": "markdown",
   "metadata": {},
   "source": [
    "Let's analyze a bit who should be given out with offers."
   ]
  },
  {
   "cell_type": "code",
   "execution_count": 6,
   "metadata": {},
   "outputs": [
    {
     "data": {
      "image/png": "[encoded data removed]",
      "text/plain": [
       "<Figure size 421.25x360 with 1 Axes>"
      ]
     },
     "metadata": {
      "needs_background": "light"
     },
     "output_type": "display_data"
    }
   ],
   "source": [
    "sns.catplot(data=transcript_group[transcript_group.received], kind=\"count\", x=\"wave\", hue=\"completed\");"
   ]
  },
  {
   "cell_type": "code",
   "execution_count": 7,
   "metadata": {},
   "outputs": [
    {
     "data": {
      "image/png": "[encoded data removed]",
      "text/plain": [
       "<Figure size 421.25x360 with 1 Axes>"
      ]
     },
     "metadata": {
      "needs_background": "light"
     },
     "output_type": "display_data"
    }
   ],
   "source": [
    "sns.catplot(data=transcript_group, kind=\"count\", x=\"received\", hue=\"completed\");"
   ]
  },
  {
   "cell_type": "code",
   "execution_count": 8,
   "metadata": {},
   "outputs": [
    {
     "data": {
      "image/png": "[encoded data removed]",
      "text/plain": [
       "<Figure size 421.25x360 with 1 Axes>"
      ]
     },
     "metadata": {
      "needs_background": "light"
     },
     "output_type": "display_data"
    }
   ],
   "source": [
    "sns.catplot(data=transcript_group, kind=\"count\", x=\"received\", hue=\"purchased\");"
   ]
  },
  {
   "cell_type": "markdown",
   "metadata": {},
   "source": [
    "### Part 1: Who should be given out with offers?\n",
    "\n",
    "For the first part, we need things that relates to the customer, as we are going try to check if the customer may respond to the offer. At this point, we are just going to respond based on the demography of the customer.\n",
    "\n",
    "Also, it'll be useless to add the anonymous customers for our training data, so we are going to remove them as well.\n",
    "\n",
    "Aside from that, we are also going to limit the data to those who received offer only and how they reacted to it. This way we'll now if it's effective or not."
   ]
  },
  {
   "cell_type": "code",
   "execution_count": 9,
   "metadata": {},
   "outputs": [
    {
     "data": {
      "text/html": [
       "<div>\n",
       "<style scoped>\n",
       "    .dataframe tbody tr th:only-of-type {\n",
       "        vertical-align: middle;\n",
       "    }\n",
       "\n",
       "    .dataframe tbody tr th {\n",
       "        vertical-align: top;\n",
       "    }\n",
       "\n",
       "    .dataframe thead th {\n",
       "        text-align: right;\n",
       "    }\n",
       "</style>\n",
       "<table border=\"1\" class=\"dataframe\">\n",
       "  <thead>\n",
       "    <tr style=\"text-align: right;\">\n",
       "      <th></th>\n",
       "      <th>purchased</th>\n",
       "      <th>gender</th>\n",
       "      <th>age</th>\n",
       "      <th>income</th>\n",
       "      <th>membership_year</th>\n",
       "      <th>membership_month</th>\n",
       "      <th>membership_day</th>\n",
       "      <th>gen_z</th>\n",
       "      <th>millenials</th>\n",
       "      <th>gen_x</th>\n",
       "      <th>boomers</th>\n",
       "      <th>silent</th>\n",
       "      <th>young</th>\n",
       "      <th>adult</th>\n",
       "      <th>middle_age</th>\n",
       "      <th>old</th>\n",
       "    </tr>\n",
       "  </thead>\n",
       "  <tbody>\n",
       "    <tr>\n",
       "      <th>0</th>\n",
       "      <td>1.0</td>\n",
       "      <td>0.0</td>\n",
       "      <td>75.0</td>\n",
       "      <td>100000.0</td>\n",
       "      <td>2017.0</td>\n",
       "      <td>5.0</td>\n",
       "      <td>9.0</td>\n",
       "      <td>0.0</td>\n",
       "      <td>0.0</td>\n",
       "      <td>0.0</td>\n",
       "      <td>0.0</td>\n",
       "      <td>1.0</td>\n",
       "      <td>0.0</td>\n",
       "      <td>0.0</td>\n",
       "      <td>0.0</td>\n",
       "      <td>1.0</td>\n",
       "    </tr>\n",
       "    <tr>\n",
       "      <th>1</th>\n",
       "      <td>1.0</td>\n",
       "      <td>1.0</td>\n",
       "      <td>65.0</td>\n",
       "      <td>53000.0</td>\n",
       "      <td>2018.0</td>\n",
       "      <td>2.0</td>\n",
       "      <td>9.0</td>\n",
       "      <td>0.0</td>\n",
       "      <td>0.0</td>\n",
       "      <td>0.0</td>\n",
       "      <td>1.0</td>\n",
       "      <td>0.0</td>\n",
       "      <td>0.0</td>\n",
       "      <td>0.0</td>\n",
       "      <td>0.0</td>\n",
       "      <td>1.0</td>\n",
       "    </tr>\n",
       "    <tr>\n",
       "      <th>2</th>\n",
       "      <td>0.0</td>\n",
       "      <td>1.0</td>\n",
       "      <td>58.0</td>\n",
       "      <td>51000.0</td>\n",
       "      <td>2017.0</td>\n",
       "      <td>11.0</td>\n",
       "      <td>11.0</td>\n",
       "      <td>0.0</td>\n",
       "      <td>0.0</td>\n",
       "      <td>0.0</td>\n",
       "      <td>1.0</td>\n",
       "      <td>0.0</td>\n",
       "      <td>0.0</td>\n",
       "      <td>0.0</td>\n",
       "      <td>1.0</td>\n",
       "      <td>0.0</td>\n",
       "    </tr>\n",
       "    <tr>\n",
       "      <th>3</th>\n",
       "      <td>1.0</td>\n",
       "      <td>0.0</td>\n",
       "      <td>61.0</td>\n",
       "      <td>57000.0</td>\n",
       "      <td>2017.0</td>\n",
       "      <td>9.0</td>\n",
       "      <td>11.0</td>\n",
       "      <td>0.0</td>\n",
       "      <td>0.0</td>\n",
       "      <td>0.0</td>\n",
       "      <td>1.0</td>\n",
       "      <td>0.0</td>\n",
       "      <td>0.0</td>\n",
       "      <td>0.0</td>\n",
       "      <td>0.0</td>\n",
       "      <td>1.0</td>\n",
       "    </tr>\n",
       "    <tr>\n",
       "      <th>4</th>\n",
       "      <td>0.0</td>\n",
       "      <td>1.0</td>\n",
       "      <td>26.0</td>\n",
       "      <td>46000.0</td>\n",
       "      <td>2014.0</td>\n",
       "      <td>2.0</td>\n",
       "      <td>13.0</td>\n",
       "      <td>0.0</td>\n",
       "      <td>1.0</td>\n",
       "      <td>0.0</td>\n",
       "      <td>0.0</td>\n",
       "      <td>0.0</td>\n",
       "      <td>0.0</td>\n",
       "      <td>1.0</td>\n",
       "      <td>0.0</td>\n",
       "      <td>0.0</td>\n",
       "    </tr>\n",
       "  </tbody>\n",
       "</table>\n",
       "</div>"
      ],
      "text/plain": [
       "   purchased  gender   age    income  membership_year  membership_month  \\\n",
       "0        1.0     0.0  75.0  100000.0           2017.0               5.0   \n",
       "1        1.0     1.0  65.0   53000.0           2018.0               2.0   \n",
       "2        0.0     1.0  58.0   51000.0           2017.0              11.0   \n",
       "3        1.0     0.0  61.0   57000.0           2017.0               9.0   \n",
       "4        0.0     1.0  26.0   46000.0           2014.0               2.0   \n",
       "\n",
       "   membership_day  gen_z  millenials  gen_x  boomers  silent  young  adult  \\\n",
       "0             9.0    0.0         0.0    0.0      0.0     1.0    0.0    0.0   \n",
       "1             9.0    0.0         0.0    0.0      1.0     0.0    0.0    0.0   \n",
       "2            11.0    0.0         0.0    0.0      1.0     0.0    0.0    0.0   \n",
       "3            11.0    0.0         0.0    0.0      1.0     0.0    0.0    0.0   \n",
       "4            13.0    0.0         1.0    0.0      0.0     0.0    0.0    1.0   \n",
       "\n",
       "   middle_age  old  \n",
       "0         0.0  1.0  \n",
       "1         0.0  1.0  \n",
       "2         1.0  0.0  \n",
       "3         0.0  1.0  \n",
       "4         0.0  0.0  "
      ]
     },
     "execution_count": 9,
     "metadata": {},
     "output_type": "execute_result"
    }
   ],
   "source": [
    "data = convert_for_receive_training(transcript_group.copy())\n",
    "data.head()"
   ]
  },
  {
   "cell_type": "code",
   "execution_count": 10,
   "metadata": {},
   "outputs": [
    {
     "name": "stdout",
     "output_type": "stream",
     "text": [
      "<class 'pandas.core.frame.DataFrame'>\n",
      "RangeIndex: 66501 entries, 0 to 66500\n",
      "Data columns (total 16 columns):\n",
      " #   Column            Non-Null Count  Dtype  \n",
      "---  ------            --------------  -----  \n",
      " 0   purchased         66501 non-null  float64\n",
      " 1   gender            66501 non-null  float64\n",
      " 2   age               66501 non-null  float64\n",
      " 3   income            66501 non-null  float64\n",
      " 4   membership_year   66501 non-null  float64\n",
      " 5   membership_month  66501 non-null  float64\n",
      " 6   membership_day    66501 non-null  float64\n",
      " 7   gen_z             66501 non-null  float64\n",
      " 8   millenials        66501 non-null  float64\n",
      " 9   gen_x             66501 non-null  float64\n",
      " 10  boomers           66501 non-null  float64\n",
      " 11  silent            66501 non-null  float64\n",
      " 12  young             66501 non-null  float64\n",
      " 13  adult             66501 non-null  float64\n",
      " 14  middle_age        66501 non-null  float64\n",
      " 15  old               66501 non-null  float64\n",
      "dtypes: float64(16)\n",
      "memory usage: 8.1 MB\n"
     ]
    }
   ],
   "source": [
    "data.info()"
   ]
  },
  {
   "cell_type": "code",
   "execution_count": 11,
   "metadata": {},
   "outputs": [
    {
     "data": {
      "image/png": "[encoded data removed]",
      "text/plain": [
       "<Figure size 1152x864 with 2 Axes>"
      ]
     },
     "metadata": {
      "needs_background": "light"
     },
     "output_type": "display_data"
    }
   ],
   "source": [
    "plot_corr(data.corr())"
   ]
  },
  {
   "cell_type": "code",
   "execution_count": 12,
   "metadata": {},
   "outputs": [
    {
     "data": {
      "image/png": "[encoded data removed]",
      "text/plain": [
       "<Figure size 432x288 with 1 Axes>"
      ]
     },
     "metadata": {
      "needs_background": "light"
     },
     "output_type": "display_data"
    }
   ],
   "source": [
    "data.purchased.value_counts().plot(kind=\"bar\");"
   ]
  },
  {
   "cell_type": "code",
   "execution_count": 13,
   "metadata": {},
   "outputs": [],
   "source": [
    "from sklearn.experimental import enable_iterative_imputer\n",
    "from sklearn.impute import IterativeImputer\n",
    "\n",
    "imputer = IterativeImputer(initial_strategy=\"most_frequent\")\n",
    "data = pd.DataFrame(imputer.fit_transform(data), columns=data.columns)"
   ]
  },
  {
   "cell_type": "code",
   "execution_count": 14,
   "metadata": {},
   "outputs": [
    {
     "data": {
      "text/html": [
       "<div>\n",
       "<style scoped>\n",
       "    .dataframe tbody tr th:only-of-type {\n",
       "        vertical-align: middle;\n",
       "    }\n",
       "\n",
       "    .dataframe tbody tr th {\n",
       "        vertical-align: top;\n",
       "    }\n",
       "\n",
       "    .dataframe thead th {\n",
       "        text-align: right;\n",
       "    }\n",
       "</style>\n",
       "<table border=\"1\" class=\"dataframe\">\n",
       "  <thead>\n",
       "    <tr style=\"text-align: right;\">\n",
       "      <th></th>\n",
       "      <th>purchased</th>\n",
       "      <th>gender</th>\n",
       "      <th>age</th>\n",
       "      <th>income</th>\n",
       "      <th>membership_year</th>\n",
       "      <th>membership_month</th>\n",
       "      <th>membership_day</th>\n",
       "      <th>gen_z</th>\n",
       "      <th>millenials</th>\n",
       "      <th>gen_x</th>\n",
       "      <th>boomers</th>\n",
       "      <th>silent</th>\n",
       "      <th>young</th>\n",
       "      <th>adult</th>\n",
       "      <th>middle_age</th>\n",
       "      <th>old</th>\n",
       "    </tr>\n",
       "  </thead>\n",
       "  <tbody>\n",
       "    <tr>\n",
       "      <th>0</th>\n",
       "      <td>1.0</td>\n",
       "      <td>0.0</td>\n",
       "      <td>75.0</td>\n",
       "      <td>100000.0</td>\n",
       "      <td>2017.0</td>\n",
       "      <td>5.0</td>\n",
       "      <td>9.0</td>\n",
       "      <td>0.0</td>\n",
       "      <td>0.0</td>\n",
       "      <td>0.0</td>\n",
       "      <td>0.0</td>\n",
       "      <td>1.0</td>\n",
       "      <td>0.0</td>\n",
       "      <td>0.0</td>\n",
       "      <td>0.0</td>\n",
       "      <td>1.0</td>\n",
       "    </tr>\n",
       "    <tr>\n",
       "      <th>1</th>\n",
       "      <td>1.0</td>\n",
       "      <td>1.0</td>\n",
       "      <td>65.0</td>\n",
       "      <td>53000.0</td>\n",
       "      <td>2018.0</td>\n",
       "      <td>2.0</td>\n",
       "      <td>9.0</td>\n",
       "      <td>0.0</td>\n",
       "      <td>0.0</td>\n",
       "      <td>0.0</td>\n",
       "      <td>1.0</td>\n",
       "      <td>0.0</td>\n",
       "      <td>0.0</td>\n",
       "      <td>0.0</td>\n",
       "      <td>0.0</td>\n",
       "      <td>1.0</td>\n",
       "    </tr>\n",
       "    <tr>\n",
       "      <th>2</th>\n",
       "      <td>0.0</td>\n",
       "      <td>1.0</td>\n",
       "      <td>58.0</td>\n",
       "      <td>51000.0</td>\n",
       "      <td>2017.0</td>\n",
       "      <td>11.0</td>\n",
       "      <td>11.0</td>\n",
       "      <td>0.0</td>\n",
       "      <td>0.0</td>\n",
       "      <td>0.0</td>\n",
       "      <td>1.0</td>\n",
       "      <td>0.0</td>\n",
       "      <td>0.0</td>\n",
       "      <td>0.0</td>\n",
       "      <td>1.0</td>\n",
       "      <td>0.0</td>\n",
       "    </tr>\n",
       "    <tr>\n",
       "      <th>3</th>\n",
       "      <td>1.0</td>\n",
       "      <td>0.0</td>\n",
       "      <td>61.0</td>\n",
       "      <td>57000.0</td>\n",
       "      <td>2017.0</td>\n",
       "      <td>9.0</td>\n",
       "      <td>11.0</td>\n",
       "      <td>0.0</td>\n",
       "      <td>0.0</td>\n",
       "      <td>0.0</td>\n",
       "      <td>1.0</td>\n",
       "      <td>0.0</td>\n",
       "      <td>0.0</td>\n",
       "      <td>0.0</td>\n",
       "      <td>0.0</td>\n",
       "      <td>1.0</td>\n",
       "    </tr>\n",
       "    <tr>\n",
       "      <th>4</th>\n",
       "      <td>0.0</td>\n",
       "      <td>1.0</td>\n",
       "      <td>26.0</td>\n",
       "      <td>46000.0</td>\n",
       "      <td>2014.0</td>\n",
       "      <td>2.0</td>\n",
       "      <td>13.0</td>\n",
       "      <td>0.0</td>\n",
       "      <td>1.0</td>\n",
       "      <td>0.0</td>\n",
       "      <td>0.0</td>\n",
       "      <td>0.0</td>\n",
       "      <td>0.0</td>\n",
       "      <td>1.0</td>\n",
       "      <td>0.0</td>\n",
       "      <td>0.0</td>\n",
       "    </tr>\n",
       "  </tbody>\n",
       "</table>\n",
       "</div>"
      ],
      "text/plain": [
       "   purchased  gender   age    income  membership_year  membership_month  \\\n",
       "0        1.0     0.0  75.0  100000.0           2017.0               5.0   \n",
       "1        1.0     1.0  65.0   53000.0           2018.0               2.0   \n",
       "2        0.0     1.0  58.0   51000.0           2017.0              11.0   \n",
       "3        1.0     0.0  61.0   57000.0           2017.0               9.0   \n",
       "4        0.0     1.0  26.0   46000.0           2014.0               2.0   \n",
       "\n",
       "   membership_day  gen_z  millenials  gen_x  boomers  silent  young  adult  \\\n",
       "0             9.0    0.0         0.0    0.0      0.0     1.0    0.0    0.0   \n",
       "1             9.0    0.0         0.0    0.0      1.0     0.0    0.0    0.0   \n",
       "2            11.0    0.0         0.0    0.0      1.0     0.0    0.0    0.0   \n",
       "3            11.0    0.0         0.0    0.0      1.0     0.0    0.0    0.0   \n",
       "4            13.0    0.0         1.0    0.0      0.0     0.0    0.0    1.0   \n",
       "\n",
       "   middle_age  old  \n",
       "0         0.0  1.0  \n",
       "1         0.0  1.0  \n",
       "2         1.0  0.0  \n",
       "3         0.0  1.0  \n",
       "4         0.0  0.0  "
      ]
     },
     "execution_count": 14,
     "metadata": {},
     "output_type": "execute_result"
    }
   ],
   "source": [
    "data.head()"
   ]
  },
  {
   "cell_type": "code",
   "execution_count": 15,
   "metadata": {},
   "outputs": [
    {
     "name": "stdout",
     "output_type": "stream",
     "text": [
      "<class 'pandas.core.frame.DataFrame'>\n",
      "RangeIndex: 66501 entries, 0 to 66500\n",
      "Data columns (total 16 columns):\n",
      " #   Column            Non-Null Count  Dtype  \n",
      "---  ------            --------------  -----  \n",
      " 0   purchased         66501 non-null  float64\n",
      " 1   gender            66501 non-null  float64\n",
      " 2   age               66501 non-null  float64\n",
      " 3   income            66501 non-null  float64\n",
      " 4   membership_year   66501 non-null  float64\n",
      " 5   membership_month  66501 non-null  float64\n",
      " 6   membership_day    66501 non-null  float64\n",
      " 7   gen_z             66501 non-null  float64\n",
      " 8   millenials        66501 non-null  float64\n",
      " 9   gen_x             66501 non-null  float64\n",
      " 10  boomers           66501 non-null  float64\n",
      " 11  silent            66501 non-null  float64\n",
      " 12  young             66501 non-null  float64\n",
      " 13  adult             66501 non-null  float64\n",
      " 14  middle_age        66501 non-null  float64\n",
      " 15  old               66501 non-null  float64\n",
      "dtypes: float64(16)\n",
      "memory usage: 8.1 MB\n"
     ]
    }
   ],
   "source": [
    "data.info()"
   ]
  },
  {
   "cell_type": "markdown",
   "metadata": {},
   "source": [
    "We are going to use a simple logistic regression for this one using `purchased` as response variable."
   ]
  },
  {
   "cell_type": "code",
   "execution_count": 16,
   "metadata": {},
   "outputs": [],
   "source": [
    "from sklearn.model_selection import train_test_split\n",
    "\n",
    "y = data.purchased\n",
    "X = data.drop(columns=[\"purchased\"])\n",
    "\n",
    "X_train, X_test, y_train, y_test = train_test_split(X, y, random_state=42)"
   ]
  },
  {
   "cell_type": "code",
   "execution_count": 17,
   "metadata": {},
   "outputs": [
    {
     "data": {
      "text/plain": [
       "LogisticRegression()"
      ]
     },
     "execution_count": 17,
     "metadata": {},
     "output_type": "execute_result"
    }
   ],
   "source": [
    "from sklearn.linear_model import LogisticRegression\n",
    "\n",
    "lr = LogisticRegression()\n",
    "lr.fit(X_train, y_train)"
   ]
  },
  {
   "cell_type": "code",
   "execution_count": 18,
   "metadata": {},
   "outputs": [
    {
     "name": "stdout",
     "output_type": "stream",
     "text": [
      "              precision    recall  f1-score   support\n",
      "\n",
      "         0.0       0.97      0.59      0.73     16039\n",
      "         1.0       0.04      0.44      0.07       587\n",
      "\n",
      "    accuracy                           0.59     16626\n",
      "   macro avg       0.50      0.52      0.40     16626\n",
      "weighted avg       0.93      0.59      0.71     16626\n",
      "\n"
     ]
    }
   ],
   "source": [
    "from sklearn.metrics import classification_report\n",
    "\n",
    "y_true = lr.predict(X_test)\n",
    "\n",
    "print(classification_report(y_true, y_test))"
   ]
  },
  {
   "cell_type": "markdown",
   "metadata": {},
   "source": [
    "Let's feed this to `GridSearchCV`."
   ]
  },
  {
   "cell_type": "code",
   "execution_count": 19,
   "metadata": {},
   "outputs": [],
   "source": [
    "from sklearn.pipeline import Pipeline\n",
    "\n",
    "pipeline = Pipeline([\n",
    "    (\"clf\", LogisticRegression())\n",
    "])"
   ]
  },
  {
   "cell_type": "markdown",
   "metadata": {},
   "source": [
    "After trial and error, I selected the top 3 algorithms that yield best results. For this instance, we'll make use of F1-score as this a balance between precision and recall."
   ]
  },
  {
   "cell_type": "code",
   "execution_count": 20,
   "metadata": {},
   "outputs": [],
   "source": [
    "from sklearn.tree import DecisionTreeClassifier\n",
    "from sklearn.neighbors import KNeighborsClassifier\n",
    "\n",
    "parameters_clf = {\n",
    "    \"clf\": [\n",
    "        LogisticRegression(),\n",
    "        DecisionTreeClassifier(),\n",
    "        KNeighborsClassifier()\n",
    "    ]\n",
    "}"
   ]
  },
  {
   "cell_type": "code",
   "execution_count": 21,
   "metadata": {},
   "outputs": [
    {
     "name": "stdout",
     "output_type": "stream",
     "text": [
      "Fitting 5 folds for each of 3 candidates, totalling 15 fits\n",
      "{'clf': DecisionTreeClassifier()}\n"
     ]
    }
   ],
   "source": [
    "from sklearn.model_selection import GridSearchCV\n",
    "\n",
    "cv = GridSearchCV(pipeline, parameters_clf, verbose=1)\n",
    "cv.fit(X_train, y_train)\n",
    "print(cv.best_params_)"
   ]
  },
  {
   "cell_type": "code",
   "execution_count": 22,
   "metadata": {},
   "outputs": [
    {
     "name": "stdout",
     "output_type": "stream",
     "text": [
      "              precision    recall  f1-score   support\n",
      "\n",
      "         0.0       0.65      0.78      0.71      9804\n",
      "         1.0       0.56      0.41      0.48      6822\n",
      "\n",
      "    accuracy                           0.63     16626\n",
      "   macro avg       0.61      0.59      0.59     16626\n",
      "weighted avg       0.62      0.63      0.61     16626\n",
      "\n"
     ]
    }
   ],
   "source": [
    "y_pred = cv.predict(X_test)\n",
    "\n",
    "print(classification_report(y_test, y_pred))"
   ]
  },
  {
   "cell_type": "markdown",
   "metadata": {},
   "source": [
    "F1 score on average at 0.63, proactively giving out offers 5011 out of 11615, should be good enough to setup the next experiment.\n",
    "\n",
    "Let's export this later for library use."
   ]
  },
  {
   "cell_type": "code",
   "execution_count": 23,
   "metadata": {},
   "outputs": [
    {
     "data": {
      "text/plain": [
       "['../models/receive_offer.pkl']"
      ]
     },
     "execution_count": 23,
     "metadata": {},
     "output_type": "execute_result"
    }
   ],
   "source": [
    "joblib.dump(cv, \"../models/receive_offer.pkl\")"
   ]
  },
  {
   "cell_type": "markdown",
   "metadata": {},
   "source": [
    "### Part 2: Which offer should we give out?\n",
    "\n",
    "Examining the current data that we have, this can be answered by creating a recommendation system for the customer. However, we are going to make use of the customer features and try to classify which offer fits best. On this instance, we are going to create a multi-output classifier.\n",
    "\n",
    "We need to perform the following first.\n",
    "* We need to flatten further the dataset and get the successful offers"
   ]
  },
  {
   "cell_type": "code",
   "execution_count": 24,
   "metadata": {},
   "outputs": [
    {
     "data": {
      "image/png": "[encoded data removed]",
      "text/plain": [
       "<Figure size 432x288 with 1 Axes>"
      ]
     },
     "metadata": {
      "needs_background": "light"
     },
     "output_type": "display_data"
    }
   ],
   "source": [
    "transcript_group.recommended_offer.value_counts().plot(kind=\"bar\");"
   ]
  },
  {
   "cell_type": "markdown",
   "metadata": {},
   "source": [
    "Those successful and did not received any offer have way more samples. Since we already have a model to select who will receive and not, we can remove those later."
   ]
  },
  {
   "cell_type": "code",
   "execution_count": 25,
   "metadata": {},
   "outputs": [
    {
     "data": {
      "text/html": [
       "<div>\n",
       "<style scoped>\n",
       "    .dataframe tbody tr th:only-of-type {\n",
       "        vertical-align: middle;\n",
       "    }\n",
       "\n",
       "    .dataframe tbody tr th {\n",
       "        vertical-align: top;\n",
       "    }\n",
       "\n",
       "    .dataframe thead th {\n",
       "        text-align: right;\n",
       "    }\n",
       "</style>\n",
       "<table border=\"1\" class=\"dataframe\">\n",
       "  <thead>\n",
       "    <tr style=\"text-align: right;\">\n",
       "      <th></th>\n",
       "      <th>id</th>\n",
       "      <th>recommended_offer</th>\n",
       "      <th>gender</th>\n",
       "      <th>age</th>\n",
       "      <th>income</th>\n",
       "      <th>membership_year</th>\n",
       "      <th>membership_month</th>\n",
       "      <th>membership_day</th>\n",
       "    </tr>\n",
       "  </thead>\n",
       "  <tbody>\n",
       "    <tr>\n",
       "      <th>0</th>\n",
       "      <td>1</td>\n",
       "      <td>[7, 6]</td>\n",
       "      <td>U</td>\n",
       "      <td>NaN</td>\n",
       "      <td>NaN</td>\n",
       "      <td>2017</td>\n",
       "      <td>2</td>\n",
       "      <td>12</td>\n",
       "    </tr>\n",
       "    <tr>\n",
       "      <th>1</th>\n",
       "      <td>4</td>\n",
       "      <td>[8, 1, 4]</td>\n",
       "      <td>F</td>\n",
       "      <td>75.0</td>\n",
       "      <td>100000.0</td>\n",
       "      <td>2017</td>\n",
       "      <td>5</td>\n",
       "      <td>9</td>\n",
       "    </tr>\n",
       "    <tr>\n",
       "      <th>2</th>\n",
       "      <td>6</td>\n",
       "      <td>[4, 7]</td>\n",
       "      <td>M</td>\n",
       "      <td>68.0</td>\n",
       "      <td>70000.0</td>\n",
       "      <td>2018</td>\n",
       "      <td>4</td>\n",
       "      <td>26</td>\n",
       "    </tr>\n",
       "    <tr>\n",
       "      <th>3</th>\n",
       "      <td>9</td>\n",
       "      <td>[4, 10, 9, 7]</td>\n",
       "      <td>M</td>\n",
       "      <td>65.0</td>\n",
       "      <td>53000.0</td>\n",
       "      <td>2018</td>\n",
       "      <td>2</td>\n",
       "      <td>9</td>\n",
       "    </tr>\n",
       "    <tr>\n",
       "      <th>4</th>\n",
       "      <td>11</td>\n",
       "      <td>[1]</td>\n",
       "      <td>U</td>\n",
       "      <td>NaN</td>\n",
       "      <td>NaN</td>\n",
       "      <td>2017</td>\n",
       "      <td>8</td>\n",
       "      <td>24</td>\n",
       "    </tr>\n",
       "  </tbody>\n",
       "</table>\n",
       "</div>"
      ],
      "text/plain": [
       "   id recommended_offer gender   age    income  membership_year  \\\n",
       "0   1            [7, 6]      U   NaN       NaN             2017   \n",
       "1   4         [8, 1, 4]      F  75.0  100000.0             2017   \n",
       "2   6            [4, 7]      M  68.0   70000.0             2018   \n",
       "3   9     [4, 10, 9, 7]      M  65.0   53000.0             2018   \n",
       "4  11               [1]      U   NaN       NaN             2017   \n",
       "\n",
       "   membership_month  membership_day  \n",
       "0                 2              12  \n",
       "1                 5               9  \n",
       "2                 4              26  \n",
       "3                 2               9  \n",
       "4                 8              24  "
      ]
     },
     "execution_count": 25,
     "metadata": {},
     "output_type": "execute_result"
    }
   ],
   "source": [
    "data = get_transcript_offers(transcript_group)\n",
    "\n",
    "data.head()"
   ]
  },
  {
   "cell_type": "code",
   "execution_count": 26,
   "metadata": {},
   "outputs": [
    {
     "data": {
      "image/png": "[encoded data removed]",
      "text/plain": [
       "<Figure size 432x288 with 1 Axes>"
      ]
     },
     "metadata": {
      "needs_background": "light"
     },
     "output_type": "display_data"
    }
   ],
   "source": [
    "data.explode(\"recommended_offer\").groupby(\"recommended_offer\").id.count().plot(kind=\"bar\");"
   ]
  },
  {
   "cell_type": "markdown",
   "metadata": {},
   "source": [
    "After extracting the offers, even though we have sort of imbalance in the distribution, it's not that much, we'll try to train this for now."
   ]
  },
  {
   "cell_type": "markdown",
   "metadata": {},
   "source": [
    "Let's prepare the data for training."
   ]
  },
  {
   "cell_type": "code",
   "execution_count": 27,
   "metadata": {},
   "outputs": [
    {
     "name": "stdout",
     "output_type": "stream",
     "text": [
      "11587\n"
     ]
    },
    {
     "data": {
      "text/html": [
       "<div>\n",
       "<style scoped>\n",
       "    .dataframe tbody tr th:only-of-type {\n",
       "        vertical-align: middle;\n",
       "    }\n",
       "\n",
       "    .dataframe tbody tr th {\n",
       "        vertical-align: top;\n",
       "    }\n",
       "\n",
       "    .dataframe thead th {\n",
       "        text-align: right;\n",
       "    }\n",
       "</style>\n",
       "<table border=\"1\" class=\"dataframe\">\n",
       "  <thead>\n",
       "    <tr style=\"text-align: right;\">\n",
       "      <th></th>\n",
       "      <th>gender</th>\n",
       "      <th>age</th>\n",
       "      <th>income</th>\n",
       "      <th>membership_year</th>\n",
       "      <th>membership_month</th>\n",
       "      <th>membership_day</th>\n",
       "      <th>1</th>\n",
       "      <th>2</th>\n",
       "      <th>3</th>\n",
       "      <th>4</th>\n",
       "      <th>5</th>\n",
       "      <th>6</th>\n",
       "      <th>7</th>\n",
       "      <th>8</th>\n",
       "      <th>9</th>\n",
       "      <th>10</th>\n",
       "    </tr>\n",
       "  </thead>\n",
       "  <tbody>\n",
       "    <tr>\n",
       "      <th>0</th>\n",
       "      <td>0</td>\n",
       "      <td>75.0</td>\n",
       "      <td>100000.0</td>\n",
       "      <td>2017</td>\n",
       "      <td>5</td>\n",
       "      <td>9</td>\n",
       "      <td>1</td>\n",
       "      <td>0</td>\n",
       "      <td>0</td>\n",
       "      <td>1</td>\n",
       "      <td>0</td>\n",
       "      <td>0</td>\n",
       "      <td>0</td>\n",
       "      <td>1</td>\n",
       "      <td>0</td>\n",
       "      <td>0</td>\n",
       "    </tr>\n",
       "    <tr>\n",
       "      <th>1</th>\n",
       "      <td>1</td>\n",
       "      <td>68.0</td>\n",
       "      <td>70000.0</td>\n",
       "      <td>2018</td>\n",
       "      <td>4</td>\n",
       "      <td>26</td>\n",
       "      <td>0</td>\n",
       "      <td>0</td>\n",
       "      <td>0</td>\n",
       "      <td>1</td>\n",
       "      <td>0</td>\n",
       "      <td>0</td>\n",
       "      <td>1</td>\n",
       "      <td>0</td>\n",
       "      <td>0</td>\n",
       "      <td>0</td>\n",
       "    </tr>\n",
       "    <tr>\n",
       "      <th>2</th>\n",
       "      <td>1</td>\n",
       "      <td>65.0</td>\n",
       "      <td>53000.0</td>\n",
       "      <td>2018</td>\n",
       "      <td>2</td>\n",
       "      <td>9</td>\n",
       "      <td>0</td>\n",
       "      <td>0</td>\n",
       "      <td>0</td>\n",
       "      <td>1</td>\n",
       "      <td>0</td>\n",
       "      <td>0</td>\n",
       "      <td>1</td>\n",
       "      <td>0</td>\n",
       "      <td>1</td>\n",
       "      <td>1</td>\n",
       "    </tr>\n",
       "    <tr>\n",
       "      <th>3</th>\n",
       "      <td>1</td>\n",
       "      <td>58.0</td>\n",
       "      <td>51000.0</td>\n",
       "      <td>2017</td>\n",
       "      <td>11</td>\n",
       "      <td>11</td>\n",
       "      <td>0</td>\n",
       "      <td>0</td>\n",
       "      <td>0</td>\n",
       "      <td>0</td>\n",
       "      <td>0</td>\n",
       "      <td>0</td>\n",
       "      <td>1</td>\n",
       "      <td>0</td>\n",
       "      <td>0</td>\n",
       "      <td>0</td>\n",
       "    </tr>\n",
       "    <tr>\n",
       "      <th>4</th>\n",
       "      <td>0</td>\n",
       "      <td>61.0</td>\n",
       "      <td>57000.0</td>\n",
       "      <td>2017</td>\n",
       "      <td>9</td>\n",
       "      <td>11</td>\n",
       "      <td>0</td>\n",
       "      <td>1</td>\n",
       "      <td>0</td>\n",
       "      <td>0</td>\n",
       "      <td>0</td>\n",
       "      <td>0</td>\n",
       "      <td>0</td>\n",
       "      <td>0</td>\n",
       "      <td>1</td>\n",
       "      <td>0</td>\n",
       "    </tr>\n",
       "  </tbody>\n",
       "</table>\n",
       "</div>"
      ],
      "text/plain": [
       "   gender   age    income  membership_year  membership_month  membership_day  \\\n",
       "0       0  75.0  100000.0             2017                 5               9   \n",
       "1       1  68.0   70000.0             2018                 4              26   \n",
       "2       1  65.0   53000.0             2018                 2               9   \n",
       "3       1  58.0   51000.0             2017                11              11   \n",
       "4       0  61.0   57000.0             2017                 9              11   \n",
       "\n",
       "   1  2  3  4  5  6  7  8  9  10  \n",
       "0  1  0  0  1  0  0  0  1  0   0  \n",
       "1  0  0  0  1  0  0  1  0  0   0  \n",
       "2  0  0  0  1  0  0  1  0  1   1  \n",
       "3  0  0  0  0  0  0  1  0  0   0  \n",
       "4  0  1  0  0  0  0  0  0  1   0  "
      ]
     },
     "execution_count": 27,
     "metadata": {},
     "output_type": "execute_result"
    }
   ],
   "source": [
    "data = convert_for_select_training(transcript_group)\n",
    "print(len(data))\n",
    "data.head()"
   ]
  },
  {
   "cell_type": "code",
   "execution_count": 28,
   "metadata": {},
   "outputs": [
    {
     "name": "stdout",
     "output_type": "stream",
     "text": [
      "<class 'pandas.core.frame.DataFrame'>\n",
      "RangeIndex: 11587 entries, 0 to 11586\n",
      "Data columns (total 16 columns):\n",
      " #   Column            Non-Null Count  Dtype  \n",
      "---  ------            --------------  -----  \n",
      " 0   gender            11587 non-null  int64  \n",
      " 1   age               11587 non-null  float64\n",
      " 2   income            11587 non-null  float64\n",
      " 3   membership_year   11587 non-null  int64  \n",
      " 4   membership_month  11587 non-null  int64  \n",
      " 5   membership_day    11587 non-null  int64  \n",
      " 6   1                 11587 non-null  uint8  \n",
      " 7   2                 11587 non-null  uint8  \n",
      " 8   3                 11587 non-null  uint8  \n",
      " 9   4                 11587 non-null  uint8  \n",
      " 10  5                 11587 non-null  uint8  \n",
      " 11  6                 11587 non-null  uint8  \n",
      " 12  7                 11587 non-null  uint8  \n",
      " 13  8                 11587 non-null  uint8  \n",
      " 14  9                 11587 non-null  uint8  \n",
      " 15  10                11587 non-null  uint8  \n",
      "dtypes: float64(2), int64(4), uint8(10)\n",
      "memory usage: 656.4 KB\n"
     ]
    }
   ],
   "source": [
    "data.info()"
   ]
  },
  {
   "cell_type": "code",
   "execution_count": 29,
   "metadata": {},
   "outputs": [
    {
     "data": {
      "image/png": "[encoded data removed]",
      "text/plain": [
       "<Figure size 1152x864 with 2 Axes>"
      ]
     },
     "metadata": {
      "needs_background": "light"
     },
     "output_type": "display_data"
    }
   ],
   "source": [
    "plot_corr(data.corr())"
   ]
  },
  {
   "cell_type": "code",
   "execution_count": 30,
   "metadata": {},
   "outputs": [
    {
     "data": {
      "text/plain": [
       "(8690, 2897)"
      ]
     },
     "execution_count": 30,
     "metadata": {},
     "output_type": "execute_result"
    }
   ],
   "source": [
    "y_cols = np.arange(1, 11).astype(str).tolist()\n",
    "\n",
    "y = data[y_cols]\n",
    "X = data[data.columns[~data.columns.isin(y_cols)]]\n",
    "\n",
    "X_train, X_test, y_train, y_test = train_test_split(X, y)\n",
    "\n",
    "len(X_train), len(X_test)"
   ]
  },
  {
   "cell_type": "markdown",
   "metadata": {},
   "source": [
    "Let's make use of `MultiOutputClassifier` and `KNeighborsClassifier`."
   ]
  },
  {
   "cell_type": "code",
   "execution_count": 31,
   "metadata": {},
   "outputs": [
    {
     "data": {
      "text/plain": [
       "MultiOutputClassifier(estimator=KNeighborsClassifier())"
      ]
     },
     "execution_count": 31,
     "metadata": {},
     "output_type": "execute_result"
    }
   ],
   "source": [
    "from sklearn.multioutput import MultiOutputClassifier\n",
    "\n",
    "clf = MultiOutputClassifier(KNeighborsClassifier())\n",
    "clf.fit(X, y)"
   ]
  },
  {
   "cell_type": "code",
   "execution_count": 32,
   "metadata": {},
   "outputs": [
    {
     "name": "stdout",
     "output_type": "stream",
     "text": [
      "              precision    recall  f1-score   support\n",
      "\n",
      "           0       0.18      0.56      0.27       177\n",
      "           1       0.22      0.58      0.32       218\n",
      "           2       0.10      0.72      0.18        46\n",
      "           3       0.14      0.69      0.24        97\n",
      "           4       0.09      0.53      0.15        45\n",
      "           5       0.35      0.70      0.46       459\n",
      "           6       0.38      0.68      0.48       545\n",
      "           7       0.24      0.64      0.35       232\n",
      "           8       0.26      0.58      0.36       332\n",
      "           9       0.12      0.64      0.20        85\n",
      "\n",
      "   micro avg       0.24      0.64      0.35      2236\n",
      "   macro avg       0.21      0.63      0.30      2236\n",
      "weighted avg       0.28      0.64      0.38      2236\n",
      " samples avg       0.25      0.79      0.28      2236\n",
      "\n"
     ]
    }
   ],
   "source": [
    "y_pred = clf.predict(X_test)\n",
    "\n",
    "print(classification_report(y_pred, y_test, zero_division=1))"
   ]
  },
  {
   "cell_type": "code",
   "execution_count": 33,
   "metadata": {},
   "outputs": [
    {
     "name": "stdout",
     "output_type": "stream",
     "text": [
      "Fitting 5 folds for each of 3 candidates, totalling 15 fits\n",
      "{'clf__estimator': KNeighborsClassifier()}\n",
      "0.026927502876869965\n"
     ]
    }
   ],
   "source": [
    "from sklearn.tree import DecisionTreeClassifier, ExtraTreeClassifier\n",
    "from sklearn.svm import SVC\n",
    "\n",
    "pipeline = Pipeline([\n",
    "    (\"clf\", MultiOutputClassifier(estimator=KNeighborsClassifier()))\n",
    "])\n",
    "\n",
    "parameters_clf = {\n",
    "    \"clf__estimator\": [\n",
    "        KNeighborsClassifier(),\n",
    "        DecisionTreeClassifier(),\n",
    "        ExtraTreeClassifier()\n",
    "    ]\n",
    "}\n",
    "\n",
    "cv = GridSearchCV(pipeline, parameters_clf, verbose=1)\n",
    "cv.fit(X_train, y_train)\n",
    "\n",
    "print(cv.best_params_)\n",
    "print(cv.best_score_)"
   ]
  },
  {
   "cell_type": "code",
   "execution_count": 34,
   "metadata": {},
   "outputs": [
    {
     "name": "stdout",
     "output_type": "stream",
     "text": [
      "Fitting 5 folds for each of 24 candidates, totalling 120 fits\n",
      "{'clf__estimator__algorithm': 'ball_tree', 'clf__estimator__leaf_size': 10, 'clf__estimator__n_neighbors': 5, 'clf__estimator__p': 1}\n",
      "0.02991944764096663\n"
     ]
    }
   ],
   "source": [
    "parameters_kn = {\n",
    "    \"clf__estimator__n_neighbors\": [1, 3, 5],\n",
    "    \"clf__estimator__algorithm\": [\"ball_tree\", \"kd_tree\"],\n",
    "    \"clf__estimator__p\": [1, 2],\n",
    "    \"clf__estimator__leaf_size\": [10, 30]\n",
    "}\n",
    "\n",
    "cv = GridSearchCV(pipeline, parameters_kn, verbose=1)\n",
    "cv.fit(X_train, y_train)\n",
    "\n",
    "print(cv.best_params_)\n",
    "print(cv.best_score_)"
   ]
  },
  {
   "cell_type": "code",
   "execution_count": 35,
   "metadata": {},
   "outputs": [
    {
     "name": "stdout",
     "output_type": "stream",
     "text": [
      "              precision    recall  f1-score   support\n",
      "\n",
      "           0       0.24      0.07      0.11       568\n",
      "           1       0.24      0.11      0.15       567\n",
      "           2       0.10      0.01      0.02       327\n",
      "           3       0.22      0.04      0.07       470\n",
      "           4       0.19      0.03      0.05       281\n",
      "           5       0.31      0.15      0.20       931\n",
      "           6       0.37      0.19      0.25       982\n",
      "           7       0.27      0.10      0.14       616\n",
      "           8       0.30      0.13      0.18       758\n",
      "           9       0.12      0.03      0.05       442\n",
      "\n",
      "   micro avg       0.28      0.11      0.15      5942\n",
      "   macro avg       0.24      0.09      0.12      5942\n",
      "weighted avg       0.26      0.11      0.15      5942\n",
      " samples avg       0.58      0.11      0.12      5942\n",
      "\n"
     ]
    }
   ],
   "source": [
    "y_pred = cv.predict(X_test)\n",
    "\n",
    "print(classification_report(y_test, y_pred, zero_division=1))"
   ]
  },
  {
   "cell_type": "markdown",
   "metadata": {},
   "source": [
    "The model is not performing well, but it's a good start for a targeted experiment. We'll save the model for use later."
   ]
  },
  {
   "cell_type": "code",
   "execution_count": 36,
   "metadata": {},
   "outputs": [
    {
     "data": {
      "text/plain": [
       "['../models/select_offer.pkl']"
      ]
     },
     "execution_count": 36,
     "metadata": {},
     "output_type": "execute_result"
    }
   ],
   "source": [
    "joblib.dump(cv, \"../models/select_offer.pkl\")"
   ]
  },
  {
   "cell_type": "markdown",
   "metadata": {},
   "source": [
    "## Next Steps"
   ]
  },
  {
   "cell_type": "markdown",
   "metadata": {},
   "source": [
    "The first experiments we did was done randomly and not targeted. Also, the demographical data is very limited, therefore, we can't go so much as we optimize our models.\n",
    "\n",
    "However, even our models are not performing well, we can perform a better experiment by performing the following steps.\n",
    "\n",
    "1. Use our model to determine if we are going to offer the user an offer or not.\n",
    "2. If we are going to provide an offer, use the other model to select which model to offer. Since, we do return multiple offers, we can scatter them into different waves for variety.\n",
    "\n",
    "In our next notebook, we are going to implement these."
   ]
  }
 ],
 "metadata": {
  "interpreter": {
   "hash": "39123923109d28d4cabd67ff5e417bfbc8b47b893b81065aa3bf6c15dd05978d"
  },
  "kernelspec": {
   "display_name": "Python 3.9.7 64-bit ('sb_capstone': conda)",
   "name": "python3"
  },
  "language_info": {
   "codemirror_mode": {
    "name": "ipython",
    "version": 3
   },
   "file_extension": ".py",
   "mimetype": "text/x-python",
   "name": "python",
   "nbconvert_exporter": "python",
   "pygments_lexer": "ipython3",
   "version": "3.9.7"
  },
  "orig_nbformat": 4
 },
 "nbformat": 4,
 "nbformat_minor": 2
}
