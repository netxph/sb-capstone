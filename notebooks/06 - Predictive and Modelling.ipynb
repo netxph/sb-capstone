{
 "cells": [
  {
   "cell_type": "markdown",
   "metadata": {},
   "source": [
    "# Starbucks Capstone Challenge - Predictive and Modelling"
   ]
  },
  {
   "cell_type": "markdown",
   "metadata": {},
   "source": [
    "## Introduction"
   ]
  },
  {
   "cell_type": "markdown",
   "metadata": {},
   "source": [
    "Offer Selection\n",
    "\n",
    "* Remove unsuccessful offers\n",
    "* Strip the ID and perform a classifier\n",
    "\n",
    "Receives Offer or Not\n",
    "\n",
    "* Receives offer if, offer successful and total spent is 20 (10 from promo, + additional product) \n",
    "\n",
    "Combination of both will give better results in incremental profit and IRR."
   ]
  },
  {
   "cell_type": "markdown",
   "metadata": {},
   "source": []
  }
 ],
 "metadata": {
  "language_info": {
   "name": "python"
  },
  "orig_nbformat": 4
 },
 "nbformat": 4,
 "nbformat_minor": 2
}
