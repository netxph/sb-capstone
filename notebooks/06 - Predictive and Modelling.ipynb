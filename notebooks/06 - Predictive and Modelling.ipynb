{
 "cells": [
  {
   "cell_type": "markdown",
   "metadata": {},
   "source": [
    "# Starbucks Capstone Challenge - Predictive and Modelling"
   ]
  },
  {
   "cell_type": "markdown",
   "metadata": {},
   "source": [
    "## Introduction"
   ]
  },
  {
   "cell_type": "markdown",
   "metadata": {},
   "source": [
    "Offer Selection\n",
    "\n",
    "* Remove unsuccessful offers\n",
    "* Strip the ID and perform a classifier\n",
    "\n",
    "Receives Offer or Not\n",
    "\n",
    "* Receives offer if, offer successful and total spent is 20 (10 from promo, + additional product) \n",
    "\n",
    "Combination of both will give better results in incremental profit and IRR."
   ]
  },
  {
   "cell_type": "markdown",
   "metadata": {},
   "source": [
    "## Setup"
   ]
  },
  {
   "cell_type": "code",
   "execution_count": 1,
   "metadata": {},
   "outputs": [],
   "source": [
    "import sys\n",
    "\n",
    "!{sys.executable} -m pip install -e ../ --quiet"
   ]
  },
  {
   "cell_type": "code",
   "execution_count": 2,
   "metadata": {},
   "outputs": [],
   "source": [
    "import pandas as pd\n",
    "import numpy as np\n",
    "import matplotlib.pyplot as plt\n",
    "import seaborn as sns\n",
    "import joblib\n",
    "\n",
    "from sb_capstone.wrangling import (\n",
    "    clean_transcript_group\n",
    ")\n",
    "\n",
    "from sb_capstone.graph import (\n",
    "    plot_corr    \n",
    ")\n",
    "\n",
    "from sb_capstone.shaping import (\n",
    "    convert_for_training\n",
    ")\n",
    "\n",
    "%matplotlib inline"
   ]
  },
  {
   "cell_type": "code",
   "execution_count": 3,
   "metadata": {},
   "outputs": [
    {
     "data": {
      "text/html": [
       "<div>\n",
       "<style scoped>\n",
       "    .dataframe tbody tr th:only-of-type {\n",
       "        vertical-align: middle;\n",
       "    }\n",
       "\n",
       "    .dataframe tbody tr th {\n",
       "        vertical-align: top;\n",
       "    }\n",
       "\n",
       "    .dataframe thead th {\n",
       "        text-align: right;\n",
       "    }\n",
       "</style>\n",
       "<table border=\"1\" class=\"dataframe\">\n",
       "  <thead>\n",
       "    <tr style=\"text-align: right;\">\n",
       "      <th></th>\n",
       "      <th>id</th>\n",
       "      <th>wave</th>\n",
       "      <th>diffs</th>\n",
       "      <th>received</th>\n",
       "      <th>viewed</th>\n",
       "      <th>completed</th>\n",
       "      <th>purchased</th>\n",
       "      <th>amount</th>\n",
       "      <th>reward</th>\n",
       "      <th>non_offer_amount</th>\n",
       "      <th>...</th>\n",
       "      <th>mobile</th>\n",
       "      <th>social</th>\n",
       "      <th>gender</th>\n",
       "      <th>age</th>\n",
       "      <th>generation</th>\n",
       "      <th>group</th>\n",
       "      <th>income</th>\n",
       "      <th>membership_year</th>\n",
       "      <th>membership_month</th>\n",
       "      <th>membership_day</th>\n",
       "    </tr>\n",
       "  </thead>\n",
       "  <tbody>\n",
       "    <tr>\n",
       "      <th>0</th>\n",
       "      <td>1</td>\n",
       "      <td>2</td>\n",
       "      <td>48.000000</td>\n",
       "      <td>True</td>\n",
       "      <td>True</td>\n",
       "      <td>False</td>\n",
       "      <td>False</td>\n",
       "      <td>0.00</td>\n",
       "      <td>0.0</td>\n",
       "      <td>0.00</td>\n",
       "      <td>...</td>\n",
       "      <td>True</td>\n",
       "      <td>False</td>\n",
       "      <td>U</td>\n",
       "      <td>NaN</td>\n",
       "      <td>NaN</td>\n",
       "      <td>NaN</td>\n",
       "      <td>NaN</td>\n",
       "      <td>2017</td>\n",
       "      <td>2</td>\n",
       "      <td>12</td>\n",
       "    </tr>\n",
       "    <tr>\n",
       "      <th>1</th>\n",
       "      <td>2</td>\n",
       "      <td>2</td>\n",
       "      <td>49.866737</td>\n",
       "      <td>False</td>\n",
       "      <td>False</td>\n",
       "      <td>False</td>\n",
       "      <td>False</td>\n",
       "      <td>0.00</td>\n",
       "      <td>0.0</td>\n",
       "      <td>0.00</td>\n",
       "      <td>...</td>\n",
       "      <td>False</td>\n",
       "      <td>False</td>\n",
       "      <td>F</td>\n",
       "      <td>55.0</td>\n",
       "      <td>boomers</td>\n",
       "      <td>middle_age</td>\n",
       "      <td>112000.0</td>\n",
       "      <td>2017</td>\n",
       "      <td>7</td>\n",
       "      <td>15</td>\n",
       "    </tr>\n",
       "    <tr>\n",
       "      <th>2</th>\n",
       "      <td>3</td>\n",
       "      <td>2</td>\n",
       "      <td>36.000000</td>\n",
       "      <td>True</td>\n",
       "      <td>True</td>\n",
       "      <td>False</td>\n",
       "      <td>False</td>\n",
       "      <td>0.00</td>\n",
       "      <td>0.0</td>\n",
       "      <td>0.00</td>\n",
       "      <td>...</td>\n",
       "      <td>True</td>\n",
       "      <td>False</td>\n",
       "      <td>U</td>\n",
       "      <td>NaN</td>\n",
       "      <td>NaN</td>\n",
       "      <td>NaN</td>\n",
       "      <td>NaN</td>\n",
       "      <td>2018</td>\n",
       "      <td>7</td>\n",
       "      <td>12</td>\n",
       "    </tr>\n",
       "    <tr>\n",
       "      <th>3</th>\n",
       "      <td>4</td>\n",
       "      <td>2</td>\n",
       "      <td>26.000000</td>\n",
       "      <td>True</td>\n",
       "      <td>True</td>\n",
       "      <td>True</td>\n",
       "      <td>True</td>\n",
       "      <td>19.67</td>\n",
       "      <td>0.0</td>\n",
       "      <td>29.72</td>\n",
       "      <td>...</td>\n",
       "      <td>True</td>\n",
       "      <td>True</td>\n",
       "      <td>F</td>\n",
       "      <td>75.0</td>\n",
       "      <td>silent</td>\n",
       "      <td>old</td>\n",
       "      <td>100000.0</td>\n",
       "      <td>2017</td>\n",
       "      <td>5</td>\n",
       "      <td>9</td>\n",
       "    </tr>\n",
       "    <tr>\n",
       "      <th>4</th>\n",
       "      <td>5</td>\n",
       "      <td>2</td>\n",
       "      <td>49.866737</td>\n",
       "      <td>False</td>\n",
       "      <td>False</td>\n",
       "      <td>False</td>\n",
       "      <td>True</td>\n",
       "      <td>0.00</td>\n",
       "      <td>0.0</td>\n",
       "      <td>3.50</td>\n",
       "      <td>...</td>\n",
       "      <td>False</td>\n",
       "      <td>False</td>\n",
       "      <td>U</td>\n",
       "      <td>NaN</td>\n",
       "      <td>NaN</td>\n",
       "      <td>NaN</td>\n",
       "      <td>NaN</td>\n",
       "      <td>2017</td>\n",
       "      <td>8</td>\n",
       "      <td>4</td>\n",
       "    </tr>\n",
       "  </tbody>\n",
       "</table>\n",
       "<p>5 rows × 28 columns</p>\n",
       "</div>"
      ],
      "text/plain": [
       "   id  wave      diffs  received  viewed  completed  purchased  amount  \\\n",
       "0   1     2  48.000000      True    True      False      False    0.00   \n",
       "1   2     2  49.866737     False   False      False      False    0.00   \n",
       "2   3     2  36.000000      True    True      False      False    0.00   \n",
       "3   4     2  26.000000      True    True       True       True   19.67   \n",
       "4   5     2  49.866737     False   False      False       True    0.00   \n",
       "\n",
       "   reward  non_offer_amount  ... mobile  social  gender   age  generation  \\\n",
       "0     0.0              0.00  ...   True   False       U   NaN         NaN   \n",
       "1     0.0              0.00  ...  False   False       F  55.0     boomers   \n",
       "2     0.0              0.00  ...   True   False       U   NaN         NaN   \n",
       "3     0.0             29.72  ...   True    True       F  75.0      silent   \n",
       "4     0.0              3.50  ...  False   False       U   NaN         NaN   \n",
       "\n",
       "        group    income  membership_year  membership_month  membership_day  \n",
       "0         NaN       NaN             2017                 2              12  \n",
       "1  middle_age  112000.0             2017                 7              15  \n",
       "2         NaN       NaN             2018                 7              12  \n",
       "3         old  100000.0             2017                 5               9  \n",
       "4         NaN       NaN             2017                 8               4  \n",
       "\n",
       "[5 rows x 28 columns]"
      ]
     },
     "execution_count": 3,
     "metadata": {},
     "output_type": "execute_result"
    }
   ],
   "source": [
    "transcript_group = pd.read_csv(\"../data/processed/transcript_group.csv\")\n",
    "transcript_group = clean_transcript_group(transcript_group)\n",
    "\n",
    "transcript_group.head()"
   ]
  },
  {
   "cell_type": "code",
   "execution_count": 4,
   "metadata": {},
   "outputs": [
    {
     "name": "stdout",
     "output_type": "stream",
     "text": [
      "<class 'pandas.core.frame.DataFrame'>\n",
      "RangeIndex: 102000 entries, 0 to 101999\n",
      "Data columns (total 28 columns):\n",
      " #   Column             Non-Null Count   Dtype   \n",
      "---  ------             --------------   -----   \n",
      " 0   id                 102000 non-null  int64   \n",
      " 1   wave               102000 non-null  int64   \n",
      " 2   diffs              102000 non-null  float64 \n",
      " 3   received           102000 non-null  bool    \n",
      " 4   viewed             102000 non-null  bool    \n",
      " 5   completed          102000 non-null  bool    \n",
      " 6   purchased          102000 non-null  bool    \n",
      " 7   amount             102000 non-null  float64 \n",
      " 8   reward             102000 non-null  float64 \n",
      " 9   non_offer_amount   102000 non-null  float64 \n",
      " 10  mapped_offer       102000 non-null  category\n",
      " 11  spendings          102000 non-null  float64 \n",
      " 12  recommended_offer  102000 non-null  int64   \n",
      " 13  offer_type         102000 non-null  category\n",
      " 14  difficulty         102000 non-null  float64 \n",
      " 15  duration           102000 non-null  float64 \n",
      " 16  web                102000 non-null  bool    \n",
      " 17  email              102000 non-null  bool    \n",
      " 18  mobile             102000 non-null  bool    \n",
      " 19  social             102000 non-null  bool    \n",
      " 20  gender             102000 non-null  category\n",
      " 21  age                88950 non-null   float64 \n",
      " 22  generation         88950 non-null   category\n",
      " 23  group              88950 non-null   category\n",
      " 24  income             88950 non-null   float64 \n",
      " 25  membership_year    102000 non-null  int64   \n",
      " 26  membership_month   102000 non-null  int64   \n",
      " 27  membership_day     102000 non-null  int64   \n",
      "dtypes: bool(8), category(5), float64(9), int64(6)\n",
      "memory usage: 12.9 MB\n"
     ]
    }
   ],
   "source": [
    "transcript_group.info()"
   ]
  },
  {
   "cell_type": "markdown",
   "metadata": {},
   "source": [
    "## Q3. How can we make use of the result to improve the app using machine learning?\n",
    "\n",
    "Based on our analysis, we found out that giving out these offers randomly can make customers spends more, however, only the discount revenue are the ones providing us revenue. On the other hand, the offers themselves are not good enough to improve customer's response to avail the offer.\n",
    "\n",
    "Let's look at how we can is to distinguish which demographic are affected by the offers and to those who still spends for the product without the offer."
   ]
  },
  {
   "cell_type": "code",
   "execution_count": 5,
   "metadata": {},
   "outputs": [
    {
     "data": {
      "text/html": [
       "<div>\n",
       "<style scoped>\n",
       "    .dataframe tbody tr th:only-of-type {\n",
       "        vertical-align: middle;\n",
       "    }\n",
       "\n",
       "    .dataframe tbody tr th {\n",
       "        vertical-align: top;\n",
       "    }\n",
       "\n",
       "    .dataframe thead th {\n",
       "        text-align: right;\n",
       "    }\n",
       "</style>\n",
       "<table border=\"1\" class=\"dataframe\">\n",
       "  <thead>\n",
       "    <tr style=\"text-align: right;\">\n",
       "      <th></th>\n",
       "      <th>id</th>\n",
       "      <th>wave</th>\n",
       "      <th>diffs</th>\n",
       "      <th>received</th>\n",
       "      <th>viewed</th>\n",
       "      <th>completed</th>\n",
       "      <th>purchased</th>\n",
       "      <th>amount</th>\n",
       "      <th>reward</th>\n",
       "      <th>non_offer_amount</th>\n",
       "      <th>...</th>\n",
       "      <th>mobile</th>\n",
       "      <th>social</th>\n",
       "      <th>gender</th>\n",
       "      <th>age</th>\n",
       "      <th>generation</th>\n",
       "      <th>group</th>\n",
       "      <th>income</th>\n",
       "      <th>membership_year</th>\n",
       "      <th>membership_month</th>\n",
       "      <th>membership_day</th>\n",
       "    </tr>\n",
       "  </thead>\n",
       "  <tbody>\n",
       "    <tr>\n",
       "      <th>2</th>\n",
       "      <td>3</td>\n",
       "      <td>2</td>\n",
       "      <td>36.000000</td>\n",
       "      <td>True</td>\n",
       "      <td>True</td>\n",
       "      <td>False</td>\n",
       "      <td>False</td>\n",
       "      <td>0.00</td>\n",
       "      <td>0.0</td>\n",
       "      <td>0.00</td>\n",
       "      <td>...</td>\n",
       "      <td>True</td>\n",
       "      <td>False</td>\n",
       "      <td>U</td>\n",
       "      <td>NaN</td>\n",
       "      <td>NaN</td>\n",
       "      <td>NaN</td>\n",
       "      <td>NaN</td>\n",
       "      <td>2018</td>\n",
       "      <td>7</td>\n",
       "      <td>12</td>\n",
       "    </tr>\n",
       "    <tr>\n",
       "      <th>17002</th>\n",
       "      <td>3</td>\n",
       "      <td>3</td>\n",
       "      <td>49.866737</td>\n",
       "      <td>False</td>\n",
       "      <td>False</td>\n",
       "      <td>False</td>\n",
       "      <td>True</td>\n",
       "      <td>0.00</td>\n",
       "      <td>0.0</td>\n",
       "      <td>1.64</td>\n",
       "      <td>...</td>\n",
       "      <td>False</td>\n",
       "      <td>False</td>\n",
       "      <td>U</td>\n",
       "      <td>NaN</td>\n",
       "      <td>NaN</td>\n",
       "      <td>NaN</td>\n",
       "      <td>NaN</td>\n",
       "      <td>2018</td>\n",
       "      <td>7</td>\n",
       "      <td>12</td>\n",
       "    </tr>\n",
       "    <tr>\n",
       "      <th>34002</th>\n",
       "      <td>3</td>\n",
       "      <td>4</td>\n",
       "      <td>49.866737</td>\n",
       "      <td>False</td>\n",
       "      <td>False</td>\n",
       "      <td>False</td>\n",
       "      <td>True</td>\n",
       "      <td>0.00</td>\n",
       "      <td>0.0</td>\n",
       "      <td>5.09</td>\n",
       "      <td>...</td>\n",
       "      <td>False</td>\n",
       "      <td>False</td>\n",
       "      <td>U</td>\n",
       "      <td>NaN</td>\n",
       "      <td>NaN</td>\n",
       "      <td>NaN</td>\n",
       "      <td>NaN</td>\n",
       "      <td>2018</td>\n",
       "      <td>7</td>\n",
       "      <td>12</td>\n",
       "    </tr>\n",
       "    <tr>\n",
       "      <th>51002</th>\n",
       "      <td>3</td>\n",
       "      <td>5</td>\n",
       "      <td>49.866737</td>\n",
       "      <td>False</td>\n",
       "      <td>False</td>\n",
       "      <td>False</td>\n",
       "      <td>False</td>\n",
       "      <td>0.00</td>\n",
       "      <td>0.0</td>\n",
       "      <td>0.00</td>\n",
       "      <td>...</td>\n",
       "      <td>False</td>\n",
       "      <td>False</td>\n",
       "      <td>U</td>\n",
       "      <td>NaN</td>\n",
       "      <td>NaN</td>\n",
       "      <td>NaN</td>\n",
       "      <td>NaN</td>\n",
       "      <td>2018</td>\n",
       "      <td>7</td>\n",
       "      <td>12</td>\n",
       "    </tr>\n",
       "    <tr>\n",
       "      <th>68002</th>\n",
       "      <td>3</td>\n",
       "      <td>6</td>\n",
       "      <td>64.000000</td>\n",
       "      <td>True</td>\n",
       "      <td>False</td>\n",
       "      <td>True</td>\n",
       "      <td>False</td>\n",
       "      <td>2.14</td>\n",
       "      <td>0.0</td>\n",
       "      <td>4.09</td>\n",
       "      <td>...</td>\n",
       "      <td>True</td>\n",
       "      <td>True</td>\n",
       "      <td>U</td>\n",
       "      <td>NaN</td>\n",
       "      <td>NaN</td>\n",
       "      <td>NaN</td>\n",
       "      <td>NaN</td>\n",
       "      <td>2018</td>\n",
       "      <td>7</td>\n",
       "      <td>12</td>\n",
       "    </tr>\n",
       "    <tr>\n",
       "      <th>85002</th>\n",
       "      <td>3</td>\n",
       "      <td>1</td>\n",
       "      <td>49.866737</td>\n",
       "      <td>False</td>\n",
       "      <td>False</td>\n",
       "      <td>False</td>\n",
       "      <td>True</td>\n",
       "      <td>0.00</td>\n",
       "      <td>0.0</td>\n",
       "      <td>1.34</td>\n",
       "      <td>...</td>\n",
       "      <td>False</td>\n",
       "      <td>False</td>\n",
       "      <td>U</td>\n",
       "      <td>NaN</td>\n",
       "      <td>NaN</td>\n",
       "      <td>NaN</td>\n",
       "      <td>NaN</td>\n",
       "      <td>2018</td>\n",
       "      <td>7</td>\n",
       "      <td>12</td>\n",
       "    </tr>\n",
       "  </tbody>\n",
       "</table>\n",
       "<p>6 rows × 28 columns</p>\n",
       "</div>"
      ],
      "text/plain": [
       "       id  wave      diffs  received  viewed  completed  purchased  amount  \\\n",
       "2       3     2  36.000000      True    True      False      False    0.00   \n",
       "17002   3     3  49.866737     False   False      False       True    0.00   \n",
       "34002   3     4  49.866737     False   False      False       True    0.00   \n",
       "51002   3     5  49.866737     False   False      False      False    0.00   \n",
       "68002   3     6  64.000000      True   False       True      False    2.14   \n",
       "85002   3     1  49.866737     False   False      False       True    0.00   \n",
       "\n",
       "       reward  non_offer_amount  ... mobile  social  gender age  generation  \\\n",
       "2         0.0              0.00  ...   True   False       U NaN         NaN   \n",
       "17002     0.0              1.64  ...  False   False       U NaN         NaN   \n",
       "34002     0.0              5.09  ...  False   False       U NaN         NaN   \n",
       "51002     0.0              0.00  ...  False   False       U NaN         NaN   \n",
       "68002     0.0              4.09  ...   True    True       U NaN         NaN   \n",
       "85002     0.0              1.34  ...  False   False       U NaN         NaN   \n",
       "\n",
       "       group  income  membership_year  membership_month  membership_day  \n",
       "2        NaN     NaN             2018                 7              12  \n",
       "17002    NaN     NaN             2018                 7              12  \n",
       "34002    NaN     NaN             2018                 7              12  \n",
       "51002    NaN     NaN             2018                 7              12  \n",
       "68002    NaN     NaN             2018                 7              12  \n",
       "85002    NaN     NaN             2018                 7              12  \n",
       "\n",
       "[6 rows x 28 columns]"
      ]
     },
     "execution_count": 5,
     "metadata": {},
     "output_type": "execute_result"
    }
   ],
   "source": [
    "transcript_group[transcript_group.id == 3]"
   ]
  },
  {
   "cell_type": "markdown",
   "metadata": {},
   "source": [
    "Let's analyze a bit who should be given out with offers."
   ]
  },
  {
   "cell_type": "code",
   "execution_count": 6,
   "metadata": {},
   "outputs": [
    {
     "data": {
      "image/png": "[encoded data removed]",
      "text/plain": [
       "<Figure size 421.25x360 with 1 Axes>"
      ]
     },
     "metadata": {
      "needs_background": "light"
     },
     "output_type": "display_data"
    }
   ],
   "source": [
    "sns.catplot(data=transcript_group[transcript_group.received], kind=\"count\", x=\"wave\", hue=\"completed\");"
   ]
  },
  {
   "cell_type": "code",
   "execution_count": 7,
   "metadata": {},
   "outputs": [
    {
     "data": {
      "image/png": "[encoded data removed]",
      "text/plain": [
       "<Figure size 421.25x360 with 1 Axes>"
      ]
     },
     "metadata": {
      "needs_background": "light"
     },
     "output_type": "display_data"
    }
   ],
   "source": [
    "sns.catplot(data=transcript_group, kind=\"count\", x=\"received\", hue=\"completed\");"
   ]
  },
  {
   "cell_type": "code",
   "execution_count": 8,
   "metadata": {},
   "outputs": [
    {
     "data": {
      "image/png": "[encoded data removed]",
      "text/plain": [
       "<Figure size 421.25x360 with 1 Axes>"
      ]
     },
     "metadata": {
      "needs_background": "light"
     },
     "output_type": "display_data"
    }
   ],
   "source": [
    "sns.catplot(data=transcript_group, kind=\"count\", x=\"received\", hue=\"purchased\");"
   ]
  },
  {
   "cell_type": "code",
   "execution_count": 9,
   "metadata": {},
   "outputs": [
    {
     "data": {
      "text/html": [
       "<div>\n",
       "<style scoped>\n",
       "    .dataframe tbody tr th:only-of-type {\n",
       "        vertical-align: middle;\n",
       "    }\n",
       "\n",
       "    .dataframe tbody tr th {\n",
       "        vertical-align: top;\n",
       "    }\n",
       "\n",
       "    .dataframe thead th {\n",
       "        text-align: right;\n",
       "    }\n",
       "</style>\n",
       "<table border=\"1\" class=\"dataframe\">\n",
       "  <thead>\n",
       "    <tr style=\"text-align: right;\">\n",
       "      <th></th>\n",
       "      <th>id</th>\n",
       "      <th>wave</th>\n",
       "      <th>diffs</th>\n",
       "      <th>received</th>\n",
       "      <th>viewed</th>\n",
       "      <th>completed</th>\n",
       "      <th>purchased</th>\n",
       "      <th>amount</th>\n",
       "      <th>reward</th>\n",
       "      <th>non_offer_amount</th>\n",
       "      <th>...</th>\n",
       "      <th>no_offer</th>\n",
       "      <th>gen_z</th>\n",
       "      <th>millenials</th>\n",
       "      <th>gen_x</th>\n",
       "      <th>boomers</th>\n",
       "      <th>silent</th>\n",
       "      <th>young</th>\n",
       "      <th>adult</th>\n",
       "      <th>middle_age</th>\n",
       "      <th>old</th>\n",
       "    </tr>\n",
       "  </thead>\n",
       "  <tbody>\n",
       "    <tr>\n",
       "      <th>0</th>\n",
       "      <td>1</td>\n",
       "      <td>2</td>\n",
       "      <td>48.000000</td>\n",
       "      <td>1</td>\n",
       "      <td>1</td>\n",
       "      <td>0</td>\n",
       "      <td>0</td>\n",
       "      <td>0.00</td>\n",
       "      <td>0.0</td>\n",
       "      <td>0.00</td>\n",
       "      <td>...</td>\n",
       "      <td>0</td>\n",
       "      <td>0</td>\n",
       "      <td>0</td>\n",
       "      <td>0</td>\n",
       "      <td>0</td>\n",
       "      <td>0</td>\n",
       "      <td>0</td>\n",
       "      <td>0</td>\n",
       "      <td>0</td>\n",
       "      <td>0</td>\n",
       "    </tr>\n",
       "    <tr>\n",
       "      <th>1</th>\n",
       "      <td>2</td>\n",
       "      <td>2</td>\n",
       "      <td>49.866737</td>\n",
       "      <td>0</td>\n",
       "      <td>0</td>\n",
       "      <td>0</td>\n",
       "      <td>0</td>\n",
       "      <td>0.00</td>\n",
       "      <td>0.0</td>\n",
       "      <td>0.00</td>\n",
       "      <td>...</td>\n",
       "      <td>1</td>\n",
       "      <td>0</td>\n",
       "      <td>0</td>\n",
       "      <td>0</td>\n",
       "      <td>1</td>\n",
       "      <td>0</td>\n",
       "      <td>0</td>\n",
       "      <td>0</td>\n",
       "      <td>1</td>\n",
       "      <td>0</td>\n",
       "    </tr>\n",
       "    <tr>\n",
       "      <th>2</th>\n",
       "      <td>3</td>\n",
       "      <td>2</td>\n",
       "      <td>36.000000</td>\n",
       "      <td>1</td>\n",
       "      <td>1</td>\n",
       "      <td>0</td>\n",
       "      <td>0</td>\n",
       "      <td>0.00</td>\n",
       "      <td>0.0</td>\n",
       "      <td>0.00</td>\n",
       "      <td>...</td>\n",
       "      <td>0</td>\n",
       "      <td>0</td>\n",
       "      <td>0</td>\n",
       "      <td>0</td>\n",
       "      <td>0</td>\n",
       "      <td>0</td>\n",
       "      <td>0</td>\n",
       "      <td>0</td>\n",
       "      <td>0</td>\n",
       "      <td>0</td>\n",
       "    </tr>\n",
       "    <tr>\n",
       "      <th>3</th>\n",
       "      <td>4</td>\n",
       "      <td>2</td>\n",
       "      <td>26.000000</td>\n",
       "      <td>1</td>\n",
       "      <td>1</td>\n",
       "      <td>1</td>\n",
       "      <td>1</td>\n",
       "      <td>19.67</td>\n",
       "      <td>0.0</td>\n",
       "      <td>29.72</td>\n",
       "      <td>...</td>\n",
       "      <td>0</td>\n",
       "      <td>0</td>\n",
       "      <td>0</td>\n",
       "      <td>0</td>\n",
       "      <td>0</td>\n",
       "      <td>1</td>\n",
       "      <td>0</td>\n",
       "      <td>0</td>\n",
       "      <td>0</td>\n",
       "      <td>1</td>\n",
       "    </tr>\n",
       "    <tr>\n",
       "      <th>4</th>\n",
       "      <td>5</td>\n",
       "      <td>2</td>\n",
       "      <td>49.866737</td>\n",
       "      <td>0</td>\n",
       "      <td>0</td>\n",
       "      <td>0</td>\n",
       "      <td>1</td>\n",
       "      <td>0.00</td>\n",
       "      <td>0.0</td>\n",
       "      <td>3.50</td>\n",
       "      <td>...</td>\n",
       "      <td>1</td>\n",
       "      <td>0</td>\n",
       "      <td>0</td>\n",
       "      <td>0</td>\n",
       "      <td>0</td>\n",
       "      <td>0</td>\n",
       "      <td>0</td>\n",
       "      <td>0</td>\n",
       "      <td>0</td>\n",
       "      <td>0</td>\n",
       "    </tr>\n",
       "  </tbody>\n",
       "</table>\n",
       "<p>5 rows × 48 columns</p>\n",
       "</div>"
      ],
      "text/plain": [
       "   id  wave      diffs  received  viewed  completed  purchased  amount  \\\n",
       "0   1     2  48.000000         1       1          0          0    0.00   \n",
       "1   2     2  49.866737         0       0          0          0    0.00   \n",
       "2   3     2  36.000000         1       1          0          0    0.00   \n",
       "3   4     2  26.000000         1       1          1          1   19.67   \n",
       "4   5     2  49.866737         0       0          0          1    0.00   \n",
       "\n",
       "   reward  non_offer_amount  ...  no_offer  gen_z  millenials  gen_x  boomers  \\\n",
       "0     0.0              0.00  ...         0      0           0      0        0   \n",
       "1     0.0              0.00  ...         1      0           0      0        1   \n",
       "2     0.0              0.00  ...         0      0           0      0        0   \n",
       "3     0.0             29.72  ...         0      0           0      0        0   \n",
       "4     0.0              3.50  ...         1      0           0      0        0   \n",
       "\n",
       "   silent  young  adult  middle_age  old  \n",
       "0       0      0      0           0    0  \n",
       "1       0      0      0           1    0  \n",
       "2       0      0      0           0    0  \n",
       "3       1      0      0           0    1  \n",
       "4       0      0      0           0    0  \n",
       "\n",
       "[5 rows x 48 columns]"
      ]
     },
     "execution_count": 9,
     "metadata": {},
     "output_type": "execute_result"
    }
   ],
   "source": [
    "data = convert_for_training(transcript_group)\n",
    "data.head()"
   ]
  },
  {
   "cell_type": "code",
   "execution_count": 10,
   "metadata": {},
   "outputs": [
    {
     "name": "stdout",
     "output_type": "stream",
     "text": [
      "<class 'pandas.core.frame.DataFrame'>\n",
      "RangeIndex: 102000 entries, 0 to 101999\n",
      "Data columns (total 48 columns):\n",
      " #   Column             Non-Null Count   Dtype  \n",
      "---  ------             --------------   -----  \n",
      " 0   id                 102000 non-null  int64  \n",
      " 1   wave               102000 non-null  int64  \n",
      " 2   diffs              102000 non-null  float64\n",
      " 3   received           102000 non-null  int32  \n",
      " 4   viewed             102000 non-null  int32  \n",
      " 5   completed          102000 non-null  int32  \n",
      " 6   purchased          102000 non-null  int32  \n",
      " 7   amount             102000 non-null  float64\n",
      " 8   reward             102000 non-null  float64\n",
      " 9   non_offer_amount   102000 non-null  float64\n",
      " 10  spendings          102000 non-null  float64\n",
      " 11  recommended_offer  102000 non-null  int64  \n",
      " 12  difficulty         102000 non-null  float64\n",
      " 13  duration           102000 non-null  float64\n",
      " 14  web                102000 non-null  int32  \n",
      " 15  email              102000 non-null  int32  \n",
      " 16  mobile             102000 non-null  int32  \n",
      " 17  social             102000 non-null  int32  \n",
      " 18  gender             87678 non-null   float64\n",
      " 19  age                88950 non-null   float64\n",
      " 20  income             88950 non-null   float64\n",
      " 21  membership_year    102000 non-null  int64  \n",
      " 22  membership_month   102000 non-null  int64  \n",
      " 23  membership_day     102000 non-null  int64  \n",
      " 24  0                  102000 non-null  uint8  \n",
      " 25  1                  102000 non-null  uint8  \n",
      " 26  2                  102000 non-null  uint8  \n",
      " 27  3                  102000 non-null  uint8  \n",
      " 28  4                  102000 non-null  uint8  \n",
      " 29  5                  102000 non-null  uint8  \n",
      " 30  6                  102000 non-null  uint8  \n",
      " 31  7                  102000 non-null  uint8  \n",
      " 32  8                  102000 non-null  uint8  \n",
      " 33  9                  102000 non-null  uint8  \n",
      " 34  10                 102000 non-null  uint8  \n",
      " 35  bogo               102000 non-null  uint8  \n",
      " 36  informational      102000 non-null  uint8  \n",
      " 37  discount           102000 non-null  uint8  \n",
      " 38  no_offer           102000 non-null  uint8  \n",
      " 39  gen_z              102000 non-null  uint8  \n",
      " 40  millenials         102000 non-null  uint8  \n",
      " 41  gen_x              102000 non-null  uint8  \n",
      " 42  boomers            102000 non-null  uint8  \n",
      " 43  silent             102000 non-null  uint8  \n",
      " 44  young              102000 non-null  uint8  \n",
      " 45  adult              102000 non-null  uint8  \n",
      " 46  middle_age         102000 non-null  uint8  \n",
      " 47  old                102000 non-null  uint8  \n",
      "dtypes: float64(10), int32(8), int64(6), uint8(24)\n",
      "memory usage: 17.9 MB\n"
     ]
    }
   ],
   "source": [
    "data.info()"
   ]
  },
  {
   "cell_type": "code",
   "execution_count": 11,
   "metadata": {},
   "outputs": [
    {
     "data": {
      "image/png": "[encoded data removed]",
      "text/plain": [
       "<Figure size 1152x864 with 2 Axes>"
      ]
     },
     "metadata": {
      "needs_background": "light"
     },
     "output_type": "display_data"
    }
   ],
   "source": [
    "plot_corr(data.corr())"
   ]
  },
  {
   "cell_type": "code",
   "execution_count": 12,
   "metadata": {},
   "outputs": [
    {
     "data": {
      "text/plain": [
       "16994"
      ]
     },
     "execution_count": 12,
     "metadata": {},
     "output_type": "execute_result"
    }
   ],
   "source": [
    "data[data.received == 1].id.nunique()"
   ]
  },
  {
   "cell_type": "markdown",
   "metadata": {},
   "source": [
    "### Part 1: Who should be given out with offers?\n",
    "\n",
    "For the first part, we need things that relates to the customer, as we are going try to check if the customer may respond to the offer. At this point, we are just going to respond based on the demography of the customer.\n",
    "\n",
    "Also, it'll be useless to add the anonymous customers for our training data, so we are going to remove them as well.\n",
    "\n",
    "Aside from that, we are also going to limit the data to those who received offer only and how they reacted to it. This way we'll now if it's effective or not."
   ]
  },
  {
   "cell_type": "code",
   "execution_count": 13,
   "metadata": {},
   "outputs": [],
   "source": [
    "cols = [\n",
    "    \"purchased\",\n",
    "    \"gender\",\n",
    "    \"age\",\n",
    "    \"income\",\n",
    "    \"membership_year\",\n",
    "    \"membership_month\",\n",
    "    \"membership_day\",\n",
    "    \"gen_z\",\n",
    "    \"millenials\",\n",
    "    \"gen_x\",\n",
    "    \"boomers\",\n",
    "    \"silent\",\n",
    "    \"young\",\n",
    "    \"adult\",\n",
    "    \"middle_age\",\n",
    "    \"old\"\n",
    "]\n",
    "\n",
    "data = data[~data.age.isna() & data.received][cols]"
   ]
  },
  {
   "cell_type": "code",
   "execution_count": 14,
   "metadata": {},
   "outputs": [
    {
     "data": {
      "image/png": "[encoded data removed]",
      "text/plain": [
       "<Figure size 1152x864 with 2 Axes>"
      ]
     },
     "metadata": {
      "needs_background": "light"
     },
     "output_type": "display_data"
    }
   ],
   "source": [
    "plot_corr(data.corr())"
   ]
  },
  {
   "cell_type": "code",
   "execution_count": 15,
   "metadata": {},
   "outputs": [
    {
     "data": {
      "image/png": "[encoded data removed]",
      "text/plain": [
       "<Figure size 432x288 with 1 Axes>"
      ]
     },
     "metadata": {
      "needs_background": "light"
     },
     "output_type": "display_data"
    }
   ],
   "source": [
    "data.purchased.value_counts().plot(kind=\"bar\");"
   ]
  },
  {
   "cell_type": "code",
   "execution_count": 16,
   "metadata": {},
   "outputs": [],
   "source": [
    "from sklearn.experimental import enable_iterative_imputer\n",
    "from sklearn.impute import IterativeImputer\n",
    "\n",
    "imputer = IterativeImputer(initial_strategy=\"most_frequent\")\n",
    "data = pd.DataFrame(imputer.fit_transform(data), columns=data.columns)"
   ]
  },
  {
   "cell_type": "code",
   "execution_count": 17,
   "metadata": {},
   "outputs": [
    {
     "data": {
      "text/html": [
       "<div>\n",
       "<style scoped>\n",
       "    .dataframe tbody tr th:only-of-type {\n",
       "        vertical-align: middle;\n",
       "    }\n",
       "\n",
       "    .dataframe tbody tr th {\n",
       "        vertical-align: top;\n",
       "    }\n",
       "\n",
       "    .dataframe thead th {\n",
       "        text-align: right;\n",
       "    }\n",
       "</style>\n",
       "<table border=\"1\" class=\"dataframe\">\n",
       "  <thead>\n",
       "    <tr style=\"text-align: right;\">\n",
       "      <th></th>\n",
       "      <th>purchased</th>\n",
       "      <th>gender</th>\n",
       "      <th>age</th>\n",
       "      <th>income</th>\n",
       "      <th>membership_year</th>\n",
       "      <th>membership_month</th>\n",
       "      <th>membership_day</th>\n",
       "      <th>gen_z</th>\n",
       "      <th>millenials</th>\n",
       "      <th>gen_x</th>\n",
       "      <th>boomers</th>\n",
       "      <th>silent</th>\n",
       "      <th>young</th>\n",
       "      <th>adult</th>\n",
       "      <th>middle_age</th>\n",
       "      <th>old</th>\n",
       "    </tr>\n",
       "  </thead>\n",
       "  <tbody>\n",
       "    <tr>\n",
       "      <th>0</th>\n",
       "      <td>1.0</td>\n",
       "      <td>0.0</td>\n",
       "      <td>75.0</td>\n",
       "      <td>100000.0</td>\n",
       "      <td>2017.0</td>\n",
       "      <td>5.0</td>\n",
       "      <td>9.0</td>\n",
       "      <td>0.0</td>\n",
       "      <td>0.0</td>\n",
       "      <td>0.0</td>\n",
       "      <td>0.0</td>\n",
       "      <td>1.0</td>\n",
       "      <td>0.0</td>\n",
       "      <td>0.0</td>\n",
       "      <td>0.0</td>\n",
       "      <td>1.0</td>\n",
       "    </tr>\n",
       "    <tr>\n",
       "      <th>1</th>\n",
       "      <td>1.0</td>\n",
       "      <td>1.0</td>\n",
       "      <td>65.0</td>\n",
       "      <td>53000.0</td>\n",
       "      <td>2018.0</td>\n",
       "      <td>2.0</td>\n",
       "      <td>9.0</td>\n",
       "      <td>0.0</td>\n",
       "      <td>0.0</td>\n",
       "      <td>0.0</td>\n",
       "      <td>1.0</td>\n",
       "      <td>0.0</td>\n",
       "      <td>0.0</td>\n",
       "      <td>0.0</td>\n",
       "      <td>0.0</td>\n",
       "      <td>1.0</td>\n",
       "    </tr>\n",
       "    <tr>\n",
       "      <th>2</th>\n",
       "      <td>0.0</td>\n",
       "      <td>1.0</td>\n",
       "      <td>58.0</td>\n",
       "      <td>51000.0</td>\n",
       "      <td>2017.0</td>\n",
       "      <td>11.0</td>\n",
       "      <td>11.0</td>\n",
       "      <td>0.0</td>\n",
       "      <td>0.0</td>\n",
       "      <td>0.0</td>\n",
       "      <td>1.0</td>\n",
       "      <td>0.0</td>\n",
       "      <td>0.0</td>\n",
       "      <td>0.0</td>\n",
       "      <td>1.0</td>\n",
       "      <td>0.0</td>\n",
       "    </tr>\n",
       "    <tr>\n",
       "      <th>3</th>\n",
       "      <td>1.0</td>\n",
       "      <td>0.0</td>\n",
       "      <td>61.0</td>\n",
       "      <td>57000.0</td>\n",
       "      <td>2017.0</td>\n",
       "      <td>9.0</td>\n",
       "      <td>11.0</td>\n",
       "      <td>0.0</td>\n",
       "      <td>0.0</td>\n",
       "      <td>0.0</td>\n",
       "      <td>1.0</td>\n",
       "      <td>0.0</td>\n",
       "      <td>0.0</td>\n",
       "      <td>0.0</td>\n",
       "      <td>0.0</td>\n",
       "      <td>1.0</td>\n",
       "    </tr>\n",
       "    <tr>\n",
       "      <th>4</th>\n",
       "      <td>0.0</td>\n",
       "      <td>1.0</td>\n",
       "      <td>26.0</td>\n",
       "      <td>46000.0</td>\n",
       "      <td>2014.0</td>\n",
       "      <td>2.0</td>\n",
       "      <td>13.0</td>\n",
       "      <td>0.0</td>\n",
       "      <td>1.0</td>\n",
       "      <td>0.0</td>\n",
       "      <td>0.0</td>\n",
       "      <td>0.0</td>\n",
       "      <td>0.0</td>\n",
       "      <td>1.0</td>\n",
       "      <td>0.0</td>\n",
       "      <td>0.0</td>\n",
       "    </tr>\n",
       "  </tbody>\n",
       "</table>\n",
       "</div>"
      ],
      "text/plain": [
       "   purchased  gender   age    income  membership_year  membership_month  \\\n",
       "0        1.0     0.0  75.0  100000.0           2017.0               5.0   \n",
       "1        1.0     1.0  65.0   53000.0           2018.0               2.0   \n",
       "2        0.0     1.0  58.0   51000.0           2017.0              11.0   \n",
       "3        1.0     0.0  61.0   57000.0           2017.0               9.0   \n",
       "4        0.0     1.0  26.0   46000.0           2014.0               2.0   \n",
       "\n",
       "   membership_day  gen_z  millenials  gen_x  boomers  silent  young  adult  \\\n",
       "0             9.0    0.0         0.0    0.0      0.0     1.0    0.0    0.0   \n",
       "1             9.0    0.0         0.0    0.0      1.0     0.0    0.0    0.0   \n",
       "2            11.0    0.0         0.0    0.0      1.0     0.0    0.0    0.0   \n",
       "3            11.0    0.0         0.0    0.0      1.0     0.0    0.0    0.0   \n",
       "4            13.0    0.0         1.0    0.0      0.0     0.0    0.0    1.0   \n",
       "\n",
       "   middle_age  old  \n",
       "0         0.0  1.0  \n",
       "1         0.0  1.0  \n",
       "2         1.0  0.0  \n",
       "3         0.0  1.0  \n",
       "4         0.0  0.0  "
      ]
     },
     "execution_count": 17,
     "metadata": {},
     "output_type": "execute_result"
    }
   ],
   "source": [
    "data.head()"
   ]
  },
  {
   "cell_type": "code",
   "execution_count": 18,
   "metadata": {},
   "outputs": [
    {
     "name": "stdout",
     "output_type": "stream",
     "text": [
      "<class 'pandas.core.frame.DataFrame'>\n",
      "RangeIndex: 66501 entries, 0 to 66500\n",
      "Data columns (total 16 columns):\n",
      " #   Column            Non-Null Count  Dtype  \n",
      "---  ------            --------------  -----  \n",
      " 0   purchased         66501 non-null  float64\n",
      " 1   gender            66501 non-null  float64\n",
      " 2   age               66501 non-null  float64\n",
      " 3   income            66501 non-null  float64\n",
      " 4   membership_year   66501 non-null  float64\n",
      " 5   membership_month  66501 non-null  float64\n",
      " 6   membership_day    66501 non-null  float64\n",
      " 7   gen_z             66501 non-null  float64\n",
      " 8   millenials        66501 non-null  float64\n",
      " 9   gen_x             66501 non-null  float64\n",
      " 10  boomers           66501 non-null  float64\n",
      " 11  silent            66501 non-null  float64\n",
      " 12  young             66501 non-null  float64\n",
      " 13  adult             66501 non-null  float64\n",
      " 14  middle_age        66501 non-null  float64\n",
      " 15  old               66501 non-null  float64\n",
      "dtypes: float64(16)\n",
      "memory usage: 8.1 MB\n"
     ]
    }
   ],
   "source": [
    "data.info()"
   ]
  },
  {
   "cell_type": "markdown",
   "metadata": {},
   "source": [
    "We are going to use a simple logistic regression for this one using `purchased` as response variable."
   ]
  },
  {
   "cell_type": "code",
   "execution_count": 19,
   "metadata": {},
   "outputs": [],
   "source": [
    "from sklearn.model_selection import train_test_split\n",
    "\n",
    "y = data.purchased\n",
    "X = data.drop(columns=[\"purchased\"])\n",
    "\n",
    "X_train, X_test, y_train, y_test = train_test_split(X, y, random_state=42)"
   ]
  },
  {
   "cell_type": "code",
   "execution_count": 20,
   "metadata": {},
   "outputs": [
    {
     "data": {
      "text/plain": [
       "LogisticRegression()"
      ]
     },
     "execution_count": 20,
     "metadata": {},
     "output_type": "execute_result"
    }
   ],
   "source": [
    "from sklearn.linear_model import LogisticRegression\n",
    "\n",
    "lr = LogisticRegression()\n",
    "lr.fit(X_train, y_train)"
   ]
  },
  {
   "cell_type": "code",
   "execution_count": 21,
   "metadata": {},
   "outputs": [
    {
     "name": "stdout",
     "output_type": "stream",
     "text": [
      "              precision    recall  f1-score   support\n",
      "\n",
      "         0.0       0.97      0.59      0.73     16039\n",
      "         1.0       0.04      0.44      0.07       587\n",
      "\n",
      "    accuracy                           0.59     16626\n",
      "   macro avg       0.50      0.52      0.40     16626\n",
      "weighted avg       0.93      0.59      0.71     16626\n",
      "\n"
     ]
    }
   ],
   "source": [
    "from sklearn.metrics import classification_report\n",
    "\n",
    "y_true = lr.predict(X_test)\n",
    "\n",
    "print(classification_report(y_true, y_test))"
   ]
  },
  {
   "cell_type": "markdown",
   "metadata": {},
   "source": [
    "Let's feed this to `GridSearchCV`."
   ]
  },
  {
   "cell_type": "code",
   "execution_count": 22,
   "metadata": {},
   "outputs": [],
   "source": [
    "from sklearn.pipeline import Pipeline\n",
    "\n",
    "pipeline = Pipeline([\n",
    "    (\"clf\", LogisticRegression())\n",
    "])"
   ]
  },
  {
   "cell_type": "markdown",
   "metadata": {},
   "source": [
    "After trial and error, I selected the top 3 algorithms that yield best results. For this instance, we'll make use of F1-score as this a balance between precision and recall."
   ]
  },
  {
   "cell_type": "code",
   "execution_count": 23,
   "metadata": {},
   "outputs": [],
   "source": [
    "from sklearn.naive_bayes import BernoulliNB\n",
    "from sklearn.tree import DecisionTreeClassifier\n",
    "from sklearn.svm import SVC\n",
    "from sklearn.linear_model import Perceptron\n",
    "from sklearn.neighbors import KNeighborsClassifier\n",
    "\n",
    "parameters_clf = {\n",
    "    \"clf\": [\n",
    "        LogisticRegression(),\n",
    "        DecisionTreeClassifier(),\n",
    "        KNeighborsClassifier()\n",
    "    ]\n",
    "}"
   ]
  },
  {
   "cell_type": "code",
   "execution_count": 24,
   "metadata": {},
   "outputs": [
    {
     "name": "stdout",
     "output_type": "stream",
     "text": [
      "Fitting 5 folds for each of 3 candidates, totalling 15 fits\n",
      "{'clf': DecisionTreeClassifier()}\n"
     ]
    }
   ],
   "source": [
    "from sklearn.model_selection import GridSearchCV\n",
    "\n",
    "cv = GridSearchCV(pipeline, parameters_clf, verbose=1)\n",
    "cv.fit(X_train, y_train)\n",
    "print(cv.best_params_)"
   ]
  },
  {
   "cell_type": "code",
   "execution_count": 25,
   "metadata": {},
   "outputs": [
    {
     "name": "stdout",
     "output_type": "stream",
     "text": [
      "              precision    recall  f1-score   support\n",
      "\n",
      "         0.0       0.78      0.66      0.71     11619\n",
      "         1.0       0.41      0.56      0.48      5007\n",
      "\n",
      "    accuracy                           0.63     16626\n",
      "   macro avg       0.59      0.61      0.59     16626\n",
      "weighted avg       0.67      0.63      0.64     16626\n",
      "\n"
     ]
    }
   ],
   "source": [
    "y_true = cv.predict(X_test)\n",
    "\n",
    "print(classification_report(y_true, y_test))"
   ]
  },
  {
   "cell_type": "code",
   "execution_count": 26,
   "metadata": {},
   "outputs": [
    {
     "data": {
      "text/plain": [
       "['../models/receive_offer.pkl']"
      ]
     },
     "execution_count": 26,
     "metadata": {},
     "output_type": "execute_result"
    }
   ],
   "source": [
    "joblib.dump(cv, \"../models/receive_offer.pkl\")"
   ]
  },
  {
   "cell_type": "markdown",
   "metadata": {},
   "source": [
    "We'll make use of this model later with our library."
   ]
  },
  {
   "cell_type": "markdown",
   "metadata": {},
   "source": [
    "### Part 2: Which offer should we give out?\n",
    "\n",
    "Examining the current data that we have, this can be answered by creating a recommendation system for the customer. However, we are going to make use of the customer features and try to classify which offer fits best.\n",
    "\n",
    "With this we need to perform the following first.\n",
    "* We need to flatten further the dataset and get the best offer (including non-offer)\n",
    "* Best offer will based on which is successful and yields the highest spendings among the offers\n",
    "* Revenue will be based:\n",
    "    * If not received any offer, spendings is the total `non_offer_amount`\n",
    "    * If received offer, but `purchased` failed, classification is still `non_offer` and spendings is `non_offer_amount`\n",
    "    * If received offer, and `purchased` is successful, classification is `offer` and spendings is `offer_amount` + `non_offer_amount` as we are assuming that the purchase was influenced by the promotion."
   ]
  },
  {
   "cell_type": "code",
   "execution_count": null,
   "metadata": {},
   "outputs": [],
   "source": []
  }
 ],
 "metadata": {
  "interpreter": {
   "hash": "39123923109d28d4cabd67ff5e417bfbc8b47b893b81065aa3bf6c15dd05978d"
  },
  "kernelspec": {
   "display_name": "Python 3.9.7 64-bit ('sb_capstone': conda)",
   "name": "python3"
  },
  "language_info": {
   "codemirror_mode": {
    "name": "ipython",
    "version": 3
   },
   "file_extension": ".py",
   "mimetype": "text/x-python",
   "name": "python",
   "nbconvert_exporter": "python",
   "pygments_lexer": "ipython3",
   "version": "3.9.7"
  },
  "orig_nbformat": 4
 },
 "nbformat": 4,
 "nbformat_minor": 2
}
