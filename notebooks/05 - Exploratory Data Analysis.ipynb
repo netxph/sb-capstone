{
 "cells": [
  {
   "cell_type": "markdown",
   "metadata": {},
   "source": [
    "# Starbucks Capstone Challenge - Exploratory Data Analysis"
   ]
  },
  {
   "cell_type": "markdown",
   "metadata": {},
   "source": [
    "## Introduction\n",
    "\n",
    "As we now have a new perspective with the data. We'll look closer trying to answer our questions presented at the beginning."
   ]
  },
  {
   "cell_type": "markdown",
   "metadata": {},
   "source": [
    "## Setup"
   ]
  },
  {
   "cell_type": "code",
   "execution_count": 1,
   "metadata": {},
   "outputs": [],
   "source": [
    "import sys\n",
    "\n",
    "!{sys.executable} -m pip install -e ../ --quiet"
   ]
  },
  {
   "cell_type": "code",
   "execution_count": 2,
   "metadata": {},
   "outputs": [],
   "source": [
    "import pandas as pd\n",
    "import numpy as np\n",
    "import matplotlib.pyplot as plt\n",
    "import seaborn as sns\n",
    "import scipy.stats as stats\n",
    "import statsmodels.api as sm\n",
    "\n",
    "from sb_capstone.wrangling import (\n",
    "    clean_transcript_group,\n",
    "    tukey_rule\n",
    ")\n",
    "\n",
    "np.set_printoptions(suppress=True)\n",
    "%matplotlib inline"
   ]
  },
  {
   "cell_type": "code",
   "execution_count": 3,
   "metadata": {},
   "outputs": [
    {
     "data": {
      "text/html": [
       "<div>\n",
       "<style scoped>\n",
       "    .dataframe tbody tr th:only-of-type {\n",
       "        vertical-align: middle;\n",
       "    }\n",
       "\n",
       "    .dataframe tbody tr th {\n",
       "        vertical-align: top;\n",
       "    }\n",
       "\n",
       "    .dataframe thead th {\n",
       "        text-align: right;\n",
       "    }\n",
       "</style>\n",
       "<table border=\"1\" class=\"dataframe\">\n",
       "  <thead>\n",
       "    <tr style=\"text-align: right;\">\n",
       "      <th></th>\n",
       "      <th>id</th>\n",
       "      <th>wave</th>\n",
       "      <th>diffs</th>\n",
       "      <th>received</th>\n",
       "      <th>viewed</th>\n",
       "      <th>completed</th>\n",
       "      <th>purchased</th>\n",
       "      <th>amount</th>\n",
       "      <th>reward</th>\n",
       "      <th>non_offer_amount</th>\n",
       "      <th>...</th>\n",
       "      <th>mobile</th>\n",
       "      <th>social</th>\n",
       "      <th>gender</th>\n",
       "      <th>age</th>\n",
       "      <th>generation</th>\n",
       "      <th>group</th>\n",
       "      <th>income</th>\n",
       "      <th>membership_year</th>\n",
       "      <th>membership_month</th>\n",
       "      <th>membership_day</th>\n",
       "    </tr>\n",
       "  </thead>\n",
       "  <tbody>\n",
       "    <tr>\n",
       "      <th>0</th>\n",
       "      <td>1</td>\n",
       "      <td>2</td>\n",
       "      <td>48.000000</td>\n",
       "      <td>True</td>\n",
       "      <td>True</td>\n",
       "      <td>False</td>\n",
       "      <td>False</td>\n",
       "      <td>0.00</td>\n",
       "      <td>0.0</td>\n",
       "      <td>0.00</td>\n",
       "      <td>...</td>\n",
       "      <td>True</td>\n",
       "      <td>False</td>\n",
       "      <td>U</td>\n",
       "      <td>NaN</td>\n",
       "      <td>NaN</td>\n",
       "      <td>NaN</td>\n",
       "      <td>NaN</td>\n",
       "      <td>2017</td>\n",
       "      <td>2</td>\n",
       "      <td>12</td>\n",
       "    </tr>\n",
       "    <tr>\n",
       "      <th>1</th>\n",
       "      <td>2</td>\n",
       "      <td>2</td>\n",
       "      <td>49.866737</td>\n",
       "      <td>False</td>\n",
       "      <td>False</td>\n",
       "      <td>False</td>\n",
       "      <td>False</td>\n",
       "      <td>0.00</td>\n",
       "      <td>0.0</td>\n",
       "      <td>0.00</td>\n",
       "      <td>...</td>\n",
       "      <td>False</td>\n",
       "      <td>False</td>\n",
       "      <td>F</td>\n",
       "      <td>55.0</td>\n",
       "      <td>boomers</td>\n",
       "      <td>middle_age</td>\n",
       "      <td>112000.0</td>\n",
       "      <td>2017</td>\n",
       "      <td>7</td>\n",
       "      <td>15</td>\n",
       "    </tr>\n",
       "    <tr>\n",
       "      <th>2</th>\n",
       "      <td>3</td>\n",
       "      <td>2</td>\n",
       "      <td>36.000000</td>\n",
       "      <td>True</td>\n",
       "      <td>True</td>\n",
       "      <td>False</td>\n",
       "      <td>False</td>\n",
       "      <td>0.00</td>\n",
       "      <td>0.0</td>\n",
       "      <td>0.00</td>\n",
       "      <td>...</td>\n",
       "      <td>True</td>\n",
       "      <td>False</td>\n",
       "      <td>U</td>\n",
       "      <td>NaN</td>\n",
       "      <td>NaN</td>\n",
       "      <td>NaN</td>\n",
       "      <td>NaN</td>\n",
       "      <td>2018</td>\n",
       "      <td>7</td>\n",
       "      <td>12</td>\n",
       "    </tr>\n",
       "    <tr>\n",
       "      <th>3</th>\n",
       "      <td>4</td>\n",
       "      <td>2</td>\n",
       "      <td>26.000000</td>\n",
       "      <td>True</td>\n",
       "      <td>True</td>\n",
       "      <td>True</td>\n",
       "      <td>True</td>\n",
       "      <td>19.67</td>\n",
       "      <td>0.0</td>\n",
       "      <td>29.72</td>\n",
       "      <td>...</td>\n",
       "      <td>True</td>\n",
       "      <td>True</td>\n",
       "      <td>F</td>\n",
       "      <td>75.0</td>\n",
       "      <td>silent</td>\n",
       "      <td>old</td>\n",
       "      <td>100000.0</td>\n",
       "      <td>2017</td>\n",
       "      <td>5</td>\n",
       "      <td>9</td>\n",
       "    </tr>\n",
       "    <tr>\n",
       "      <th>4</th>\n",
       "      <td>5</td>\n",
       "      <td>2</td>\n",
       "      <td>49.866737</td>\n",
       "      <td>False</td>\n",
       "      <td>False</td>\n",
       "      <td>False</td>\n",
       "      <td>True</td>\n",
       "      <td>0.00</td>\n",
       "      <td>0.0</td>\n",
       "      <td>3.50</td>\n",
       "      <td>...</td>\n",
       "      <td>False</td>\n",
       "      <td>False</td>\n",
       "      <td>U</td>\n",
       "      <td>NaN</td>\n",
       "      <td>NaN</td>\n",
       "      <td>NaN</td>\n",
       "      <td>NaN</td>\n",
       "      <td>2017</td>\n",
       "      <td>8</td>\n",
       "      <td>4</td>\n",
       "    </tr>\n",
       "  </tbody>\n",
       "</table>\n",
       "<p>5 rows × 28 columns</p>\n",
       "</div>"
      ],
      "text/plain": [
       "   id  wave      diffs  received  viewed  completed  purchased  amount  \\\n",
       "0   1     2  48.000000      True    True      False      False    0.00   \n",
       "1   2     2  49.866737     False   False      False      False    0.00   \n",
       "2   3     2  36.000000      True    True      False      False    0.00   \n",
       "3   4     2  26.000000      True    True       True       True   19.67   \n",
       "4   5     2  49.866737     False   False      False       True    0.00   \n",
       "\n",
       "   reward  non_offer_amount  ... mobile  social  gender   age  generation  \\\n",
       "0     0.0              0.00  ...   True   False       U   NaN         NaN   \n",
       "1     0.0              0.00  ...  False   False       F  55.0     boomers   \n",
       "2     0.0              0.00  ...   True   False       U   NaN         NaN   \n",
       "3     0.0             29.72  ...   True    True       F  75.0      silent   \n",
       "4     0.0              3.50  ...  False   False       U   NaN         NaN   \n",
       "\n",
       "        group    income  membership_year  membership_month  membership_day  \n",
       "0         NaN       NaN             2017                 2              12  \n",
       "1  middle_age  112000.0             2017                 7              15  \n",
       "2         NaN       NaN             2018                 7              12  \n",
       "3         old  100000.0             2017                 5               9  \n",
       "4         NaN       NaN             2017                 8               4  \n",
       "\n",
       "[5 rows x 28 columns]"
      ]
     },
     "execution_count": 3,
     "metadata": {},
     "output_type": "execute_result"
    }
   ],
   "source": [
    "transcript_group = pd.read_csv(\"../data/processed/transcript_group.csv\")\n",
    "transcript_group = clean_transcript_group(transcript_group)\n",
    "\n",
    "transcript_group.head()"
   ]
  },
  {
   "cell_type": "code",
   "execution_count": 4,
   "metadata": {},
   "outputs": [
    {
     "name": "stdout",
     "output_type": "stream",
     "text": [
      "<class 'pandas.core.frame.DataFrame'>\n",
      "RangeIndex: 102000 entries, 0 to 101999\n",
      "Data columns (total 28 columns):\n",
      " #   Column             Non-Null Count   Dtype   \n",
      "---  ------             --------------   -----   \n",
      " 0   id                 102000 non-null  int64   \n",
      " 1   wave               102000 non-null  int64   \n",
      " 2   diffs              102000 non-null  float64 \n",
      " 3   received           102000 non-null  bool    \n",
      " 4   viewed             102000 non-null  bool    \n",
      " 5   completed          102000 non-null  bool    \n",
      " 6   purchased          102000 non-null  bool    \n",
      " 7   amount             102000 non-null  float64 \n",
      " 8   reward             102000 non-null  float64 \n",
      " 9   non_offer_amount   102000 non-null  float64 \n",
      " 10  mapped_offer       102000 non-null  category\n",
      " 11  spendings          102000 non-null  float64 \n",
      " 12  recommended_offer  102000 non-null  int64   \n",
      " 13  offer_type         102000 non-null  category\n",
      " 14  difficulty         102000 non-null  float64 \n",
      " 15  duration           102000 non-null  float64 \n",
      " 16  web                102000 non-null  bool    \n",
      " 17  email              102000 non-null  bool    \n",
      " 18  mobile             102000 non-null  bool    \n",
      " 19  social             102000 non-null  bool    \n",
      " 20  gender             102000 non-null  category\n",
      " 21  age                88950 non-null   float64 \n",
      " 22  generation         88950 non-null   category\n",
      " 23  group              88950 non-null   category\n",
      " 24  income             88950 non-null   float64 \n",
      " 25  membership_year    102000 non-null  int64   \n",
      " 26  membership_month   102000 non-null  int64   \n",
      " 27  membership_day     102000 non-null  int64   \n",
      "dtypes: bool(8), category(5), float64(9), int64(6)\n",
      "memory usage: 12.9 MB\n"
     ]
    }
   ],
   "source": [
    "transcript_group.info()"
   ]
  },
  {
   "cell_type": "markdown",
   "metadata": {},
   "source": [
    "## Preliminary Analysis"
   ]
  },
  {
   "cell_type": "markdown",
   "metadata": {},
   "source": [
    "Before we look closely how effective the offers are, we'll have a closer look first at the data we are going to observe."
   ]
  },
  {
   "cell_type": "code",
   "execution_count": 5,
   "metadata": {},
   "outputs": [
    {
     "data": {
      "text/plain": [
       "0     25723\n",
       "4      7677\n",
       "5      7668\n",
       "1      7658\n",
       "6      7646\n",
       "10     7632\n",
       "8      7618\n",
       "3      7617\n",
       "7      7597\n",
       "2      7593\n",
       "9      7571\n",
       "Name: mapped_offer, dtype: int64"
      ]
     },
     "execution_count": 5,
     "metadata": {},
     "output_type": "execute_result"
    }
   ],
   "source": [
    "transcript_group.mapped_offer.value_counts()"
   ]
  },
  {
   "cell_type": "code",
   "execution_count": 6,
   "metadata": {},
   "outputs": [
    {
     "data": {
      "image/png": "[encoded data removed]",
      "text/plain": [
       "<Figure size 432x288 with 1 Axes>"
      ]
     },
     "metadata": {
      "needs_background": "light"
     },
     "output_type": "display_data"
    }
   ],
   "source": [
    "transcript_group.mapped_offer.value_counts(normalize=True).plot(kind=\"bar\");"
   ]
  },
  {
   "cell_type": "code",
   "execution_count": 7,
   "metadata": {},
   "outputs": [
    {
     "data": {
      "text/plain": [
       "(7627.7, 25723)"
      ]
     },
     "execution_count": 7,
     "metadata": {},
     "output_type": "execute_result"
    }
   ],
   "source": [
    "mean_offer_count = transcript_group.mapped_offer.value_counts()[1:].mean()\n",
    "ctrl_count = transcript_group.mapped_offer.value_counts()[0]\n",
    "\n",
    "mean_offer_count, ctrl_count"
   ]
  },
  {
   "cell_type": "code",
   "execution_count": 8,
   "metadata": {},
   "outputs": [
    {
     "data": {
      "text/plain": [
       "(0.2287118411307709, 0.7712881588692292)"
      ]
     },
     "execution_count": 8,
     "metadata": {},
     "output_type": "execute_result"
    }
   ],
   "source": [
    "mean_offer_count / (mean_offer_count + ctrl_count), ctrl_count / (mean_offer_count + ctrl_count)"
   ]
  },
  {
   "cell_type": "markdown",
   "metadata": {},
   "source": [
    "Here we can see, we have an almost balance offer groups, however, the control group is more than 3 times the treatment groups. Let's take note this for now."
   ]
  },
  {
   "cell_type": "code",
   "execution_count": 9,
   "metadata": {},
   "outputs": [
    {
     "data": {
      "text/plain": [
       "True     76277\n",
       "False    25723\n",
       "Name: received, dtype: int64"
      ]
     },
     "execution_count": 9,
     "metadata": {},
     "output_type": "execute_result"
    }
   ],
   "source": [
    "transcript_group.received.value_counts()"
   ]
  },
  {
   "cell_type": "code",
   "execution_count": 10,
   "metadata": {},
   "outputs": [
    {
     "data": {
      "image/png": "[encoded data removed]",
      "text/plain": [
       "<Figure size 432x288 with 1 Axes>"
      ]
     },
     "metadata": {
      "needs_background": "light"
     },
     "output_type": "display_data"
    }
   ],
   "source": [
    "transcript_group.received.value_counts(normalize=True).plot(kind=\"bar\");"
   ]
  },
  {
   "cell_type": "markdown",
   "metadata": {},
   "source": [
    "If we are going to test the effectiveness of all offers in general, we can also see that the treatment group is also 3 times more than the control group."
   ]
  },
  {
   "cell_type": "markdown",
   "metadata": {},
   "source": [
    "## Q1: Which offer yields the best results?"
   ]
  },
  {
   "cell_type": "markdown",
   "metadata": {},
   "source": [
    "### Incremental Response Rate\n",
    "\n",
    "The metric we are going to measure is the Incremental Response Rate. To retrieve this we need to extract first the customers who:\n",
    "\n",
    "* Given offers, and successfully completed the offer\n",
    "* Not given offers, and still purchased product\n",
    "\n",
    "We are going to call this value as `X`. "
   ]
  },
  {
   "cell_type": "code",
   "execution_count": 11,
   "metadata": {},
   "outputs": [
    {
     "data": {
      "text/plain": [
       "received  purchased\n",
       "False     False        13425\n",
       "          True         12298\n",
       "True      False        47860\n",
       "          True         28417\n",
       "Name: purchased, dtype: int64"
      ]
     },
     "execution_count": 11,
     "metadata": {},
     "output_type": "execute_result"
    }
   ],
   "source": [
    "transcript_group.loc[transcript_group.received, \"purchased\"] = transcript_group.viewed & transcript_group.completed\n",
    "transcript_group.loc[~transcript_group.received, \"purchased\"] = transcript_group.non_offer_amount > 0\n",
    "\n",
    "transcript_group.groupby(\"received\").purchased.value_counts()"
   ]
  },
  {
   "cell_type": "code",
   "execution_count": 12,
   "metadata": {},
   "outputs": [
    {
     "data": {
      "image/png": "[encoded data removed]",
      "text/plain": [
       "<Figure size 421.25x360 with 1 Axes>"
      ]
     },
     "metadata": {
      "needs_background": "light"
     },
     "output_type": "display_data"
    }
   ],
   "source": [
    "sns.catplot(data=transcript_group, kind=\"count\", x=\"received\", hue=\"purchased\", ci=None);"
   ]
  },
  {
   "cell_type": "markdown",
   "metadata": {},
   "source": [
    "Visually, the offers are not so good, but, there maybe some things that we don't see like the sample size difference between the two."
   ]
  },
  {
   "cell_type": "code",
   "execution_count": 13,
   "metadata": {},
   "outputs": [],
   "source": [
    "transcript_treat = transcript_group[transcript_group.received]\n",
    "transcript_ctrl = transcript_group[~transcript_group.received]"
   ]
  },
  {
   "cell_type": "markdown",
   "metadata": {},
   "source": [
    "Starting here, we are going to refer the number of customers as `n`.\n",
    "\n",
    "To calculate the response rate, here's the formula.\n",
    "\n",
    "$$ IRR = \\frac{X_{tr}}{n_{tr}} - \\frac{X_{ct}}{n_{ct}} $$\n",
    "\n",
    "or\n",
    "\n",
    "$$ IRR = \\bar{X}_{tr} - \\bar{X}_{ct} $$"
   ]
  },
  {
   "cell_type": "code",
   "execution_count": 14,
   "metadata": {},
   "outputs": [
    {
     "data": {
      "text/plain": [
       "-0.1055434871167969"
      ]
     },
     "execution_count": 14,
     "metadata": {},
     "output_type": "execute_result"
    }
   ],
   "source": [
    "irr = transcript_treat.purchased.mean() - transcript_ctrl.purchased.mean()\n",
    "irr"
   ]
  },
  {
   "cell_type": "markdown",
   "metadata": {},
   "source": [
    "This `irr` difference alone shows the rate are note that promising."
   ]
  },
  {
   "cell_type": "markdown",
   "metadata": {},
   "source": [
    "### Invariant Test\n",
    "\n",
    "Looking at the samples above, first noticeable is we have a good amount of samples (greater than 5000), and with large samples, it also have large statistical power. We may no longer needed to check normality test through `shapiro`.\n",
    "\n",
    "Another thing we can look at is the proportion of sample sizes between control and treatment group."
   ]
  },
  {
   "cell_type": "markdown",
   "metadata": {},
   "source": [
    "The first is the comparison between control group with individual offers.\n",
    "\n",
    "As we can see we have 25723 for control group, which is more than 3 times the average for individual treatment with 7627.7. With this, a good amount of control group, helps us establish a good baseline."
   ]
  },
  {
   "cell_type": "code",
   "execution_count": 15,
   "metadata": {},
   "outputs": [
    {
     "data": {
      "text/plain": [
       "True     0.747814\n",
       "False    0.252186\n",
       "Name: received, dtype: float64"
      ]
     },
     "execution_count": 15,
     "metadata": {},
     "output_type": "execute_result"
    }
   ],
   "source": [
    "transcript_group.received.value_counts(normalize=True)"
   ]
  },
  {
   "cell_type": "markdown",
   "metadata": {},
   "source": [
    "The next is the comparison between control group and all the combined offers.\n",
    "\n",
    "The treatment group is at 76277 and the control group is 25723. This puts us at 75 (treatment) : 25 (control). We are going to take note this for now, based on the study done here:\n",
    "\n",
    "[Control Size](https://www.markhw.com/blog/control-size)\n",
    "\n",
    "25% is just at the sweet spot, before the statistical power drops significantly."
   ]
  },
  {
   "cell_type": "markdown",
   "metadata": {},
   "source": [
    "### Statistical Test"
   ]
  },
  {
   "cell_type": "markdown",
   "metadata": {},
   "source": [
    "Since the metrics we've chosen is whether the purchase is successful with and without offer, this corresponds to a Bernoulli population. Also, as inspected above, our `X` is more than 10, therefore we have enough samples to perform the `z-test`."
   ]
  },
  {
   "cell_type": "markdown",
   "metadata": {},
   "source": [
    "For this test we are going to use the following.\n",
    "\n",
    "**Significance Level:** 0.05\n",
    "\n",
    "**Type of Test:** Z Test\n",
    "\n",
    "**Hypothesis:**\n",
    "\n",
    "$$ H_0: \\bar{X}_{tr} \\leq \\bar{X}_{ct} $$\n",
    "\n",
    "$$ H_1: \\bar{X}_{tr} > \\bar{X}_{ct} $$"
   ]
  },
  {
   "cell_type": "code",
   "execution_count": 16,
   "metadata": {},
   "outputs": [
    {
     "name": "stdout",
     "output_type": "stream",
     "text": [
      "Z-Score: -30.022095386446754\n",
      "P-Value: 1.0\n"
     ]
    }
   ],
   "source": [
    "z_score, p_value = sm.stats.ztest(transcript_treat.purchased, transcript_ctrl.purchased, alternative=\"larger\")\n",
    "\n",
    "print(f\"Z-Score: {z_score}\")\n",
    "print(f\"P-Value: {p_value}\")"
   ]
  },
  {
   "cell_type": "markdown",
   "metadata": {},
   "source": [
    "The P-Value at 1.0 is greater than the significance level. The offers did not improved the IRR."
   ]
  },
  {
   "cell_type": "markdown",
   "metadata": {},
   "source": [
    "Applying the same hypothesis and variables to individual offers against our control group, let's see which offer yields the best results."
   ]
  },
  {
   "cell_type": "code",
   "execution_count": 17,
   "metadata": {},
   "outputs": [
    {
     "data": {
      "text/html": [
       "<div>\n",
       "<style scoped>\n",
       "    .dataframe tbody tr th:only-of-type {\n",
       "        vertical-align: middle;\n",
       "    }\n",
       "\n",
       "    .dataframe tbody tr th {\n",
       "        vertical-align: top;\n",
       "    }\n",
       "\n",
       "    .dataframe thead th {\n",
       "        text-align: right;\n",
       "    }\n",
       "</style>\n",
       "<table border=\"1\" class=\"dataframe\">\n",
       "  <thead>\n",
       "    <tr style=\"text-align: right;\">\n",
       "      <th></th>\n",
       "      <th>offer</th>\n",
       "      <th>z_score</th>\n",
       "      <th>p_value</th>\n",
       "    </tr>\n",
       "  </thead>\n",
       "  <tbody>\n",
       "    <tr>\n",
       "      <th>0</th>\n",
       "      <td>1</td>\n",
       "      <td>-20.961817</td>\n",
       "      <td>1.000000e+00</td>\n",
       "    </tr>\n",
       "    <tr>\n",
       "      <th>1</th>\n",
       "      <td>2</td>\n",
       "      <td>-17.135207</td>\n",
       "      <td>1.000000e+00</td>\n",
       "    </tr>\n",
       "    <tr>\n",
       "      <th>2</th>\n",
       "      <td>3</td>\n",
       "      <td>-39.711281</td>\n",
       "      <td>1.000000e+00</td>\n",
       "    </tr>\n",
       "    <tr>\n",
       "      <th>3</th>\n",
       "      <td>4</td>\n",
       "      <td>-31.713629</td>\n",
       "      <td>1.000000e+00</td>\n",
       "    </tr>\n",
       "    <tr>\n",
       "      <th>4</th>\n",
       "      <td>5</td>\n",
       "      <td>-49.787303</td>\n",
       "      <td>1.000000e+00</td>\n",
       "    </tr>\n",
       "    <tr>\n",
       "      <th>5</th>\n",
       "      <td>6</td>\n",
       "      <td>14.838436</td>\n",
       "      <td>4.133016e-50</td>\n",
       "    </tr>\n",
       "    <tr>\n",
       "      <th>6</th>\n",
       "      <td>7</td>\n",
       "      <td>20.944177</td>\n",
       "      <td>1.060145e-97</td>\n",
       "    </tr>\n",
       "    <tr>\n",
       "      <th>7</th>\n",
       "      <td>8</td>\n",
       "      <td>-10.962533</td>\n",
       "      <td>1.000000e+00</td>\n",
       "    </tr>\n",
       "    <tr>\n",
       "      <th>8</th>\n",
       "      <td>9</td>\n",
       "      <td>-1.226650</td>\n",
       "      <td>8.900230e-01</td>\n",
       "    </tr>\n",
       "    <tr>\n",
       "      <th>9</th>\n",
       "      <td>10</td>\n",
       "      <td>-31.671633</td>\n",
       "      <td>1.000000e+00</td>\n",
       "    </tr>\n",
       "  </tbody>\n",
       "</table>\n",
       "</div>"
      ],
      "text/plain": [
       "   offer    z_score       p_value\n",
       "0      1 -20.961817  1.000000e+00\n",
       "1      2 -17.135207  1.000000e+00\n",
       "2      3 -39.711281  1.000000e+00\n",
       "3      4 -31.713629  1.000000e+00\n",
       "4      5 -49.787303  1.000000e+00\n",
       "5      6  14.838436  4.133016e-50\n",
       "6      7  20.944177  1.060145e-97\n",
       "7      8 -10.962533  1.000000e+00\n",
       "8      9  -1.226650  8.900230e-01\n",
       "9     10 -31.671633  1.000000e+00"
      ]
     },
     "execution_count": 17,
     "metadata": {},
     "output_type": "execute_result"
    }
   ],
   "source": [
    "scores = []\n",
    "\n",
    "for i in np.arange(1, 11):\n",
    "    z_score, p_value = sm.stats.ztest(transcript_treat[transcript_treat.mapped_offer == i].purchased, transcript_ctrl.purchased, alternative=\"larger\")\n",
    "    scores.append([i, z_score, p_value])\n",
    "\n",
    "scores = pd.DataFrame(scores, columns=[\"offer\", \"z_score\", \"p_value\"])\n",
    "\n",
    "scores\n"
   ]
  },
  {
   "cell_type": "markdown",
   "metadata": {},
   "source": [
    "Among the offers, the one that yields the best results in order are **offers 7 and 6**.\n",
    "\n",
    "These are both discount types of **difficulty 10** and **reward of 2**."
   ]
  },
  {
   "cell_type": "markdown",
   "metadata": {},
   "source": [
    "### Practical Test\n",
    "\n",
    "Let's now perform practical test for our `irr`. Here are the variables we are going to use.\n",
    "\n",
    "**Practical Significance Boundary**: 0.10\n",
    "\n",
    "Let's say, we have an average price of product at 8, and given the cost of promotion of 0.15 each, on 4 channels, 0.6 in total. We need an increase of 0.075 `irr` to breakeven, for this exercise, we'll adjust it to 0.10 to say, we still need to have a revenue."
   ]
  },
  {
   "cell_type": "markdown",
   "metadata": {},
   "source": [
    "Here we are going to compute the confidence interval margin of error.\n",
    "\n",
    "$$ m = Z * SE_{unpool} $$\n",
    "\n",
    "Since, we don't have an equal proportion population, we are going to use the formula for unpooled standard error.\n",
    "\n",
    "$$ SE_{unpool} = \\sqrt{\\frac{S_{ct}^2}{n_{ct}}+\\frac{S_{tr}^2}{n_{tr}}} $$\n",
    "\n",
    "Where S is the standard deviation of each group. With the raise to 2, this is also similar to the variance of each group.\n",
    "\n",
    "Lastly, the Z of an upper-tailed distribution at 95% is 1.645."
   ]
  },
  {
   "cell_type": "code",
   "execution_count": 18,
   "metadata": {},
   "outputs": [],
   "source": [
    "def se_unpooled(x, y):\n",
    "    return np.sqrt((x.var() / len(x)) + (y.var() / len(y)))\n",
    "\n",
    "def z_conf_int(x, y, alpha=0.05, sides=\"one\"):\n",
    "    se_up = se_unpooled(x, y)\n",
    "\n",
    "    if sides == \"2\":\n",
    "        alpha = alpha / 2\n",
    "\n",
    "    z = stats.norm.ppf(1 - alpha)\n",
    "\n",
    "    m = z * se_up\n",
    "    \n",
    "    d = x.mean() - y.mean()\n",
    "\n",
    "    return (d-m, d+m), se_up, z, m, d"
   ]
  },
  {
   "cell_type": "code",
   "execution_count": 19,
   "metadata": {},
   "outputs": [
    {
     "name": "stdout",
     "output_type": "stream",
     "text": [
      "Confidence Interval: (-0.11142030390593163, -0.09966667032766216)\n",
      "Standard Error: 0.0035728509168482508\n",
      "Z-Score: 1.6448536269514722\n",
      "Margin of Error: 0.0058768167891347384\n",
      "Difference: -0.1055434871167969\n"
     ]
    }
   ],
   "source": [
    "ci, se_up, z, m, d = z_conf_int(transcript_treat.purchased, transcript_ctrl.purchased)\n",
    "\n",
    "print(f\"Confidence Interval: {ci}\")\n",
    "print(f\"Standard Error: {se_up}\")\n",
    "print(f\"Z-Score: {z}\")\n",
    "print(f\"Margin of Error: {m}\")\n",
    "print(f\"Difference: {d}\")"
   ]
  },
  {
   "cell_type": "markdown",
   "metadata": {},
   "source": [
    "Using unpooled SE to get the margin of error, we can see that both range didn't meet the practical significance boundary. Therefore, we can say that the offers are not statistically significant."
   ]
  },
  {
   "cell_type": "markdown",
   "metadata": {},
   "source": [
    "Let's examine the results on individual offers."
   ]
  },
  {
   "cell_type": "code",
   "execution_count": 20,
   "metadata": {},
   "outputs": [
    {
     "data": {
      "text/html": [
       "<div>\n",
       "<style scoped>\n",
       "    .dataframe tbody tr th:only-of-type {\n",
       "        vertical-align: middle;\n",
       "    }\n",
       "\n",
       "    .dataframe tbody tr th {\n",
       "        vertical-align: top;\n",
       "    }\n",
       "\n",
       "    .dataframe thead th {\n",
       "        text-align: right;\n",
       "    }\n",
       "</style>\n",
       "<table border=\"1\" class=\"dataframe\">\n",
       "  <thead>\n",
       "    <tr style=\"text-align: right;\">\n",
       "      <th></th>\n",
       "      <th>offer</th>\n",
       "      <th>lower</th>\n",
       "      <th>upper</th>\n",
       "      <th>se_up</th>\n",
       "      <th>z_score</th>\n",
       "      <th>moe</th>\n",
       "      <th>diff</th>\n",
       "    </tr>\n",
       "  </thead>\n",
       "  <tbody>\n",
       "    <tr>\n",
       "      <th>0</th>\n",
       "      <td>1</td>\n",
       "      <td>-0.145083</td>\n",
       "      <td>-0.124501</td>\n",
       "      <td>0.006256</td>\n",
       "      <td>1.644854</td>\n",
       "      <td>0.010291</td>\n",
       "      <td>-0.134792</td>\n",
       "    </tr>\n",
       "    <tr>\n",
       "      <th>1</th>\n",
       "      <td>2</td>\n",
       "      <td>-0.121356</td>\n",
       "      <td>-0.100471</td>\n",
       "      <td>0.006349</td>\n",
       "      <td>1.644854</td>\n",
       "      <td>0.010443</td>\n",
       "      <td>-0.110913</td>\n",
       "    </tr>\n",
       "    <tr>\n",
       "      <th>2</th>\n",
       "      <td>3</td>\n",
       "      <td>-0.259344</td>\n",
       "      <td>-0.240496</td>\n",
       "      <td>0.005729</td>\n",
       "      <td>1.644854</td>\n",
       "      <td>0.009424</td>\n",
       "      <td>-0.249920</td>\n",
       "    </tr>\n",
       "    <tr>\n",
       "      <th>3</th>\n",
       "      <td>4</td>\n",
       "      <td>-0.211132</td>\n",
       "      <td>-0.191454</td>\n",
       "      <td>0.005982</td>\n",
       "      <td>1.644854</td>\n",
       "      <td>0.009839</td>\n",
       "      <td>-0.201293</td>\n",
       "    </tr>\n",
       "    <tr>\n",
       "      <th>4</th>\n",
       "      <td>5</td>\n",
       "      <td>-0.315856</td>\n",
       "      <td>-0.298390</td>\n",
       "      <td>0.005309</td>\n",
       "      <td>1.644854</td>\n",
       "      <td>0.008733</td>\n",
       "      <td>-0.307123</td>\n",
       "    </tr>\n",
       "    <tr>\n",
       "      <th>5</th>\n",
       "      <td>6</td>\n",
       "      <td>0.085706</td>\n",
       "      <td>0.106943</td>\n",
       "      <td>0.006456</td>\n",
       "      <td>1.644854</td>\n",
       "      <td>0.010619</td>\n",
       "      <td>0.096324</td>\n",
       "    </tr>\n",
       "    <tr>\n",
       "      <th>6</th>\n",
       "      <td>7</td>\n",
       "      <td>0.125313</td>\n",
       "      <td>0.146353</td>\n",
       "      <td>0.006396</td>\n",
       "      <td>1.644854</td>\n",
       "      <td>0.010520</td>\n",
       "      <td>0.135833</td>\n",
       "    </tr>\n",
       "    <tr>\n",
       "      <th>7</th>\n",
       "      <td>8</td>\n",
       "      <td>-0.081744</td>\n",
       "      <td>-0.060581</td>\n",
       "      <td>0.006433</td>\n",
       "      <td>1.644854</td>\n",
       "      <td>0.010582</td>\n",
       "      <td>-0.071163</td>\n",
       "    </tr>\n",
       "    <tr>\n",
       "      <th>8</th>\n",
       "      <td>9</td>\n",
       "      <td>-0.018747</td>\n",
       "      <td>0.002726</td>\n",
       "      <td>0.006527</td>\n",
       "      <td>1.644854</td>\n",
       "      <td>0.010737</td>\n",
       "      <td>-0.008010</td>\n",
       "    </tr>\n",
       "    <tr>\n",
       "      <th>9</th>\n",
       "      <td>10</td>\n",
       "      <td>-0.211353</td>\n",
       "      <td>-0.191637</td>\n",
       "      <td>0.005993</td>\n",
       "      <td>1.644854</td>\n",
       "      <td>0.009858</td>\n",
       "      <td>-0.201495</td>\n",
       "    </tr>\n",
       "  </tbody>\n",
       "</table>\n",
       "</div>"
      ],
      "text/plain": [
       "   offer     lower     upper     se_up   z_score       moe      diff\n",
       "0      1 -0.145083 -0.124501  0.006256  1.644854  0.010291 -0.134792\n",
       "1      2 -0.121356 -0.100471  0.006349  1.644854  0.010443 -0.110913\n",
       "2      3 -0.259344 -0.240496  0.005729  1.644854  0.009424 -0.249920\n",
       "3      4 -0.211132 -0.191454  0.005982  1.644854  0.009839 -0.201293\n",
       "4      5 -0.315856 -0.298390  0.005309  1.644854  0.008733 -0.307123\n",
       "5      6  0.085706  0.106943  0.006456  1.644854  0.010619  0.096324\n",
       "6      7  0.125313  0.146353  0.006396  1.644854  0.010520  0.135833\n",
       "7      8 -0.081744 -0.060581  0.006433  1.644854  0.010582 -0.071163\n",
       "8      9 -0.018747  0.002726  0.006527  1.644854  0.010737 -0.008010\n",
       "9     10 -0.211353 -0.191637  0.005993  1.644854  0.009858 -0.201495"
      ]
     },
     "execution_count": 20,
     "metadata": {},
     "output_type": "execute_result"
    }
   ],
   "source": [
    "intervals = []\n",
    "\n",
    "for i in np.arange(1, 11):\n",
    "    ci, se_up, z, m, d = z_conf_int(transcript_treat[transcript_treat.mapped_offer == i].purchased, transcript_ctrl.purchased)\n",
    "\n",
    "    intervals.append([i, ci[0], ci[1], se_up, z, m, d]) \n",
    "\n",
    "intervals = pd.DataFrame(intervals, columns=[\"offer\", \"lower\", \"upper\", \"se_up\", \"z_score\", \"moe\", \"diff\"])\n",
    "intervals"
   ]
  },
  {
   "cell_type": "markdown",
   "metadata": {},
   "source": [
    "While 6 and 7 offers passed the statistical test, looking at the practical significance, given the boundary, only offer 7 passed on both ends of the range.\n",
    "\n",
    "The difference of Offer 7 with Offer 6 is that the former has higher duration. This is a good sign that the offer maybe working better at a longer duration."
   ]
  },
  {
   "cell_type": "markdown",
   "metadata": {},
   "source": [
    "### Conclusion\n",
    "\n",
    "The combining all the efforts, the offers are not effective at improving the IRR. Individually however, **Offer 7** with a difficulty of 10, reward of 2, and a duration of 10, is the only offer currently effective, perhaps across demographics.\n",
    "\n",
    "Offer 7 is perhaps appealing as it has a decent difficulty everyone can afford and the reward is no brainer."
   ]
  },
  {
   "cell_type": "markdown",
   "metadata": {},
   "source": [
    "## Q2: Which offer provides the best revenue?"
   ]
  },
  {
   "cell_type": "markdown",
   "metadata": {},
   "source": [
    "### Incremental Revenue Rate\n",
    "\n",
    "Since we have a cost in sending out promotions, plus the reward given to the customer, we need to ensure not only the response rate, but we also need to test if we are able to generate enough revenue. Since we don't have a good balance of our groups, we are going to take the revenue rate instead (mean of revenue). The revenue are computed differently for control and treatment groups.\n",
    "\n",
    "Assuming that the cost of sending out offers is `0.15` per channel.\n",
    "\n",
    "$$ rev_{tr} = amt_{tr} - rwd_{tr} - ((ch_{email} + ch_{web} + ch_{mobile} + ch_{social}) * 0.15) $$\n",
    "\n",
    "$$ rev_{ct} = amt_{ct} $$\n",
    "\n",
    "For the treatment group, getting just the amount spent for offer will not be good enough to test of revenue, what we want here is how the offers are influenced by their spending patterns during the promotions, therefore, we include `non_offer_amout` values as well.\n",
    "\n",
    "In our dataset we separated offer and non offer amount. For treatment, the amount we are going to use is `amount` while for control we are going to use `amount_non_offer`."
   ]
  },
  {
   "cell_type": "code",
   "execution_count": 21,
   "metadata": {},
   "outputs": [
    {
     "data": {
      "text/plain": [
       "received\n",
       "False    10.053857\n",
       "True     17.443542\n",
       "Name: revenue, dtype: float64"
      ]
     },
     "execution_count": 21,
     "metadata": {},
     "output_type": "execute_result"
    }
   ],
   "source": [
    "transcript_group.loc[transcript_group.received, \"revenue\"] = (transcript_treat.amount + transcript_treat.non_offer_amount) - transcript_treat.reward - (transcript_treat.email * 0.15 + transcript_treat.web * 0.15 + transcript_treat.mobile * 0.15 * transcript_treat.social * 0.15)\n",
    "transcript_group.loc[~transcript_group.received, \"revenue\"] = transcript_ctrl.non_offer_amount\n",
    "\n",
    "transcript_group.groupby(\"received\").revenue.mean()"
   ]
  },
  {
   "cell_type": "code",
   "execution_count": 22,
   "metadata": {},
   "outputs": [
    {
     "data": {
      "image/png": "[encoded data removed]",
      "text/plain": [
       "<Figure size 432x288 with 1 Axes>"
      ]
     },
     "metadata": {
      "needs_background": "light"
     },
     "output_type": "display_data"
    }
   ],
   "source": [
    "transcript_group.groupby(\"received\").revenue.mean().plot(kind=\"bar\");"
   ]
  },
  {
   "cell_type": "markdown",
   "metadata": {},
   "source": [
    "Visually, there might be a significant difference for those who received offers compared to those who didn't. We can look closer in a while using statistical analysis."
   ]
  },
  {
   "cell_type": "markdown",
   "metadata": {},
   "source": [
    "### Invariant Test\n",
    "\n",
    "Similar to our previous test, one very noticeable is that the sample size are not in equal proportion. However, we have an ample amount of sample size, we don't need to check normality test.\n",
    "\n",
    "The control sizes is within acceptable range as well, with that we can proceed with our test."
   ]
  },
  {
   "cell_type": "markdown",
   "metadata": {},
   "source": [
    "### Statistical Test\n",
    "\n",
    "The metrics we've choosen is difference in mean, therefore, this does not correspond with Bernoulli population. Another noticeable thing as well is that we have unequal proportion between groups, so we are going to make use of unpooled way of calculating standard error. Lastly, the population variance is also unknown, therefore the test that we'll be doing is a `t-test`."
   ]
  },
  {
   "cell_type": "markdown",
   "metadata": {},
   "source": [
    "For this we are going to use the following.\n",
    "\n",
    "**Significance Level:** 0.05\n",
    "\n",
    "**Type of TesT:** T Test\n",
    "\n",
    "**Hypothesis:**\n",
    "\n",
    "We are going to use `X` again to represent the mean revenue per group.\n",
    "\n",
    "$$ H_0: \\bar{X}_{tr} - \\bar{X}_{ct} \\leq 0 $$\n",
    "$$ H_1: \\bar{X}_{tr} - \\bar{X}_{ct} > 0 $$\n"
   ]
  },
  {
   "cell_type": "code",
   "execution_count": 23,
   "metadata": {},
   "outputs": [],
   "source": [
    "transcript_treat = transcript_group[transcript_group.received]\n",
    "transcript_ctrl = transcript_group[~transcript_group.received]"
   ]
  },
  {
   "cell_type": "code",
   "execution_count": 24,
   "metadata": {},
   "outputs": [
    {
     "name": "stdout",
     "output_type": "stream",
     "text": [
      "T-Score:            29.52741084129509\n",
      "P-Value:            1.3916953734223033e-190\n",
      "Degrees of Freedom: 61287.09655932033\n"
     ]
    }
   ],
   "source": [
    "t_score, p_value, df = sm.stats.ttest_ind(transcript_treat.revenue, transcript_ctrl.revenue, usevar=\"unequal\", alternative=\"larger\")\n",
    "\n",
    "print(f\"T-Score:            {t_score}\")\n",
    "print(f\"P-Value:            {p_value}\")\n",
    "print(f\"Degrees of Freedom: {df}\")"
   ]
  },
  {
   "cell_type": "markdown",
   "metadata": {},
   "source": [
    "Our P-Value here is close to zero and way less than our significance level. Therefore we **reject the null hypothesis**. The offers somehow influenced the customers to spend more."
   ]
  },
  {
   "cell_type": "code",
   "execution_count": 25,
   "metadata": {},
   "outputs": [
    {
     "data": {
      "text/html": [
       "<div>\n",
       "<style scoped>\n",
       "    .dataframe tbody tr th:only-of-type {\n",
       "        vertical-align: middle;\n",
       "    }\n",
       "\n",
       "    .dataframe tbody tr th {\n",
       "        vertical-align: top;\n",
       "    }\n",
       "\n",
       "    .dataframe thead th {\n",
       "        text-align: right;\n",
       "    }\n",
       "</style>\n",
       "<table border=\"1\" class=\"dataframe\">\n",
       "  <thead>\n",
       "    <tr style=\"text-align: right;\">\n",
       "      <th></th>\n",
       "      <th>offer</th>\n",
       "      <th>t_score</th>\n",
       "      <th>p_value</th>\n",
       "      <th>df</th>\n",
       "    </tr>\n",
       "  </thead>\n",
       "  <tbody>\n",
       "    <tr>\n",
       "      <th>0</th>\n",
       "      <td>1</td>\n",
       "      <td>13.434090</td>\n",
       "      <td>4.353748e-41</td>\n",
       "      <td>9863.800257</td>\n",
       "    </tr>\n",
       "    <tr>\n",
       "      <th>1</th>\n",
       "      <td>2</td>\n",
       "      <td>11.795935</td>\n",
       "      <td>3.359569e-32</td>\n",
       "      <td>9828.343788</td>\n",
       "    </tr>\n",
       "    <tr>\n",
       "      <th>2</th>\n",
       "      <td>3</td>\n",
       "      <td>9.948234</td>\n",
       "      <td>1.600805e-23</td>\n",
       "      <td>11241.021329</td>\n",
       "    </tr>\n",
       "    <tr>\n",
       "      <th>3</th>\n",
       "      <td>4</td>\n",
       "      <td>8.793543</td>\n",
       "      <td>8.377337e-19</td>\n",
       "      <td>10515.334494</td>\n",
       "    </tr>\n",
       "    <tr>\n",
       "      <th>4</th>\n",
       "      <td>5</td>\n",
       "      <td>7.898408</td>\n",
       "      <td>1.552929e-15</td>\n",
       "      <td>10546.340274</td>\n",
       "    </tr>\n",
       "    <tr>\n",
       "      <th>5</th>\n",
       "      <td>6</td>\n",
       "      <td>20.488827</td>\n",
       "      <td>1.025337e-91</td>\n",
       "      <td>9951.663224</td>\n",
       "    </tr>\n",
       "    <tr>\n",
       "      <th>6</th>\n",
       "      <td>7</td>\n",
       "      <td>23.107796</td>\n",
       "      <td>3.570126e-115</td>\n",
       "      <td>9158.603179</td>\n",
       "    </tr>\n",
       "    <tr>\n",
       "      <th>7</th>\n",
       "      <td>8</td>\n",
       "      <td>13.779222</td>\n",
       "      <td>3.647371e-43</td>\n",
       "      <td>11799.914620</td>\n",
       "    </tr>\n",
       "    <tr>\n",
       "      <th>8</th>\n",
       "      <td>9</td>\n",
       "      <td>14.180886</td>\n",
       "      <td>1.721899e-45</td>\n",
       "      <td>9575.729538</td>\n",
       "    </tr>\n",
       "    <tr>\n",
       "      <th>9</th>\n",
       "      <td>10</td>\n",
       "      <td>12.963911</td>\n",
       "      <td>1.940302e-38</td>\n",
       "      <td>10348.595753</td>\n",
       "    </tr>\n",
       "  </tbody>\n",
       "</table>\n",
       "</div>"
      ],
      "text/plain": [
       "   offer    t_score        p_value            df\n",
       "0      1  13.434090   4.353748e-41   9863.800257\n",
       "1      2  11.795935   3.359569e-32   9828.343788\n",
       "2      3   9.948234   1.600805e-23  11241.021329\n",
       "3      4   8.793543   8.377337e-19  10515.334494\n",
       "4      5   7.898408   1.552929e-15  10546.340274\n",
       "5      6  20.488827   1.025337e-91   9951.663224\n",
       "6      7  23.107796  3.570126e-115   9158.603179\n",
       "7      8  13.779222   3.647371e-43  11799.914620\n",
       "8      9  14.180886   1.721899e-45   9575.729538\n",
       "9     10  12.963911   1.940302e-38  10348.595753"
      ]
     },
     "execution_count": 25,
     "metadata": {},
     "output_type": "execute_result"
    }
   ],
   "source": [
    "scores = []\n",
    "\n",
    "for i in np.arange(1, 11):\n",
    "    t_score, p_value, df = sm.stats.ttest_ind(transcript_treat[transcript_treat.mapped_offer == i].revenue, transcript_ctrl.revenue, usevar=\"unequal\", alternative=\"larger\")\n",
    "\n",
    "    scores.append([i, t_score, p_value, df])\n",
    "\n",
    "scores = pd.DataFrame(scores, columns=[\"offer\", \"t_score\", \"p_value\", \"df\"])\n",
    "scores"
   ]
  },
  {
   "cell_type": "markdown",
   "metadata": {},
   "source": [
    "All offers **reject the null hypothesis**. It shows that having offers, may not be directly getting the offer itself, influences customers to spend more during those period."
   ]
  },
  {
   "cell_type": "markdown",
   "metadata": {},
   "source": [
    "### Practical Test\n",
    "\n",
    "Now on the practical side, we are going to assume to buy an additional coffee for every customer that has an offer."
   ]
  },
  {
   "cell_type": "code",
   "execution_count": 26,
   "metadata": {},
   "outputs": [
    {
     "data": {
      "text/plain": [
       "(8.181790980392158, 9.22460088235294)"
      ]
     },
     "execution_count": 26,
     "metadata": {},
     "output_type": "execute_result"
    }
   ],
   "source": [
    "transcript_group.amount.mean(), transcript_group.non_offer_amount.mean()"
   ]
  },
  {
   "cell_type": "markdown",
   "metadata": {},
   "source": [
    "With the mean amounts above, we'll set for now the practical significant boundary at 10.0.\n",
    "\n",
    "**Practical Significance Boundary**: 10.0\n",
    "\n",
    "**T at 95%**: 1.645\n",
    "\n",
    "To calculate the margin of error, we are still going to follow the same formula above, revising our method to use T-Score."
   ]
  },
  {
   "cell_type": "code",
   "execution_count": 27,
   "metadata": {},
   "outputs": [],
   "source": [
    "def t_conf_int(x, y, alpha=0.05, sides=\"one\"):\n",
    "    se_up = se_unpooled(x, y)\n",
    "\n",
    "    if sides == \"2\":\n",
    "        alpha = alpha / 2\n",
    "\n",
    "    df = ((x.var() / len(x) + y.var() / len(y)) ** 2) / \\\n",
    "            ((x.var() / len(x)) ** 2 / (len(x) - 1) + \\\n",
    "                (y.var() / len(y)) ** 2 / (len(y) - 1))\n",
    "\n",
    "    t = stats.t.ppf(1 - alpha, df=df)\n",
    "\n",
    "    m = t * se_up\n",
    "\n",
    "    d = x.mean() - y.mean()\n",
    "\n",
    "    return (d-m, d+m), se_up, t, m, d, df"
   ]
  },
  {
   "cell_type": "code",
   "execution_count": 28,
   "metadata": {},
   "outputs": [
    {
     "name": "stdout",
     "output_type": "stream",
     "text": [
      "Confidence Interval: (6.978029066341136, 7.801340935593416)\n",
      "Standard Error:      0.2502652549079111\n",
      "T-Score:             1.6448784901348554\n",
      "Margin of Error:     0.4116559346261396\n",
      "Difference:          7.389685000967276\n",
      "Degrees of Freedom:  61287.09655932046\n"
     ]
    }
   ],
   "source": [
    "ci, se_up, t, m, d, df = t_conf_int(transcript_treat.revenue, transcript_ctrl.revenue)\n",
    "\n",
    "print(f\"Confidence Interval: {ci}\")\n",
    "print(f\"Standard Error:      {se_up}\")\n",
    "print(f\"T-Score:             {t}\")\n",
    "print(f\"Margin of Error:     {m}\")\n",
    "print(f\"Difference:          {d}\")\n",
    "print(f\"Degrees of Freedom:  {df}\")\n"
   ]
  },
  {
   "cell_type": "markdown",
   "metadata": {},
   "source": [
    "Even though the intervals are in the positive direction, they failed to reach our practical significance boundary."
   ]
  },
  {
   "cell_type": "markdown",
   "metadata": {},
   "source": [
    "Moving on to individual offers."
   ]
  },
  {
   "cell_type": "code",
   "execution_count": 29,
   "metadata": {},
   "outputs": [
    {
     "data": {
      "text/html": [
       "<div>\n",
       "<style scoped>\n",
       "    .dataframe tbody tr th:only-of-type {\n",
       "        vertical-align: middle;\n",
       "    }\n",
       "\n",
       "    .dataframe tbody tr th {\n",
       "        vertical-align: top;\n",
       "    }\n",
       "\n",
       "    .dataframe thead th {\n",
       "        text-align: right;\n",
       "    }\n",
       "</style>\n",
       "<table border=\"1\" class=\"dataframe\">\n",
       "  <thead>\n",
       "    <tr style=\"text-align: right;\">\n",
       "      <th></th>\n",
       "      <th>offer</th>\n",
       "      <th>lower</th>\n",
       "      <th>upper</th>\n",
       "      <th>se_up</th>\n",
       "      <th>t_score</th>\n",
       "      <th>moe</th>\n",
       "      <th>diff</th>\n",
       "      <th>dof</th>\n",
       "    </tr>\n",
       "  </thead>\n",
       "  <tbody>\n",
       "    <tr>\n",
       "      <th>0</th>\n",
       "      <td>1</td>\n",
       "      <td>6.591651</td>\n",
       "      <td>8.431204</td>\n",
       "      <td>0.559132</td>\n",
       "      <td>1.645008</td>\n",
       "      <td>0.919776</td>\n",
       "      <td>7.511427</td>\n",
       "      <td>9863.800257</td>\n",
       "    </tr>\n",
       "    <tr>\n",
       "      <th>1</th>\n",
       "      <td>2</td>\n",
       "      <td>5.623977</td>\n",
       "      <td>7.446765</td>\n",
       "      <td>0.554036</td>\n",
       "      <td>1.645009</td>\n",
       "      <td>0.911394</td>\n",
       "      <td>6.535371</td>\n",
       "      <td>9828.343788</td>\n",
       "    </tr>\n",
       "    <tr>\n",
       "      <th>2</th>\n",
       "      <td>3</td>\n",
       "      <td>3.782596</td>\n",
       "      <td>5.281367</td>\n",
       "      <td>0.455556</td>\n",
       "      <td>1.644989</td>\n",
       "      <td>0.749385</td>\n",
       "      <td>4.531981</td>\n",
       "      <td>11241.021329</td>\n",
       "    </tr>\n",
       "    <tr>\n",
       "      <th>3</th>\n",
       "      <td>4</td>\n",
       "      <td>3.601982</td>\n",
       "      <td>5.259733</td>\n",
       "      <td>0.503876</td>\n",
       "      <td>1.644999</td>\n",
       "      <td>0.828876</td>\n",
       "      <td>4.430857</td>\n",
       "      <td>10515.334494</td>\n",
       "    </tr>\n",
       "    <tr>\n",
       "      <th>4</th>\n",
       "      <td>5</td>\n",
       "      <td>3.131539</td>\n",
       "      <td>4.779081</td>\n",
       "      <td>0.500773</td>\n",
       "      <td>1.644998</td>\n",
       "      <td>0.823771</td>\n",
       "      <td>3.955310</td>\n",
       "      <td>10546.340274</td>\n",
       "    </tr>\n",
       "    <tr>\n",
       "      <th>5</th>\n",
       "      <td>6</td>\n",
       "      <td>10.334045</td>\n",
       "      <td>12.138305</td>\n",
       "      <td>0.548405</td>\n",
       "      <td>1.645007</td>\n",
       "      <td>0.902130</td>\n",
       "      <td>11.236175</td>\n",
       "      <td>9951.663224</td>\n",
       "    </tr>\n",
       "    <tr>\n",
       "      <th>6</th>\n",
       "      <td>7</td>\n",
       "      <td>13.891061</td>\n",
       "      <td>16.020429</td>\n",
       "      <td>0.647216</td>\n",
       "      <td>1.645020</td>\n",
       "      <td>1.064684</td>\n",
       "      <td>14.955745</td>\n",
       "      <td>9158.603179</td>\n",
       "    </tr>\n",
       "    <tr>\n",
       "      <th>7</th>\n",
       "      <td>8</td>\n",
       "      <td>5.230801</td>\n",
       "      <td>6.649032</td>\n",
       "      <td>0.431078</td>\n",
       "      <td>1.644983</td>\n",
       "      <td>0.709116</td>\n",
       "      <td>5.939916</td>\n",
       "      <td>11799.914620</td>\n",
       "    </tr>\n",
       "    <tr>\n",
       "      <th>8</th>\n",
       "      <td>9</td>\n",
       "      <td>7.266238</td>\n",
       "      <td>9.173253</td>\n",
       "      <td>0.579636</td>\n",
       "      <td>1.645013</td>\n",
       "      <td>0.953508</td>\n",
       "      <td>8.219745</td>\n",
       "      <td>9575.729538</td>\n",
       "    </tr>\n",
       "    <tr>\n",
       "      <th>9</th>\n",
       "      <td>10</td>\n",
       "      <td>5.793243</td>\n",
       "      <td>7.477131</td>\n",
       "      <td>0.511820</td>\n",
       "      <td>1.645001</td>\n",
       "      <td>0.841944</td>\n",
       "      <td>6.635187</td>\n",
       "      <td>10348.595753</td>\n",
       "    </tr>\n",
       "  </tbody>\n",
       "</table>\n",
       "</div>"
      ],
      "text/plain": [
       "   offer      lower      upper     se_up   t_score       moe       diff  \\\n",
       "0      1   6.591651   8.431204  0.559132  1.645008  0.919776   7.511427   \n",
       "1      2   5.623977   7.446765  0.554036  1.645009  0.911394   6.535371   \n",
       "2      3   3.782596   5.281367  0.455556  1.644989  0.749385   4.531981   \n",
       "3      4   3.601982   5.259733  0.503876  1.644999  0.828876   4.430857   \n",
       "4      5   3.131539   4.779081  0.500773  1.644998  0.823771   3.955310   \n",
       "5      6  10.334045  12.138305  0.548405  1.645007  0.902130  11.236175   \n",
       "6      7  13.891061  16.020429  0.647216  1.645020  1.064684  14.955745   \n",
       "7      8   5.230801   6.649032  0.431078  1.644983  0.709116   5.939916   \n",
       "8      9   7.266238   9.173253  0.579636  1.645013  0.953508   8.219745   \n",
       "9     10   5.793243   7.477131  0.511820  1.645001  0.841944   6.635187   \n",
       "\n",
       "            dof  \n",
       "0   9863.800257  \n",
       "1   9828.343788  \n",
       "2  11241.021329  \n",
       "3  10515.334494  \n",
       "4  10546.340274  \n",
       "5   9951.663224  \n",
       "6   9158.603179  \n",
       "7  11799.914620  \n",
       "8   9575.729538  \n",
       "9  10348.595753  "
      ]
     },
     "execution_count": 29,
     "metadata": {},
     "output_type": "execute_result"
    }
   ],
   "source": [
    "intervals = []\n",
    "\n",
    "for i in np.arange(1, 11):\n",
    "    ci, se_up, t, m, d, df = t_conf_int(transcript_treat[transcript_treat.mapped_offer == i].revenue, transcript_ctrl.revenue)\n",
    "\n",
    "    intervals.append([i, ci[0], ci[1], se_up, t, m, d, df])\n",
    "\n",
    "intervals = pd.DataFrame(intervals, \n",
    "    columns=[\"offer\", \"lower\", \"upper\", \"se_up\", \"t_score\", \"moe\", \"diff\", \"dof\"])\n",
    "    \n",
    "intervals"
   ]
  },
  {
   "cell_type": "markdown",
   "metadata": {},
   "source": [
    "Given a high practical significance boundary of 10.0, only offer 6 and 7 passed the practical test, having offer 7 performing better."
   ]
  },
  {
   "cell_type": "markdown",
   "metadata": {},
   "source": [
    "### Conclusion\n",
    "\n",
    "The offers shows a positive impact as the customers spends more when given offers. At this angle, even the company is risking to lose money offering rewards in the offers, we are able to influence the customers to buy more.\n",
    "\n",
    "However, it's still not enough as the result in general didn't meet the practical significance boundary, except for offers 6 and 7. Our recommendations are, to remove or adjust the offers that are not working, and offer more those types that are effective, also, we may wish to target as well customers who are likely affected by offers and buys more."
   ]
  },
  {
   "cell_type": "markdown",
   "metadata": {},
   "source": [
    "## Next Steps"
   ]
  },
  {
   "cell_type": "markdown",
   "metadata": {},
   "source": [
    "We left the third question to be focused more on applying machine learning to improve our offer and forecast. It was consistent that Offers 6 and 7 are the best performing ones. These are both discount type at 10 difficulty and 2 rewards.\n",
    "\n",
    "Lastly, we are going to create a library class that consumers can use to tune who receives offer catering new and existing users."
   ]
  }
 ],
 "metadata": {
  "interpreter": {
   "hash": "39123923109d28d4cabd67ff5e417bfbc8b47b893b81065aa3bf6c15dd05978d"
  },
  "kernelspec": {
   "display_name": "Python 3.9.7 64-bit ('sb_capstone': conda)",
   "name": "python3"
  },
  "language_info": {
   "codemirror_mode": {
    "name": "ipython",
    "version": 3
   },
   "file_extension": ".py",
   "mimetype": "text/x-python",
   "name": "python",
   "nbconvert_exporter": "python",
   "pygments_lexer": "ipython3",
   "version": "3.9.7"
  },
  "orig_nbformat": 4
 },
 "nbformat": 4,
 "nbformat_minor": 2
}
