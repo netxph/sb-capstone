{
 "cells": [
  {
   "cell_type": "markdown",
   "metadata": {},
   "source": [
    "# Starbucks Capstone Challenge - Exploratory Data Analysis"
   ]
  },
  {
   "cell_type": "markdown",
   "metadata": {},
   "source": [
    "## Introduction\n",
    "\n",
    "As we now have a new perspective with the data. We'll look closer trying to answer our questions presented at the beginning."
   ]
  },
  {
   "cell_type": "markdown",
   "metadata": {},
   "source": [
    "## Setup"
   ]
  },
  {
   "cell_type": "code",
   "execution_count": 1,
   "metadata": {},
   "outputs": [],
   "source": [
    "import sys\n",
    "\n",
    "!{sys.executable} -m pip install -e ../ --quiet"
   ]
  },
  {
   "cell_type": "code",
   "execution_count": 2,
   "metadata": {},
   "outputs": [],
   "source": [
    "import pandas as pd\n",
    "import numpy as np\n",
    "import matplotlib.pyplot as plt\n",
    "import seaborn as sns\n",
    "import scipy.stats as stats\n",
    "\n",
    "from sb_capstone.wrangling import (\n",
    "    clean_transcript_group,\n",
    "    tukey_rule\n",
    ")\n",
    "\n",
    "%matplotlib inline"
   ]
  },
  {
   "cell_type": "code",
   "execution_count": 3,
   "metadata": {},
   "outputs": [
    {
     "data": {
      "text/html": [
       "<div>\n",
       "<style scoped>\n",
       "    .dataframe tbody tr th:only-of-type {\n",
       "        vertical-align: middle;\n",
       "    }\n",
       "\n",
       "    .dataframe tbody tr th {\n",
       "        vertical-align: top;\n",
       "    }\n",
       "\n",
       "    .dataframe thead th {\n",
       "        text-align: right;\n",
       "    }\n",
       "</style>\n",
       "<table border=\"1\" class=\"dataframe\">\n",
       "  <thead>\n",
       "    <tr style=\"text-align: right;\">\n",
       "      <th></th>\n",
       "      <th>id</th>\n",
       "      <th>wave</th>\n",
       "      <th>received</th>\n",
       "      <th>viewed</th>\n",
       "      <th>completed</th>\n",
       "      <th>amount</th>\n",
       "      <th>reward</th>\n",
       "      <th>non_offer_amount</th>\n",
       "      <th>mapped_offer</th>\n",
       "      <th>offer_type</th>\n",
       "      <th>...</th>\n",
       "      <th>web</th>\n",
       "      <th>email</th>\n",
       "      <th>mobile</th>\n",
       "      <th>social</th>\n",
       "      <th>gender</th>\n",
       "      <th>age</th>\n",
       "      <th>income</th>\n",
       "      <th>membership_year</th>\n",
       "      <th>membership_month</th>\n",
       "      <th>membership_day</th>\n",
       "    </tr>\n",
       "  </thead>\n",
       "  <tbody>\n",
       "    <tr>\n",
       "      <th>0</th>\n",
       "      <td>1</td>\n",
       "      <td>2</td>\n",
       "      <td>True</td>\n",
       "      <td>True</td>\n",
       "      <td>False</td>\n",
       "      <td>0.00</td>\n",
       "      <td>0.0</td>\n",
       "      <td>0.00</td>\n",
       "      <td>10</td>\n",
       "      <td>discount</td>\n",
       "      <td>...</td>\n",
       "      <td>True</td>\n",
       "      <td>True</td>\n",
       "      <td>True</td>\n",
       "      <td>False</td>\n",
       "      <td>U</td>\n",
       "      <td>NaN</td>\n",
       "      <td>NaN</td>\n",
       "      <td>2017</td>\n",
       "      <td>2</td>\n",
       "      <td>12</td>\n",
       "    </tr>\n",
       "    <tr>\n",
       "      <th>1</th>\n",
       "      <td>2</td>\n",
       "      <td>2</td>\n",
       "      <td>False</td>\n",
       "      <td>False</td>\n",
       "      <td>False</td>\n",
       "      <td>0.00</td>\n",
       "      <td>0.0</td>\n",
       "      <td>0.00</td>\n",
       "      <td>0</td>\n",
       "      <td>no_offer</td>\n",
       "      <td>...</td>\n",
       "      <td>False</td>\n",
       "      <td>False</td>\n",
       "      <td>False</td>\n",
       "      <td>False</td>\n",
       "      <td>F</td>\n",
       "      <td>55.0</td>\n",
       "      <td>112000.0</td>\n",
       "      <td>2017</td>\n",
       "      <td>7</td>\n",
       "      <td>15</td>\n",
       "    </tr>\n",
       "    <tr>\n",
       "      <th>2</th>\n",
       "      <td>3</td>\n",
       "      <td>2</td>\n",
       "      <td>True</td>\n",
       "      <td>True</td>\n",
       "      <td>False</td>\n",
       "      <td>0.00</td>\n",
       "      <td>0.0</td>\n",
       "      <td>0.00</td>\n",
       "      <td>4</td>\n",
       "      <td>bogo</td>\n",
       "      <td>...</td>\n",
       "      <td>True</td>\n",
       "      <td>True</td>\n",
       "      <td>True</td>\n",
       "      <td>False</td>\n",
       "      <td>U</td>\n",
       "      <td>NaN</td>\n",
       "      <td>NaN</td>\n",
       "      <td>2018</td>\n",
       "      <td>7</td>\n",
       "      <td>12</td>\n",
       "    </tr>\n",
       "    <tr>\n",
       "      <th>3</th>\n",
       "      <td>4</td>\n",
       "      <td>2</td>\n",
       "      <td>True</td>\n",
       "      <td>True</td>\n",
       "      <td>True</td>\n",
       "      <td>19.67</td>\n",
       "      <td>0.0</td>\n",
       "      <td>29.72</td>\n",
       "      <td>8</td>\n",
       "      <td>informational</td>\n",
       "      <td>...</td>\n",
       "      <td>False</td>\n",
       "      <td>True</td>\n",
       "      <td>True</td>\n",
       "      <td>True</td>\n",
       "      <td>F</td>\n",
       "      <td>75.0</td>\n",
       "      <td>100000.0</td>\n",
       "      <td>2017</td>\n",
       "      <td>5</td>\n",
       "      <td>9</td>\n",
       "    </tr>\n",
       "    <tr>\n",
       "      <th>4</th>\n",
       "      <td>5</td>\n",
       "      <td>2</td>\n",
       "      <td>False</td>\n",
       "      <td>False</td>\n",
       "      <td>False</td>\n",
       "      <td>0.00</td>\n",
       "      <td>0.0</td>\n",
       "      <td>3.50</td>\n",
       "      <td>0</td>\n",
       "      <td>no_offer</td>\n",
       "      <td>...</td>\n",
       "      <td>False</td>\n",
       "      <td>False</td>\n",
       "      <td>False</td>\n",
       "      <td>False</td>\n",
       "      <td>U</td>\n",
       "      <td>NaN</td>\n",
       "      <td>NaN</td>\n",
       "      <td>2017</td>\n",
       "      <td>8</td>\n",
       "      <td>4</td>\n",
       "    </tr>\n",
       "  </tbody>\n",
       "</table>\n",
       "<p>5 rows × 22 columns</p>\n",
       "</div>"
      ],
      "text/plain": [
       "   id  wave  received  viewed  completed  amount  reward  non_offer_amount  \\\n",
       "0   1     2      True    True      False    0.00     0.0              0.00   \n",
       "1   2     2     False   False      False    0.00     0.0              0.00   \n",
       "2   3     2      True    True      False    0.00     0.0              0.00   \n",
       "3   4     2      True    True       True   19.67     0.0             29.72   \n",
       "4   5     2     False   False      False    0.00     0.0              3.50   \n",
       "\n",
       "  mapped_offer     offer_type  ...    web  email  mobile  social  gender  \\\n",
       "0           10       discount  ...   True   True    True   False       U   \n",
       "1            0       no_offer  ...  False  False   False   False       F   \n",
       "2            4           bogo  ...   True   True    True   False       U   \n",
       "3            8  informational  ...  False   True    True    True       F   \n",
       "4            0       no_offer  ...  False  False   False   False       U   \n",
       "\n",
       "    age    income  membership_year  membership_month  membership_day  \n",
       "0   NaN       NaN             2017                 2              12  \n",
       "1  55.0  112000.0             2017                 7              15  \n",
       "2   NaN       NaN             2018                 7              12  \n",
       "3  75.0  100000.0             2017                 5               9  \n",
       "4   NaN       NaN             2017                 8               4  \n",
       "\n",
       "[5 rows x 22 columns]"
      ]
     },
     "execution_count": 3,
     "metadata": {},
     "output_type": "execute_result"
    }
   ],
   "source": [
    "transcript_group = pd.read_csv(\"../data/processed/transcript_group.csv\")\n",
    "transcript_group = clean_transcript_group(transcript_group)\n",
    "\n",
    "transcript_group.head()"
   ]
  },
  {
   "cell_type": "code",
   "execution_count": 4,
   "metadata": {},
   "outputs": [
    {
     "name": "stdout",
     "output_type": "stream",
     "text": [
      "<class 'pandas.core.frame.DataFrame'>\n",
      "RangeIndex: 102000 entries, 0 to 101999\n",
      "Data columns (total 22 columns):\n",
      " #   Column            Non-Null Count   Dtype   \n",
      "---  ------            --------------   -----   \n",
      " 0   id                102000 non-null  int64   \n",
      " 1   wave              102000 non-null  int64   \n",
      " 2   received          102000 non-null  bool    \n",
      " 3   viewed            102000 non-null  bool    \n",
      " 4   completed         102000 non-null  bool    \n",
      " 5   amount            102000 non-null  float64 \n",
      " 6   reward            102000 non-null  float64 \n",
      " 7   non_offer_amount  102000 non-null  float64 \n",
      " 8   mapped_offer      102000 non-null  category\n",
      " 9   offer_type        102000 non-null  category\n",
      " 10  difficulty        102000 non-null  float64 \n",
      " 11  duration          102000 non-null  float64 \n",
      " 12  web               102000 non-null  bool    \n",
      " 13  email             102000 non-null  bool    \n",
      " 14  mobile            102000 non-null  bool    \n",
      " 15  social            102000 non-null  bool    \n",
      " 16  gender            102000 non-null  category\n",
      " 17  age               88950 non-null   float64 \n",
      " 18  income            88950 non-null   float64 \n",
      " 19  membership_year   102000 non-null  int64   \n",
      " 20  membership_month  102000 non-null  int64   \n",
      " 21  membership_day    102000 non-null  int64   \n",
      "dtypes: bool(7), category(3), float64(7), int64(5)\n",
      "memory usage: 10.3 MB\n"
     ]
    }
   ],
   "source": [
    "transcript_group.info()"
   ]
  },
  {
   "cell_type": "markdown",
   "metadata": {},
   "source": [
    "AB TESTING NOTES\n",
    "\n",
    "* State Context (goal of having promotions)\n",
    "* State potential disadvantages\n",
    "* Pre-requisites\n",
    "   * Choose Key Metrics\n",
    "   * Generalize metrics is only fair when N_control = N_treatment\n",
    "   * If not, per customer metrics, normalization\n",
    "      * Revenue per user\n",
    "   * Randomization Units\n",
    "      * Users, assume there's enough\n",
    "* Experimentation\n",
    "   * Target all users/specific users\n",
    "   * Understand the journey\n",
    "   * Select a population (choose which stage in the journey you wish to study)\n",
    "   * Sample size\n",
    "      * (16 * sigma^2) / delta^2\n",
    "      * sigma - STD of the population\n",
    "      * delta - difference between treatment and control\n",
    "   * Practical significance boundary\n",
    "      * How many revenue increase per user to outweigh the cost\n",
    "   * Determine\n",
    "      * Power of the test: 80%\n",
    "      * Significance Level: 5%\n",
    "   * How Long\n",
    "      * Ramp-up plan\n",
    "      * Day of week effect (if there are special days, run/round a whole week)\n",
    "      * Seasonality (should not used for analysis)\n",
    "      * Primacy and novelty effects\n",
    "      * Better than overpowered, account for unique users\n",
    "      * Running experiment too long diminishing return\n",
    "   * Results to Decision\n",
    "      * Number of users assigned groups is truly random\n",
    "      * Statistically and Practically significant\n",
    "         * If one of them fails, it's not conclusive, run test with more power\n",
    "\n",
    "https://www.kaggle.com/ekrembayar/a-b-testing-step-by-step-hypothesis-testing\n",
    "https://towardsdatascience.com/the-math-behind-a-b-testing-with-example-code-part-1-of-2-7be752e1d06f\n",
    "https://github.com/mnguyenngo/ab-framework/blob/master/src/stats.py\n",
    "\n",
    "\n",
    "For promotions and offers, it's not about giving stuff free, but attracting to buy without having the initial intentions. Therefore, revenue is the total amount, offer and non-offer minus the given discounts. Since we don't have a balance control and treatment, we'll get the mean revenue per customer."
   ]
  },
  {
   "cell_type": "markdown",
   "metadata": {},
   "source": [
    "## Q1: Which offer yields the best results?"
   ]
  },
  {
   "cell_type": "markdown",
   "metadata": {},
   "source": [
    "### Metrics"
   ]
  },
  {
   "cell_type": "markdown",
   "metadata": {},
   "source": [
    "**Invariant Metrics**\n",
    "\n",
    "Group sizes\n",
    "\n",
    "https://www.markhw.com/blog/control-size\n",
    "\n",
    "Length of test\n",
    "\n",
    "Primacy and novelty"
   ]
  },
  {
   "cell_type": "code",
   "execution_count": 5,
   "metadata": {},
   "outputs": [
    {
     "data": {
      "text/plain": [
       "0     25723\n",
       "4      7677\n",
       "5      7668\n",
       "1      7658\n",
       "6      7646\n",
       "10     7632\n",
       "8      7618\n",
       "3      7617\n",
       "7      7597\n",
       "2      7593\n",
       "9      7571\n",
       "Name: mapped_offer, dtype: int64"
      ]
     },
     "execution_count": 5,
     "metadata": {},
     "output_type": "execute_result"
    }
   ],
   "source": [
    "transcript_group.mapped_offer.value_counts()"
   ]
  },
  {
   "cell_type": "code",
   "execution_count": 6,
   "metadata": {},
   "outputs": [
    {
     "data": {
      "image/png": "[encoded data removed]",
      "text/plain": [
       "<Figure size 432x288 with 1 Axes>"
      ]
     },
     "metadata": {
      "needs_background": "light"
     },
     "output_type": "display_data"
    }
   ],
   "source": [
    "transcript_group.mapped_offer.value_counts(normalize=True).plot(kind='bar');"
   ]
  },
  {
   "cell_type": "markdown",
   "metadata": {},
   "source": [
    "**Metrics**\n",
    "\n",
    "Incremental Response Rate\n",
    "\n",
    "Purchased if:\n",
    "\n",
    "* Received, viewed, completed = True\n",
    "* Received = False\n",
    "* Received, viewed = False\n",
    "* Received, completed = False\n",
    "\n",
    "Legend:\n",
    "* purch_treat = Number of customers who successfully purchased based on offer\n",
    "* cust_treat = Number of customers who received the offer\n",
    "* purch_ctrl = Number of customers who successfully purchased not affected by offer\n",
    "* cust_ctrl = Number of customers who did not received the offer\n",
    "\n",
    "$$ IRR = \\frac{purch_{treat}}{cust_{treat}} - \\frac{purch_{ctrl}}{cust_{ctrl}} $$\n",
    "\n",
    "Incremental Profit\n",
    "\n",
    "Profit difference made from a managerial decision.\n",
    "\n",
    "3 factors, amount from offers, rewards given, amount from non-offers, and cost of promotions\n",
    "\n",
    "Assuming that each channel promotions costs 0.15.\n",
    "\n",
    "$$ profit = amount_{offers} - reward - (email * 0.15 + web * 0.15 + mobile * 0.15 + social * 0.15) - amount_{non-offers} $$\n"
   ]
  },
  {
   "cell_type": "code",
   "execution_count": 7,
   "metadata": {},
   "outputs": [],
   "source": [
    "transcript_group[\"purchased\"] = \\\n",
    "    ((transcript_group.received) & (transcript_group.viewed & transcript_group.completed)) | \\\n",
    "    ((~transcript_group.received) & (transcript_group.non_offer_amount > 0))"
   ]
  },
  {
   "cell_type": "code",
   "execution_count": 8,
   "metadata": {},
   "outputs": [
    {
     "data": {
      "text/html": [
       "<div>\n",
       "<style scoped>\n",
       "    .dataframe tbody tr th:only-of-type {\n",
       "        vertical-align: middle;\n",
       "    }\n",
       "\n",
       "    .dataframe tbody tr th {\n",
       "        vertical-align: top;\n",
       "    }\n",
       "\n",
       "    .dataframe thead th {\n",
       "        text-align: right;\n",
       "    }\n",
       "</style>\n",
       "<table border=\"1\" class=\"dataframe\">\n",
       "  <thead>\n",
       "    <tr style=\"text-align: right;\">\n",
       "      <th></th>\n",
       "      <th>id</th>\n",
       "      <th>wave</th>\n",
       "      <th>received</th>\n",
       "      <th>viewed</th>\n",
       "      <th>completed</th>\n",
       "      <th>amount</th>\n",
       "      <th>reward</th>\n",
       "      <th>non_offer_amount</th>\n",
       "      <th>mapped_offer</th>\n",
       "      <th>offer_type</th>\n",
       "      <th>...</th>\n",
       "      <th>email</th>\n",
       "      <th>mobile</th>\n",
       "      <th>social</th>\n",
       "      <th>gender</th>\n",
       "      <th>age</th>\n",
       "      <th>income</th>\n",
       "      <th>membership_year</th>\n",
       "      <th>membership_month</th>\n",
       "      <th>membership_day</th>\n",
       "      <th>purchased</th>\n",
       "    </tr>\n",
       "  </thead>\n",
       "  <tbody>\n",
       "    <tr>\n",
       "      <th>0</th>\n",
       "      <td>1</td>\n",
       "      <td>2</td>\n",
       "      <td>True</td>\n",
       "      <td>True</td>\n",
       "      <td>False</td>\n",
       "      <td>0.00</td>\n",
       "      <td>0.0</td>\n",
       "      <td>0.00</td>\n",
       "      <td>10</td>\n",
       "      <td>discount</td>\n",
       "      <td>...</td>\n",
       "      <td>True</td>\n",
       "      <td>True</td>\n",
       "      <td>False</td>\n",
       "      <td>U</td>\n",
       "      <td>NaN</td>\n",
       "      <td>NaN</td>\n",
       "      <td>2017</td>\n",
       "      <td>2</td>\n",
       "      <td>12</td>\n",
       "      <td>False</td>\n",
       "    </tr>\n",
       "    <tr>\n",
       "      <th>1</th>\n",
       "      <td>2</td>\n",
       "      <td>2</td>\n",
       "      <td>False</td>\n",
       "      <td>False</td>\n",
       "      <td>False</td>\n",
       "      <td>0.00</td>\n",
       "      <td>0.0</td>\n",
       "      <td>0.00</td>\n",
       "      <td>0</td>\n",
       "      <td>no_offer</td>\n",
       "      <td>...</td>\n",
       "      <td>False</td>\n",
       "      <td>False</td>\n",
       "      <td>False</td>\n",
       "      <td>F</td>\n",
       "      <td>55.0</td>\n",
       "      <td>112000.0</td>\n",
       "      <td>2017</td>\n",
       "      <td>7</td>\n",
       "      <td>15</td>\n",
       "      <td>False</td>\n",
       "    </tr>\n",
       "    <tr>\n",
       "      <th>2</th>\n",
       "      <td>3</td>\n",
       "      <td>2</td>\n",
       "      <td>True</td>\n",
       "      <td>True</td>\n",
       "      <td>False</td>\n",
       "      <td>0.00</td>\n",
       "      <td>0.0</td>\n",
       "      <td>0.00</td>\n",
       "      <td>4</td>\n",
       "      <td>bogo</td>\n",
       "      <td>...</td>\n",
       "      <td>True</td>\n",
       "      <td>True</td>\n",
       "      <td>False</td>\n",
       "      <td>U</td>\n",
       "      <td>NaN</td>\n",
       "      <td>NaN</td>\n",
       "      <td>2018</td>\n",
       "      <td>7</td>\n",
       "      <td>12</td>\n",
       "      <td>False</td>\n",
       "    </tr>\n",
       "    <tr>\n",
       "      <th>3</th>\n",
       "      <td>4</td>\n",
       "      <td>2</td>\n",
       "      <td>True</td>\n",
       "      <td>True</td>\n",
       "      <td>True</td>\n",
       "      <td>19.67</td>\n",
       "      <td>0.0</td>\n",
       "      <td>29.72</td>\n",
       "      <td>8</td>\n",
       "      <td>informational</td>\n",
       "      <td>...</td>\n",
       "      <td>True</td>\n",
       "      <td>True</td>\n",
       "      <td>True</td>\n",
       "      <td>F</td>\n",
       "      <td>75.0</td>\n",
       "      <td>100000.0</td>\n",
       "      <td>2017</td>\n",
       "      <td>5</td>\n",
       "      <td>9</td>\n",
       "      <td>True</td>\n",
       "    </tr>\n",
       "    <tr>\n",
       "      <th>4</th>\n",
       "      <td>5</td>\n",
       "      <td>2</td>\n",
       "      <td>False</td>\n",
       "      <td>False</td>\n",
       "      <td>False</td>\n",
       "      <td>0.00</td>\n",
       "      <td>0.0</td>\n",
       "      <td>3.50</td>\n",
       "      <td>0</td>\n",
       "      <td>no_offer</td>\n",
       "      <td>...</td>\n",
       "      <td>False</td>\n",
       "      <td>False</td>\n",
       "      <td>False</td>\n",
       "      <td>U</td>\n",
       "      <td>NaN</td>\n",
       "      <td>NaN</td>\n",
       "      <td>2017</td>\n",
       "      <td>8</td>\n",
       "      <td>4</td>\n",
       "      <td>True</td>\n",
       "    </tr>\n",
       "  </tbody>\n",
       "</table>\n",
       "<p>5 rows × 23 columns</p>\n",
       "</div>"
      ],
      "text/plain": [
       "   id  wave  received  viewed  completed  amount  reward  non_offer_amount  \\\n",
       "0   1     2      True    True      False    0.00     0.0              0.00   \n",
       "1   2     2     False   False      False    0.00     0.0              0.00   \n",
       "2   3     2      True    True      False    0.00     0.0              0.00   \n",
       "3   4     2      True    True       True   19.67     0.0             29.72   \n",
       "4   5     2     False   False      False    0.00     0.0              3.50   \n",
       "\n",
       "  mapped_offer     offer_type  ...  email  mobile  social  gender   age  \\\n",
       "0           10       discount  ...   True    True   False       U   NaN   \n",
       "1            0       no_offer  ...  False   False   False       F  55.0   \n",
       "2            4           bogo  ...   True    True   False       U   NaN   \n",
       "3            8  informational  ...   True    True    True       F  75.0   \n",
       "4            0       no_offer  ...  False   False   False       U   NaN   \n",
       "\n",
       "     income membership_year  membership_month  membership_day  purchased  \n",
       "0       NaN            2017                 2              12      False  \n",
       "1  112000.0            2017                 7              15      False  \n",
       "2       NaN            2018                 7              12      False  \n",
       "3  100000.0            2017                 5               9       True  \n",
       "4       NaN            2017                 8               4       True  \n",
       "\n",
       "[5 rows x 23 columns]"
      ]
     },
     "execution_count": 8,
     "metadata": {},
     "output_type": "execute_result"
    }
   ],
   "source": [
    "transcript_group.head()"
   ]
  },
  {
   "cell_type": "markdown",
   "metadata": {},
   "source": [
    "### Practical"
   ]
  },
  {
   "cell_type": "code",
   "execution_count": 9,
   "metadata": {},
   "outputs": [],
   "source": [
    "def get_irr(data, offers=np.arange(11)):\n",
    "\n",
    "    purch_treat = data[data.received & data.mapped_offer.isin(offers)].purchased.sum()\n",
    "    cust_treat = len(data[data.received & data.mapped_offer.isin(offers)])\n",
    "\n",
    "    purch_ctrl = data[~data.received].purchased.sum()\n",
    "    cust_ctrl = len(data[~data.received])\n",
    "\n",
    "    irr = (purch_treat / cust_treat) - (purch_ctrl / cust_ctrl)\n",
    "\n",
    "    return irr\n"
   ]
  },
  {
   "cell_type": "code",
   "execution_count": 10,
   "metadata": {},
   "outputs": [
    {
     "name": "stdout",
     "output_type": "stream",
     "text": [
      "IRR: -0.1055434871167969\n"
     ]
    }
   ],
   "source": [
    "irr = get_irr(transcript_group)\n",
    "\n",
    "print(f\"IRR: {irr}\")"
   ]
  },
  {
   "cell_type": "code",
   "execution_count": 11,
   "metadata": {},
   "outputs": [
    {
     "name": "stdout",
     "output_type": "stream",
     "text": [
      "IRR 1: -0.13479241196008662\n",
      "IRR 2: -0.1109132373261395\n",
      "IRR 3: -0.24991971325411924\n",
      "IRR 4: -0.20129270130972365\n",
      "IRR 5: -0.30712326892801645\n",
      "IRR 6: 0.09632446136924949\n",
      "IRR 7: 0.1358330149852241\n",
      "IRR 8: -0.07116258196266673\n",
      "IRR 9: -0.008010322711407447\n",
      "IRR 10: -0.20149500247394614\n"
     ]
    }
   ],
   "source": [
    "for i in range(1,11):\n",
    "    irr = get_irr(transcript_group, [i])\n",
    "\n",
    "    print(f\"IRR {i}: {irr}\")"
   ]
  },
  {
   "cell_type": "code",
   "execution_count": 12,
   "metadata": {},
   "outputs": [],
   "source": [
    "transcript_group.loc[transcript_group.received, \"revenue\"] = transcript_group.amount + transcript_group.non_offer_amount - transcript_group.reward - (transcript_group.email * 0.15 + transcript_group.mobile * 0.15 + transcript_group.social * 0.15 + transcript_group.web * 0.15)\n",
    "transcript_group.loc[~transcript_group.received, \"revenue\"] = transcript_group.non_offer_amount"
   ]
  },
  {
   "cell_type": "code",
   "execution_count": 13,
   "metadata": {},
   "outputs": [],
   "source": [
    "def get_revenue_rate(data, offers=np.arange(11)):\n",
    "    revenue_treat = transcript_group[transcript_group.received & transcript_group.mapped_offer.isin(offers)].revenue.mean()\n",
    "    revenue_ctrl = transcript_group[~transcript_group.received].revenue.mean()\n",
    "\n",
    "    ip = revenue_treat - revenue_ctrl\n",
    "\n",
    "    return ip"
   ]
  },
  {
   "cell_type": "code",
   "execution_count": 14,
   "metadata": {},
   "outputs": [
    {
     "name": "stdout",
     "output_type": "stream",
     "text": [
      "IP : 7.1784033236621685\n"
     ]
    }
   ],
   "source": [
    "ip = get_revenue_rate(transcript_group)\n",
    "print(f\"IP : {ip}\")"
   ]
  },
  {
   "cell_type": "code",
   "execution_count": 15,
   "metadata": {},
   "outputs": [
    {
     "name": "stdout",
     "output_type": "stream",
     "text": [
      "IP 1: 7.23392715709535\n",
      "IP 2: 6.257871047662954\n",
      "IP 3: 4.381981396912231\n",
      "IP 4: 4.2808572214020675\n",
      "IP 5: 3.955309807046355\n",
      "IP 6: 10.958675183277832\n",
      "IP 7: 14.67824528596339\n",
      "IP 8: 5.6624164404595625\n",
      "IP 9: 7.942245372581548\n",
      "IP 10: 6.485186641429111\n"
     ]
    }
   ],
   "source": [
    "for i in range(1, 11):\n",
    "    ip = get_revenue_rate(transcript_group, [i])\n",
    "\n",
    "    print(f\"IP {i}: {ip}\")"
   ]
  },
  {
   "cell_type": "markdown",
   "metadata": {},
   "source": [
    "### Practical"
   ]
  },
  {
   "cell_type": "code",
   "execution_count": 16,
   "metadata": {},
   "outputs": [
    {
     "data": {
      "text/plain": [
       "(102000, 24)"
      ]
     },
     "execution_count": 16,
     "metadata": {},
     "output_type": "execute_result"
    }
   ],
   "source": [
    "transcript_group.shape"
   ]
  },
  {
   "cell_type": "code",
   "execution_count": 57,
   "metadata": {},
   "outputs": [],
   "source": [
    "class ABTest():\n",
    "\n",
    "    def __init__(self, data, col, conv):\n",
    "        self.data = data\n",
    "\n",
    "        self.data_ctrl = data[~data[col]]\n",
    "        self.data_treat = data[data[col]]\n",
    "\n",
    "        self.n_ctrl, self.n_treat = len(self.data_ctrl), len(self.data_treat)\n",
    "\n",
    "        self.c_ctrl, self.c_treat = conv(self.data_ctrl), conv(self.data_treat)\n",
    "\n",
    "        self.p_ctrl = self.c_ctrl / self.n_ctrl\n",
    "        self.p_treat = self.c_treat / self.n_treat\n",
    "\n",
    "    def calculate_practical(self):\n",
    "        return self.p_treat - self.p_ctrl\n",
    "\n",
    "    def calculate_statistical(self):\n",
    "        p_null = (self.c_ctrl + self.c_treat) / (self.n_ctrl + self.n_treat)\n",
    "        se_p = np.sqrt(p_null * (1 - p_null) * (1 / self.n_ctrl + 1 / self.n_treat))\n",
    "\n",
    "        z_score = (self.p_treat - self.p_ctrl) / se_p\n",
    "        p_value = 1 - stats.norm.cdf(z_score)\n",
    "\n",
    "        return se_p, z_score, p_value"
   ]
  },
  {
   "cell_type": "code",
   "execution_count": 63,
   "metadata": {},
   "outputs": [
    {
     "data": {
      "text/plain": [
       "(-0.1055434871167969, (0.0035309910613440043, -29.890612942142024, 1.0))"
      ]
     },
     "execution_count": 63,
     "metadata": {},
     "output_type": "execute_result"
    }
   ],
   "source": [
    "ab = ABTest(transcript_group, \"received\", lambda x: x.purchased.sum())\n",
    "ab.calculate_practical(), ab.calculate_statistical()"
   ]
  },
  {
   "cell_type": "code",
   "execution_count": 66,
   "metadata": {},
   "outputs": [
    {
     "name": "stdout",
     "output_type": "stream",
     "text": [
      "Offer 1: -0.13479241196008662 : (0.006472370403367817, -20.825818604254952, 1.0)\n",
      "Offer 2: -0.1109132373261395 : (0.006501094073535643, -17.060703332634432, 1.0)\n",
      "Offer 3: -0.24991971325411924 : (0.006440354154244457, -38.80527487598052, 1.0)\n",
      "Offer 4: -0.20129270130972365 : (0.006441867206608812, -31.247570751414177, 1.0)\n",
      "Offer 5: -0.30712326892801645 : (0.006393396398164098, -48.03757655574253, 1.0)\n",
      "Offer 6: 0.09632446136924949 : (0.006512738204663402, 14.790163268082388, 0.0)\n",
      "Offer 7: 0.1358330149852241 : (0.006527836419434252, 20.808274940963724, 0.0)\n",
      "Offer 8: -0.07116258196266673 : (0.006502930049393966, -10.943156611272276, 1.0)\n",
      "Offer 9: -0.008010322711407447 : (0.006530192402562932, -1.2266595251104089, 0.8900247068364098)\n",
      "Offer 10: -0.20149500247394614 : (0.006456768639749953, -31.206786818018816, 1.0)\n"
     ]
    }
   ],
   "source": [
    "for i in np.arange(1, 11):\n",
    "    data = transcript_group[(transcript_group.mapped_offer == i) | (~transcript_group.received)]\n",
    "    test = ABTest(data, \"received\", lambda x: x.purchased.sum())\n",
    "    print(f\"Offer {i}: {test.calculate_practical()} : {test.calculate_statistical()}\")"
   ]
  },
  {
   "cell_type": "markdown",
   "metadata": {},
   "source": [
    "We fail to reject the hypothesis. Therefore, the conversion rate is did not improve our conversion rate."
   ]
  },
  {
   "cell_type": "markdown",
   "metadata": {},
   "source": [
    "## Q2: Which demographic more likely more influenced by offers? "
   ]
  },
  {
   "cell_type": "markdown",
   "metadata": {},
   "source": [
    "## Q3: Which type of offer best to a certain demographics?"
   ]
  }
 ],
 "metadata": {
  "interpreter": {
   "hash": "39123923109d28d4cabd67ff5e417bfbc8b47b893b81065aa3bf6c15dd05978d"
  },
  "kernelspec": {
   "display_name": "Python 3.9.7 64-bit ('sb_capstone': conda)",
   "name": "python3"
  },
  "language_info": {
   "codemirror_mode": {
    "name": "ipython",
    "version": 3
   },
   "file_extension": ".py",
   "mimetype": "text/x-python",
   "name": "python",
   "nbconvert_exporter": "python",
   "pygments_lexer": "ipython3",
   "version": "3.9.7"
  },
  "orig_nbformat": 4
 },
 "nbformat": 4,
 "nbformat_minor": 2
}
