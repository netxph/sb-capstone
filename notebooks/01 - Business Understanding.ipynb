{
 "cells": [
  {
   "cell_type": "markdown",
   "metadata": {},
   "source": [
    "# Starbucks Capstone Challenge - Business Understanding"
   ]
  },
  {
   "cell_type": "markdown",
   "metadata": {},
   "source": [
    "## Introduction\n",
    "\n",
    "This study is about the Starbucks Capstone Challenge, provided by Udacity as part of the Data Science Nanodegree final requirements.\n",
    "\n",
    "The data provided are simulations that mimics the customer behaviour on the Starbucks rewards mobile application. For a certain period of time, customers may receives random offers through the app and some customers does not receive any at all.\n",
    "\n",
    "Even though this is just a simulation, the data is somehow close to what is actually happening. This study will still help on how to maximize the revenue and opportunity when sending out offers to customers, as sending these offers to wrong customers will still cost loses to Starbucks."
   ]
  },
  {
   "cell_type": "markdown",
   "metadata": {},
   "source": [
    "## Data\n",
    "\n",
    "For this study, we are limited to the data provided by Udacity. We are provided with 3 datasets in `json` format. Luckily they are in `record` types which is much simpler to convert into observable format.\n",
    "\n",
    "These datasets are:\n",
    "\n",
    "`portfolio.json`\n",
    "- Contains the offers and some details about the offer.\n",
    "\n",
    "`profile.json`\n",
    "- Contains the customer profiles\n",
    "\n",
    "`transcript.json`\n",
    "- Contains events that happened during the simulation."
   ]
  },
  {
   "cell_type": "markdown",
   "metadata": {},
   "source": [
    "## Requirements\n",
    "\n",
    "This project space aims to provide answers and recommendations to the questions below. We will also try to create different models that we can use to improve the Starbucks Mobile app in giving out offers, or provides predictive analytics to the current data we have.\n",
    "\n",
    "Outputs for this project are:\n",
    "\n",
    "* Analysis blog post (evaluation and recommendation)\n",
    "* Model API that we can use\n",
    "* Data analysis notebooks (CRISP-DM)"
   ]
  },
  {
   "cell_type": "markdown",
   "metadata": {},
   "source": [
    "## Questions\n",
    "\n",
    "By the end of this study, we will try to provide answers to the questions below.\n",
    "\n",
    "1. Which offer yields the best results? Factors: influence, revenue.\n",
    "2. Which demographic more likely more influenced by offers? Which are not? Find out as well these demographics.\n",
    "3. Which type of offer best to a certain demographics?\n",
    "\n",
    "Aside from that, we are also going to create models for application use and predictive analysis.\n",
    "\n",
    "1. Predict who receives offer based on demographics\n",
    "2. Predict how much a customer willing to spend based on an offer\n",
    "\n"
   ]
  },
  {
   "cell_type": "markdown",
   "metadata": {},
   "source": [
    "## Glossary\n",
    "\n",
    "Offer\n",
    "- Promotional strategy that a customer can receive\n",
    "\n",
    "Transcript\n",
    "- A log of events that happened during the simulation\n",
    "\n",
    "Difficulty\n",
    "- Minimum required spend to complete an offer\n",
    "\n",
    "Reward\n",
    "- Amount that a customer will receive after completing an offer\n",
    "\n",
    "Channels\n",
    "- Mediums where the offer is going to be sent\n",
    "\n",
    "Demography\n",
    "- Group of customers that shares similar qualities\n",
    "\n",
    "Portfolio\n",
    "- A collection of offers that a customer can receive"
   ]
  }
 ],
 "metadata": {
  "interpreter": {
   "hash": "39123923109d28d4cabd67ff5e417bfbc8b47b893b81065aa3bf6c15dd05978d"
  },
  "kernelspec": {
   "display_name": "Python 3.9.7 64-bit ('sb_capstone': conda)",
   "name": "python3"
  },
  "language_info": {
   "name": "python",
   "version": "3.9.7"
  },
  "orig_nbformat": 4
 },
 "nbformat": 4,
 "nbformat_minor": 2
}
